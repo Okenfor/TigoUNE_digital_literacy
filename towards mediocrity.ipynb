{
 "cells": [
  {
   "cell_type": "code",
   "execution_count": 1,
   "metadata": {},
   "outputs": [
    {
     "data": {
      "text/html": [
       "\n",
       "    <div class=\"bk-root\">\n",
       "        <a href=\"https://bokeh.pydata.org\" target=\"_blank\" class=\"bk-logo bk-logo-small bk-logo-notebook\"></a>\n",
       "        <span id=\"75f1f40c-bd1a-4b1f-b441-9f5877fd8806\">Loading BokehJS ...</span>\n",
       "    </div>"
      ]
     },
     "metadata": {},
     "output_type": "display_data"
    },
    {
     "data": {
      "application/javascript": [
       "\n",
       "(function(root) {\n",
       "  function now() {\n",
       "    return new Date();\n",
       "  }\n",
       "\n",
       "  var force = true;\n",
       "\n",
       "  if (typeof (root._bokeh_onload_callbacks) === \"undefined\" || force === true) {\n",
       "    root._bokeh_onload_callbacks = [];\n",
       "    root._bokeh_is_loading = undefined;\n",
       "  }\n",
       "\n",
       "  var JS_MIME_TYPE = 'application/javascript';\n",
       "  var HTML_MIME_TYPE = 'text/html';\n",
       "  var EXEC_MIME_TYPE = 'application/vnd.bokehjs_exec.v0+json';\n",
       "  var CLASS_NAME = 'output_bokeh rendered_html';\n",
       "\n",
       "  /**\n",
       "   * Render data to the DOM node\n",
       "   */\n",
       "  function render(props, node) {\n",
       "    var script = document.createElement(\"script\");\n",
       "    node.appendChild(script);\n",
       "  }\n",
       "\n",
       "  /**\n",
       "   * Handle when an output is cleared or removed\n",
       "   */\n",
       "  function handleClearOutput(event, handle) {\n",
       "    var cell = handle.cell;\n",
       "\n",
       "    var id = cell.output_area._bokeh_element_id;\n",
       "    var server_id = cell.output_area._bokeh_server_id;\n",
       "    // Clean up Bokeh references\n",
       "    if (id !== undefined) {\n",
       "      Bokeh.index[id].model.document.clear();\n",
       "      delete Bokeh.index[id];\n",
       "    }\n",
       "\n",
       "    if (server_id !== undefined) {\n",
       "      // Clean up Bokeh references\n",
       "      var cmd = \"from bokeh.io.state import curstate; print(curstate().uuid_to_server['\" + server_id + \"'].get_sessions()[0].document.roots[0]._id)\";\n",
       "      cell.notebook.kernel.execute(cmd, {\n",
       "        iopub: {\n",
       "          output: function(msg) {\n",
       "            var element_id = msg.content.text.trim();\n",
       "            Bokeh.index[element_id].model.document.clear();\n",
       "            delete Bokeh.index[element_id];\n",
       "          }\n",
       "        }\n",
       "      });\n",
       "      // Destroy server and session\n",
       "      var cmd = \"import bokeh.io.notebook as ion; ion.destroy_server('\" + server_id + \"')\";\n",
       "      cell.notebook.kernel.execute(cmd);\n",
       "    }\n",
       "  }\n",
       "\n",
       "  /**\n",
       "   * Handle when a new output is added\n",
       "   */\n",
       "  function handleAddOutput(event, handle) {\n",
       "    var output_area = handle.output_area;\n",
       "    var output = handle.output;\n",
       "\n",
       "    // limit handleAddOutput to display_data with EXEC_MIME_TYPE content only\n",
       "    if ((output.output_type != \"display_data\") || (!output.data.hasOwnProperty(EXEC_MIME_TYPE))) {\n",
       "      return\n",
       "    }\n",
       "\n",
       "    var toinsert = output_area.element.find(\".\" + CLASS_NAME.split(' ')[0]);\n",
       "\n",
       "    if (output.metadata[EXEC_MIME_TYPE][\"id\"] !== undefined) {\n",
       "      toinsert[toinsert.length - 1].firstChild.textContent = output.data[JS_MIME_TYPE];\n",
       "      // store reference to embed id on output_area\n",
       "      output_area._bokeh_element_id = output.metadata[EXEC_MIME_TYPE][\"id\"];\n",
       "    }\n",
       "    if (output.metadata[EXEC_MIME_TYPE][\"server_id\"] !== undefined) {\n",
       "      var bk_div = document.createElement(\"div\");\n",
       "      bk_div.innerHTML = output.data[HTML_MIME_TYPE];\n",
       "      var script_attrs = bk_div.children[0].attributes;\n",
       "      for (var i = 0; i < script_attrs.length; i++) {\n",
       "        toinsert[toinsert.length - 1].firstChild.setAttribute(script_attrs[i].name, script_attrs[i].value);\n",
       "      }\n",
       "      // store reference to server id on output_area\n",
       "      output_area._bokeh_server_id = output.metadata[EXEC_MIME_TYPE][\"server_id\"];\n",
       "    }\n",
       "  }\n",
       "\n",
       "  function register_renderer(events, OutputArea) {\n",
       "\n",
       "    function append_mime(data, metadata, element) {\n",
       "      // create a DOM node to render to\n",
       "      var toinsert = this.create_output_subarea(\n",
       "        metadata,\n",
       "        CLASS_NAME,\n",
       "        EXEC_MIME_TYPE\n",
       "      );\n",
       "      this.keyboard_manager.register_events(toinsert);\n",
       "      // Render to node\n",
       "      var props = {data: data, metadata: metadata[EXEC_MIME_TYPE]};\n",
       "      render(props, toinsert[toinsert.length - 1]);\n",
       "      element.append(toinsert);\n",
       "      return toinsert\n",
       "    }\n",
       "\n",
       "    /* Handle when an output is cleared or removed */\n",
       "    events.on('clear_output.CodeCell', handleClearOutput);\n",
       "    events.on('delete.Cell', handleClearOutput);\n",
       "\n",
       "    /* Handle when a new output is added */\n",
       "    events.on('output_added.OutputArea', handleAddOutput);\n",
       "\n",
       "    /**\n",
       "     * Register the mime type and append_mime function with output_area\n",
       "     */\n",
       "    OutputArea.prototype.register_mime_type(EXEC_MIME_TYPE, append_mime, {\n",
       "      /* Is output safe? */\n",
       "      safe: true,\n",
       "      /* Index of renderer in `output_area.display_order` */\n",
       "      index: 0\n",
       "    });\n",
       "  }\n",
       "\n",
       "  // register the mime type if in Jupyter Notebook environment and previously unregistered\n",
       "  if (root.Jupyter !== undefined) {\n",
       "    var events = require('base/js/events');\n",
       "    var OutputArea = require('notebook/js/outputarea').OutputArea;\n",
       "\n",
       "    if (OutputArea.prototype.mime_types().indexOf(EXEC_MIME_TYPE) == -1) {\n",
       "      register_renderer(events, OutputArea);\n",
       "    }\n",
       "  }\n",
       "\n",
       "  \n",
       "  if (typeof (root._bokeh_timeout) === \"undefined\" || force === true) {\n",
       "    root._bokeh_timeout = Date.now() + 5000;\n",
       "    root._bokeh_failed_load = false;\n",
       "  }\n",
       "\n",
       "  var NB_LOAD_WARNING = {'data': {'text/html':\n",
       "     \"<div style='background-color: #fdd'>\\n\"+\n",
       "     \"<p>\\n\"+\n",
       "     \"BokehJS does not appear to have successfully loaded. If loading BokehJS from CDN, this \\n\"+\n",
       "     \"may be due to a slow or bad network connection. Possible fixes:\\n\"+\n",
       "     \"</p>\\n\"+\n",
       "     \"<ul>\\n\"+\n",
       "     \"<li>re-rerun `output_notebook()` to attempt to load from CDN again, or</li>\\n\"+\n",
       "     \"<li>use INLINE resources instead, as so:</li>\\n\"+\n",
       "     \"</ul>\\n\"+\n",
       "     \"<code>\\n\"+\n",
       "     \"from bokeh.resources import INLINE\\n\"+\n",
       "     \"output_notebook(resources=INLINE)\\n\"+\n",
       "     \"</code>\\n\"+\n",
       "     \"</div>\"}};\n",
       "\n",
       "  function display_loaded() {\n",
       "    var el = document.getElementById(\"75f1f40c-bd1a-4b1f-b441-9f5877fd8806\");\n",
       "    if (el != null) {\n",
       "      el.textContent = \"BokehJS is loading...\";\n",
       "    }\n",
       "    if (root.Bokeh !== undefined) {\n",
       "      if (el != null) {\n",
       "        el.textContent = \"BokehJS \" + root.Bokeh.version + \" successfully loaded.\";\n",
       "      }\n",
       "    } else if (Date.now() < root._bokeh_timeout) {\n",
       "      setTimeout(display_loaded, 100)\n",
       "    }\n",
       "  }\n",
       "\n",
       "\n",
       "  function run_callbacks() {\n",
       "    try {\n",
       "      root._bokeh_onload_callbacks.forEach(function(callback) { callback() });\n",
       "    }\n",
       "    finally {\n",
       "      delete root._bokeh_onload_callbacks\n",
       "    }\n",
       "    console.info(\"Bokeh: all callbacks have finished\");\n",
       "  }\n",
       "\n",
       "  function load_libs(js_urls, callback) {\n",
       "    root._bokeh_onload_callbacks.push(callback);\n",
       "    if (root._bokeh_is_loading > 0) {\n",
       "      console.log(\"Bokeh: BokehJS is being loaded, scheduling callback at\", now());\n",
       "      return null;\n",
       "    }\n",
       "    if (js_urls == null || js_urls.length === 0) {\n",
       "      run_callbacks();\n",
       "      return null;\n",
       "    }\n",
       "    console.log(\"Bokeh: BokehJS not loaded, scheduling load and callback at\", now());\n",
       "    root._bokeh_is_loading = js_urls.length;\n",
       "    for (var i = 0; i < js_urls.length; i++) {\n",
       "      var url = js_urls[i];\n",
       "      var s = document.createElement('script');\n",
       "      s.src = url;\n",
       "      s.async = false;\n",
       "      s.onreadystatechange = s.onload = function() {\n",
       "        root._bokeh_is_loading--;\n",
       "        if (root._bokeh_is_loading === 0) {\n",
       "          console.log(\"Bokeh: all BokehJS libraries loaded\");\n",
       "          run_callbacks()\n",
       "        }\n",
       "      };\n",
       "      s.onerror = function() {\n",
       "        console.warn(\"failed to load library \" + url);\n",
       "      };\n",
       "      console.log(\"Bokeh: injecting script tag for BokehJS library: \", url);\n",
       "      document.getElementsByTagName(\"head\")[0].appendChild(s);\n",
       "    }\n",
       "  };var element = document.getElementById(\"75f1f40c-bd1a-4b1f-b441-9f5877fd8806\");\n",
       "  if (element == null) {\n",
       "    console.log(\"Bokeh: ERROR: autoload.js configured with elementid '75f1f40c-bd1a-4b1f-b441-9f5877fd8806' but no matching script tag was found. \")\n",
       "    return false;\n",
       "  }\n",
       "\n",
       "  var js_urls = [\"https://cdn.pydata.org/bokeh/release/bokeh-0.12.16.min.js\", \"https://cdn.pydata.org/bokeh/release/bokeh-widgets-0.12.16.min.js\", \"https://cdn.pydata.org/bokeh/release/bokeh-tables-0.12.16.min.js\", \"https://cdn.pydata.org/bokeh/release/bokeh-gl-0.12.16.min.js\"];\n",
       "\n",
       "  var inline_js = [\n",
       "    function(Bokeh) {\n",
       "      Bokeh.set_log_level(\"info\");\n",
       "    },\n",
       "    \n",
       "    function(Bokeh) {\n",
       "      \n",
       "    },\n",
       "    function(Bokeh) {\n",
       "      console.log(\"Bokeh: injecting CSS: https://cdn.pydata.org/bokeh/release/bokeh-0.12.16.min.css\");\n",
       "      Bokeh.embed.inject_css(\"https://cdn.pydata.org/bokeh/release/bokeh-0.12.16.min.css\");\n",
       "      console.log(\"Bokeh: injecting CSS: https://cdn.pydata.org/bokeh/release/bokeh-widgets-0.12.16.min.css\");\n",
       "      Bokeh.embed.inject_css(\"https://cdn.pydata.org/bokeh/release/bokeh-widgets-0.12.16.min.css\");\n",
       "      console.log(\"Bokeh: injecting CSS: https://cdn.pydata.org/bokeh/release/bokeh-tables-0.12.16.min.css\");\n",
       "      Bokeh.embed.inject_css(\"https://cdn.pydata.org/bokeh/release/bokeh-tables-0.12.16.min.css\");\n",
       "    }\n",
       "  ];\n",
       "\n",
       "  function run_inline_js() {\n",
       "    \n",
       "    if ((root.Bokeh !== undefined) || (force === true)) {\n",
       "      for (var i = 0; i < inline_js.length; i++) {\n",
       "        inline_js[i].call(root, root.Bokeh);\n",
       "      }if (force === true) {\n",
       "        display_loaded();\n",
       "      }} else if (Date.now() < root._bokeh_timeout) {\n",
       "      setTimeout(run_inline_js, 100);\n",
       "    } else if (!root._bokeh_failed_load) {\n",
       "      console.log(\"Bokeh: BokehJS failed to load within specified timeout.\");\n",
       "      root._bokeh_failed_load = true;\n",
       "    } else if (force !== true) {\n",
       "      var cell = $(document.getElementById(\"75f1f40c-bd1a-4b1f-b441-9f5877fd8806\")).parents('.cell').data().cell;\n",
       "      cell.output_area.append_execute_result(NB_LOAD_WARNING)\n",
       "    }\n",
       "\n",
       "  }\n",
       "\n",
       "  if (root._bokeh_is_loading === 0) {\n",
       "    console.log(\"Bokeh: BokehJS loaded, going straight to plotting\");\n",
       "    run_inline_js();\n",
       "  } else {\n",
       "    load_libs(js_urls, function() {\n",
       "      console.log(\"Bokeh: BokehJS plotting callback run at\", now());\n",
       "      run_inline_js();\n",
       "    });\n",
       "  }\n",
       "}(window));"
      ],
      "application/vnd.bokehjs_load.v0+json": "\n(function(root) {\n  function now() {\n    return new Date();\n  }\n\n  var force = true;\n\n  if (typeof (root._bokeh_onload_callbacks) === \"undefined\" || force === true) {\n    root._bokeh_onload_callbacks = [];\n    root._bokeh_is_loading = undefined;\n  }\n\n  \n\n  \n  if (typeof (root._bokeh_timeout) === \"undefined\" || force === true) {\n    root._bokeh_timeout = Date.now() + 5000;\n    root._bokeh_failed_load = false;\n  }\n\n  var NB_LOAD_WARNING = {'data': {'text/html':\n     \"<div style='background-color: #fdd'>\\n\"+\n     \"<p>\\n\"+\n     \"BokehJS does not appear to have successfully loaded. If loading BokehJS from CDN, this \\n\"+\n     \"may be due to a slow or bad network connection. Possible fixes:\\n\"+\n     \"</p>\\n\"+\n     \"<ul>\\n\"+\n     \"<li>re-rerun `output_notebook()` to attempt to load from CDN again, or</li>\\n\"+\n     \"<li>use INLINE resources instead, as so:</li>\\n\"+\n     \"</ul>\\n\"+\n     \"<code>\\n\"+\n     \"from bokeh.resources import INLINE\\n\"+\n     \"output_notebook(resources=INLINE)\\n\"+\n     \"</code>\\n\"+\n     \"</div>\"}};\n\n  function display_loaded() {\n    var el = document.getElementById(\"75f1f40c-bd1a-4b1f-b441-9f5877fd8806\");\n    if (el != null) {\n      el.textContent = \"BokehJS is loading...\";\n    }\n    if (root.Bokeh !== undefined) {\n      if (el != null) {\n        el.textContent = \"BokehJS \" + root.Bokeh.version + \" successfully loaded.\";\n      }\n    } else if (Date.now() < root._bokeh_timeout) {\n      setTimeout(display_loaded, 100)\n    }\n  }\n\n\n  function run_callbacks() {\n    try {\n      root._bokeh_onload_callbacks.forEach(function(callback) { callback() });\n    }\n    finally {\n      delete root._bokeh_onload_callbacks\n    }\n    console.info(\"Bokeh: all callbacks have finished\");\n  }\n\n  function load_libs(js_urls, callback) {\n    root._bokeh_onload_callbacks.push(callback);\n    if (root._bokeh_is_loading > 0) {\n      console.log(\"Bokeh: BokehJS is being loaded, scheduling callback at\", now());\n      return null;\n    }\n    if (js_urls == null || js_urls.length === 0) {\n      run_callbacks();\n      return null;\n    }\n    console.log(\"Bokeh: BokehJS not loaded, scheduling load and callback at\", now());\n    root._bokeh_is_loading = js_urls.length;\n    for (var i = 0; i < js_urls.length; i++) {\n      var url = js_urls[i];\n      var s = document.createElement('script');\n      s.src = url;\n      s.async = false;\n      s.onreadystatechange = s.onload = function() {\n        root._bokeh_is_loading--;\n        if (root._bokeh_is_loading === 0) {\n          console.log(\"Bokeh: all BokehJS libraries loaded\");\n          run_callbacks()\n        }\n      };\n      s.onerror = function() {\n        console.warn(\"failed to load library \" + url);\n      };\n      console.log(\"Bokeh: injecting script tag for BokehJS library: \", url);\n      document.getElementsByTagName(\"head\")[0].appendChild(s);\n    }\n  };var element = document.getElementById(\"75f1f40c-bd1a-4b1f-b441-9f5877fd8806\");\n  if (element == null) {\n    console.log(\"Bokeh: ERROR: autoload.js configured with elementid '75f1f40c-bd1a-4b1f-b441-9f5877fd8806' but no matching script tag was found. \")\n    return false;\n  }\n\n  var js_urls = [\"https://cdn.pydata.org/bokeh/release/bokeh-0.12.16.min.js\", \"https://cdn.pydata.org/bokeh/release/bokeh-widgets-0.12.16.min.js\", \"https://cdn.pydata.org/bokeh/release/bokeh-tables-0.12.16.min.js\", \"https://cdn.pydata.org/bokeh/release/bokeh-gl-0.12.16.min.js\"];\n\n  var inline_js = [\n    function(Bokeh) {\n      Bokeh.set_log_level(\"info\");\n    },\n    \n    function(Bokeh) {\n      \n    },\n    function(Bokeh) {\n      console.log(\"Bokeh: injecting CSS: https://cdn.pydata.org/bokeh/release/bokeh-0.12.16.min.css\");\n      Bokeh.embed.inject_css(\"https://cdn.pydata.org/bokeh/release/bokeh-0.12.16.min.css\");\n      console.log(\"Bokeh: injecting CSS: https://cdn.pydata.org/bokeh/release/bokeh-widgets-0.12.16.min.css\");\n      Bokeh.embed.inject_css(\"https://cdn.pydata.org/bokeh/release/bokeh-widgets-0.12.16.min.css\");\n      console.log(\"Bokeh: injecting CSS: https://cdn.pydata.org/bokeh/release/bokeh-tables-0.12.16.min.css\");\n      Bokeh.embed.inject_css(\"https://cdn.pydata.org/bokeh/release/bokeh-tables-0.12.16.min.css\");\n    }\n  ];\n\n  function run_inline_js() {\n    \n    if ((root.Bokeh !== undefined) || (force === true)) {\n      for (var i = 0; i < inline_js.length; i++) {\n        inline_js[i].call(root, root.Bokeh);\n      }if (force === true) {\n        display_loaded();\n      }} else if (Date.now() < root._bokeh_timeout) {\n      setTimeout(run_inline_js, 100);\n    } else if (!root._bokeh_failed_load) {\n      console.log(\"Bokeh: BokehJS failed to load within specified timeout.\");\n      root._bokeh_failed_load = true;\n    } else if (force !== true) {\n      var cell = $(document.getElementById(\"75f1f40c-bd1a-4b1f-b441-9f5877fd8806\")).parents('.cell').data().cell;\n      cell.output_area.append_execute_result(NB_LOAD_WARNING)\n    }\n\n  }\n\n  if (root._bokeh_is_loading === 0) {\n    console.log(\"Bokeh: BokehJS loaded, going straight to plotting\");\n    run_inline_js();\n  } else {\n    load_libs(js_urls, function() {\n      console.log(\"Bokeh: BokehJS plotting callback run at\", now());\n      run_inline_js();\n    });\n  }\n}(window));"
     },
     "metadata": {},
     "output_type": "display_data"
    }
   ],
   "source": [
    "import pandas as pd\n",
    "import matplotlib.pyplot as plt\n",
    "from ipywidgets import interact, FloatSlider\n",
    "from bokeh.io import output_notebook, push_notebook, show, curdoc\n",
    "from bokeh.plotting import figure\n",
    "from bokeh.models import HoverTool, ColumnDataSource, CategoricalColorMapper, Slider, CustomJS\n",
    "from bokeh.layouts import widgetbox, row, column\n",
    "import numpy as np\n",
    "from sklearn.metrics import mean_squared_error\n",
    "output_notebook()"
   ]
  },
  {
   "cell_type": "code",
   "execution_count": 3,
   "metadata": {},
   "outputs": [
    {
     "data": {
      "text/plain": [
       "dict_keys(['Family', 'Father', 'Mother', 'Gender', 'Height', 'Kids', 'index'])"
      ]
     },
     "execution_count": 3,
     "metadata": {},
     "output_type": "execute_result"
    }
   ],
   "source": [
    "df_galton = pd.read_csv('Galton.txt', sep='\\t')\n",
    "source = ColumnDataSource(df_galton)\n",
    "source.data.keys()"
   ]
  },
  {
   "cell_type": "code",
   "execution_count": 4,
   "metadata": {},
   "outputs": [
    {
     "data": {
      "text/html": [
       "<div>\n",
       "<style scoped>\n",
       "    .dataframe tbody tr th:only-of-type {\n",
       "        vertical-align: middle;\n",
       "    }\n",
       "\n",
       "    .dataframe tbody tr th {\n",
       "        vertical-align: top;\n",
       "    }\n",
       "\n",
       "    .dataframe thead th {\n",
       "        text-align: right;\n",
       "    }\n",
       "</style>\n",
       "<table border=\"1\" class=\"dataframe\">\n",
       "  <thead>\n",
       "    <tr style=\"text-align: right;\">\n",
       "      <th></th>\n",
       "      <th>Family</th>\n",
       "      <th>Father</th>\n",
       "      <th>Mother</th>\n",
       "      <th>Gender</th>\n",
       "      <th>Height</th>\n",
       "      <th>Kids</th>\n",
       "    </tr>\n",
       "  </thead>\n",
       "  <tbody>\n",
       "    <tr>\n",
       "      <th>0</th>\n",
       "      <td>1</td>\n",
       "      <td>78.5</td>\n",
       "      <td>67.0</td>\n",
       "      <td>M</td>\n",
       "      <td>73.2</td>\n",
       "      <td>4</td>\n",
       "    </tr>\n",
       "    <tr>\n",
       "      <th>1</th>\n",
       "      <td>1</td>\n",
       "      <td>78.5</td>\n",
       "      <td>67.0</td>\n",
       "      <td>F</td>\n",
       "      <td>69.2</td>\n",
       "      <td>4</td>\n",
       "    </tr>\n",
       "    <tr>\n",
       "      <th>2</th>\n",
       "      <td>1</td>\n",
       "      <td>78.5</td>\n",
       "      <td>67.0</td>\n",
       "      <td>F</td>\n",
       "      <td>69.0</td>\n",
       "      <td>4</td>\n",
       "    </tr>\n",
       "    <tr>\n",
       "      <th>3</th>\n",
       "      <td>1</td>\n",
       "      <td>78.5</td>\n",
       "      <td>67.0</td>\n",
       "      <td>F</td>\n",
       "      <td>69.0</td>\n",
       "      <td>4</td>\n",
       "    </tr>\n",
       "    <tr>\n",
       "      <th>4</th>\n",
       "      <td>2</td>\n",
       "      <td>75.5</td>\n",
       "      <td>66.5</td>\n",
       "      <td>M</td>\n",
       "      <td>73.5</td>\n",
       "      <td>4</td>\n",
       "    </tr>\n",
       "  </tbody>\n",
       "</table>\n",
       "</div>"
      ],
      "text/plain": [
       "  Family  Father  Mother Gender  Height  Kids\n",
       "0      1    78.5    67.0      M    73.2     4\n",
       "1      1    78.5    67.0      F    69.2     4\n",
       "2      1    78.5    67.0      F    69.0     4\n",
       "3      1    78.5    67.0      F    69.0     4\n",
       "4      2    75.5    66.5      M    73.5     4"
      ]
     },
     "execution_count": 4,
     "metadata": {},
     "output_type": "execute_result"
    }
   ],
   "source": [
    "df_galton.head()"
   ]
  },
  {
   "cell_type": "code",
   "execution_count": 5,
   "metadata": {},
   "outputs": [],
   "source": [
    "hover = HoverTool(tooltips=[(\"(x,y)\", \"($x, $y)\")])\n",
    "mapper = CategoricalColorMapper(factors=['M', 'F'], palette=['green', 'blue'])\n",
    "plot1 = figure(x_axis_label='Father', y_axis_label='Child', plot_width=300, plot_height=300, tools=[hover, 'crosshair', 'box_select, lasso_select', 'pan,box_zoom'])\n",
    "c = plot1.circle('Father', 'Height', source=source, hover_color='red', color={'field': 'Gender', 'transform': mapper})"
   ]
  },
  {
   "cell_type": "code",
   "execution_count": 6,
   "metadata": {},
   "outputs": [],
   "source": [
    "slope, intercept = np.polyfit(df_galton['Father'], df_galton['Height'], deg=1)"
   ]
  },
  {
   "cell_type": "code",
   "execution_count": 7,
   "metadata": {},
   "outputs": [],
   "source": [
    "X = [df_galton['Father'].min(), df_galton['Father'].max()]\n",
    "y = [x * slope + intercept for x in X]\n",
    "line_source = ColumnDataSource({'x':X, 'y':y, 'i': np.repeat(intercept, len(X)), 's':np.repeat(slope, len(X))})\n",
    "l = plot1.line('x', 'y', source=line_source, line_color='orange')"
   ]
  },
  {
   "cell_type": "code",
   "execution_count": 8,
   "metadata": {},
   "outputs": [],
   "source": [
    "weights, step = np.linspace(-1,1.8,100, retstep=True)\n",
    "loss = [mean_squared_error(df_galton['Height'], df_galton['Father'] * slope + intercept) for slope in weights]\n",
    "loss_source = ColumnDataSource({'x':weights, 'y':loss})\n",
    "point_source = ColumnDataSource({'x':[weights[0]], 'y':[loss[0]]})\n",
    "\n",
    "plot2 = figure(x_axis_label='Weights (slopes)', y_axis_label='Loss (Cost/Error)', plot_width=300, plot_height=300, tools=[hover, 'crosshair', 'box_select, lasso_select', 'pan,box_zoom'])\n",
    "l2 = plot2.line('x', 'y', source=loss_source)\n",
    "c2 = plot2.circle('x', 'y', source=point_source, color='red', size=5)"
   ]
  },
  {
   "cell_type": "code",
   "execution_count": 9,
   "metadata": {},
   "outputs": [],
   "source": [
    "callback_slope = CustomJS(args=dict(line=line_source, source=source, point=point_source), code=\"\"\"\n",
    "    var line_data = line.data;\n",
    "    var source_data = source.data;\n",
    "    var point_data = point.data;\n",
    "    var v = cb_obj.value\n",
    "    \n",
    "    var x = line_data['x']\n",
    "    var y = line_data['y']\n",
    "    var i = line_data['i']\n",
    "    var s = line_data['s']\n",
    "    var p1 = point_data['x']\n",
    "    var p2 = point_data['y']\n",
    "    \n",
    "    for (var j = 0; j < x.length; j++) {\n",
    "        s[j] = v\n",
    "        y[j] = x[j] * v + i[j]\n",
    "    }\n",
    "    \n",
    "    father = source_data['Father'];    \n",
    "    y_pred = [];\n",
    "    for (var j = 0; j < father.length; j++) {\n",
    "        y_pred[j] = father[j] * v + i[0]\n",
    "    }\n",
    "    \n",
    "    var sum = 0;\n",
    "    child = source_data['Height'];\n",
    "    for (var j = 0; j < child.length; j++) {\n",
    "        sum = sum + Math.pow((child[j] - y_pred[j]), 2);\n",
    "    }\n",
    "    \n",
    "    for (var j = 0; j < p1.length; j++) {\n",
    "        p1[j] = s[0]\n",
    "        p2[j] = (sum / child.length)\n",
    "    }\n",
    "    \n",
    "    line.change.emit();\n",
    "    point.change.emit();\n",
    "\"\"\")\n",
    "\n",
    "slider_slope = Slider(start=-1, end=1.8, value=1.6, step=step, title=\"slope\")\n",
    "slider_slope.js_on_change('value', callback_slope)"
   ]
  },
  {
   "cell_type": "code",
   "execution_count": 10,
   "metadata": {},
   "outputs": [],
   "source": [
    "callback_intercept = CustomJS(args=dict(line=line_source, source=source, point=point_source), code=\"\"\"\n",
    "    var line_data = line.data;\n",
    "    var source_data = source.data;\n",
    "    var point_data = point.data;\n",
    "    var v = cb_obj.value\n",
    "    \n",
    "    var x = line_data['x']\n",
    "    var y = line_data['y']\n",
    "    var i = line_data['i']\n",
    "    var s = line_data['s']\n",
    "    var p1 = point_data['x']\n",
    "    var p2 = point_data['y']\n",
    "    \n",
    "    for (var j = 0; j < x.length; j++) {\n",
    "        i[j] = v\n",
    "        y[j] = x[j] * s[j] + v\n",
    "    }\n",
    "    \n",
    "    father = source_data['Father'];    \n",
    "    y_pred = [];\n",
    "    for (var j = 0; j < father.length; j++) {\n",
    "        y_pred[j] = father[j] * s[0] + v\n",
    "    }\n",
    "    \n",
    "    var sum = 0;\n",
    "    child = source_data['Height'];\n",
    "    for (var j = 0; j < child.length; j++) {\n",
    "        sum = sum + Math.pow((child[j] - y_pred[j]), 2);\n",
    "    }\n",
    "    \n",
    "    for (var j = 0; j < p1.length; j++) {\n",
    "        p1[j] = s[0]\n",
    "        p2[j] = (sum / child.length)\n",
    "    }\n",
    "    \n",
    "    line.change.emit();\n",
    "    point.change.emit();\n",
    "\"\"\")\n",
    "\n",
    "slider_intercept = Slider(start=0, end=100, value=66, step=1, title=\"intercept\")\n",
    "slider_intercept.js_on_change('value', callback_intercept)"
   ]
  },
  {
   "cell_type": "code",
   "execution_count": 11,
   "metadata": {},
   "outputs": [
    {
     "data": {
      "text/html": [
       "\n",
       "<div class=\"bk-root\">\n",
       "    <div class=\"bk-plotdiv\" id=\"4a9ab09b-50f7-47d0-b331-7739ae81ad2e\"></div>\n",
       "</div>"
      ]
     },
     "metadata": {},
     "output_type": "display_data"
    },
    {
     "data": {
      "application/javascript": [
       "(function(root) {\n",
       "  function embed_document(root) {\n",
       "    \n",
       "  var docs_json = {\"44be1299-3fe3-4817-b190-94239a9948fe\":{\"roots\":{\"references\":[{\"attributes\":{},\"id\":\"b0923c92-4a15-47a3-9258-be1946d65d10\",\"type\":\"BasicTickFormatter\"},{\"attributes\":{},\"id\":\"49c7e93d-7082-4bfc-8e00-015ad8c3aa71\",\"type\":\"UnionRenderers\"},{\"attributes\":{\"callback\":null,\"end\":1.8,\"js_property_callbacks\":{\"change:value\":[{\"id\":\"8040d071-6579-4ceb-be03-2ebbc46c37ae\",\"type\":\"CustomJS\"}]},\"start\":-1,\"step\":0.02828282828282828,\"title\":\"slope\",\"value\":1.6},\"id\":\"6a06c266-5fec-498c-9c66-1a84833c1e34\",\"type\":\"Slider\"},{\"attributes\":{\"plot\":null,\"text\":\"\"},\"id\":\"2c06383c-669c-4a26-a5a3-6af0be2d4e9c\",\"type\":\"Title\"},{\"attributes\":{\"children\":[{\"id\":\"9b673a2a-10ef-4046-84c6-2390138b6287\",\"type\":\"Row\"},{\"id\":\"3fc8827f-7125-4387-911a-011759feb90d\",\"type\":\"Row\"}]},\"id\":\"16f9ce5c-5d6a-4355-8e4a-df07ecf1ac19\",\"type\":\"Column\"},{\"attributes\":{\"plot\":null,\"text\":\"\"},\"id\":\"3f07a6e9-4855-4705-93d7-3729dee182c3\",\"type\":\"Title\"},{\"attributes\":{},\"id\":\"9006effa-9b12-456a-9ff4-19eb0737ad76\",\"type\":\"UnionRenderers\"},{\"attributes\":{\"plot\":{\"id\":\"78c6a168-72d7-4e13-a4ed-06abeec97df3\",\"subtype\":\"Figure\",\"type\":\"Plot\"},\"ticker\":{\"id\":\"4d67dbeb-36dc-47f0-831a-3d9ae6b56dca\",\"type\":\"BasicTicker\"}},\"id\":\"40f0aec0-cca9-4349-b269-1d2d94b17d91\",\"type\":\"Grid\"},{\"attributes\":{},\"id\":\"8fd29bf3-a4dc-46c7-8cc4-1539248a73c7\",\"type\":\"BasicTickFormatter\"},{\"attributes\":{\"callback\":null,\"data\":{\"i\":{\"__ndarray__\":\"6ZLnJyGOQ0DpkucnIY5DQA==\",\"dtype\":\"float64\",\"shape\":[2]},\"s\":{\"__ndarray__\":\"tNfqcHaP2T+01+pwdo/ZPw==\",\"dtype\":\"float64\",\"shape\":[2]},\"x\":[62.0,78.5],\"y\":[63.87202532278641,70.46181621011273]},\"selected\":{\"id\":\"d7962719-648b-4186-8ab4-d48136423f2b\",\"type\":\"Selection\"},\"selection_policy\":{\"id\":\"8177bd12-e3c5-4079-9265-6e52bb0d4eac\",\"type\":\"UnionRenderers\"}},\"id\":\"862558ad-5c28-4cb2-8ee1-884ce61320a2\",\"type\":\"ColumnDataSource\"},{\"attributes\":{},\"id\":\"b9935614-31c7-442c-9bf9-d9a824305479\",\"type\":\"Selection\"},{\"attributes\":{\"line_color\":\"orange\",\"x\":{\"field\":\"x\"},\"y\":{\"field\":\"y\"}},\"id\":\"f05f9187-0ffb-4c1d-95a5-4d9f3b1046ba\",\"type\":\"Line\"},{\"attributes\":{\"callback\":null},\"id\":\"15e341c2-3bcd-4641-996f-a8cf75503b55\",\"type\":\"DataRange1d\"},{\"attributes\":{\"line_alpha\":0.1,\"line_color\":\"#1f77b4\",\"x\":{\"field\":\"x\"},\"y\":{\"field\":\"y\"}},\"id\":\"24c4912f-8fe0-4d9f-8a58-5c0c24fb00f7\",\"type\":\"Line\"},{\"attributes\":{},\"id\":\"1129d4de-28d8-48a8-a6ad-f08a97e62f47\",\"type\":\"BasicTicker\"},{\"attributes\":{\"data_source\":{\"id\":\"862558ad-5c28-4cb2-8ee1-884ce61320a2\",\"type\":\"ColumnDataSource\"},\"glyph\":{\"id\":\"f05f9187-0ffb-4c1d-95a5-4d9f3b1046ba\",\"type\":\"Line\"},\"hover_glyph\":null,\"muted_glyph\":null,\"nonselection_glyph\":{\"id\":\"24c4912f-8fe0-4d9f-8a58-5c0c24fb00f7\",\"type\":\"Line\"},\"selection_glyph\":null,\"view\":{\"id\":\"36145e4c-a3ea-4b92-ac92-51aa871d343c\",\"type\":\"CDSView\"}},\"id\":\"aec1118d-c64c-4beb-be5e-41dc0adbf1ef\",\"type\":\"GlyphRenderer\"},{\"attributes\":{\"source\":{\"id\":\"862558ad-5c28-4cb2-8ee1-884ce61320a2\",\"type\":\"ColumnDataSource\"}},\"id\":\"36145e4c-a3ea-4b92-ac92-51aa871d343c\",\"type\":\"CDSView\"},{\"attributes\":{},\"id\":\"d81c065e-cb3c-49e9-b84c-c021a32b1728\",\"type\":\"LinearScale\"},{\"attributes\":{},\"id\":\"46fe871e-6a37-4d83-a485-13e514062f2e\",\"type\":\"BasicTickFormatter\"},{\"attributes\":{},\"id\":\"ce4b69d4-85f5-4153-a4ce-a88325aebf31\",\"type\":\"LinearScale\"},{\"attributes\":{},\"id\":\"5f3f4ccb-4b12-4d41-8a4e-b4a5ff737d20\",\"type\":\"BasicTickFormatter\"},{\"attributes\":{\"bottom_units\":\"screen\",\"fill_alpha\":{\"value\":0.5},\"fill_color\":{\"value\":\"lightgrey\"},\"left_units\":\"screen\",\"level\":\"overlay\",\"line_alpha\":{\"value\":1.0},\"line_color\":{\"value\":\"black\"},\"line_dash\":[4,4],\"line_width\":{\"value\":2},\"plot\":null,\"render_mode\":\"css\",\"right_units\":\"screen\",\"top_units\":\"screen\"},\"id\":\"e30cb6d7-1909-420e-a6e5-20a1fe23265e\",\"type\":\"BoxAnnotation\"},{\"attributes\":{},\"id\":\"4fa47a3d-d9bd-45df-b886-2cdd241422f8\",\"type\":\"Selection\"},{\"attributes\":{\"callback\":null,\"end\":100,\"js_property_callbacks\":{\"change:value\":[{\"id\":\"4242001c-f94e-45cb-94c8-d7e9f4b96872\",\"type\":\"CustomJS\"}]},\"start\":0,\"title\":\"intercept\",\"value\":66},\"id\":\"f6273304-169e-4e4d-88b3-e22ff061a9a5\",\"type\":\"Slider\"},{\"attributes\":{\"args\":{\"line\":{\"id\":\"862558ad-5c28-4cb2-8ee1-884ce61320a2\",\"type\":\"ColumnDataSource\"},\"point\":{\"id\":\"a9c708ff-dbdf-4232-892e-4375db2b2708\",\"type\":\"ColumnDataSource\"},\"source\":{\"id\":\"f095969f-e4bc-4586-a8e7-be17d4d9bd41\",\"type\":\"ColumnDataSource\"}},\"code\":\"\\n    var line_data = line.data;\\n    var source_data = source.data;\\n    var point_data = point.data;\\n    var v = cb_obj.value\\n    \\n    var x = line_data['x']\\n    var y = line_data['y']\\n    var i = line_data['i']\\n    var s = line_data['s']\\n    var p1 = point_data['x']\\n    var p2 = point_data['y']\\n    \\n    for (var j = 0; j < x.length; j++) {\\n        i[j] = v\\n        y[j] = x[j] * s[j] + v\\n    }\\n    \\n    father = source_data['Father'];    \\n    y_pred = [];\\n    for (var j = 0; j < father.length; j++) {\\n        y_pred[j] = father[j] * s[0] + v\\n    }\\n    \\n    var sum = 0;\\n    child = source_data['Height'];\\n    for (var j = 0; j < child.length; j++) {\\n        sum = sum + Math.pow((child[j] - y_pred[j]), 2);\\n    }\\n    \\n    for (var j = 0; j < p1.length; j++) {\\n        p1[j] = s[0]\\n        p2[j] = (sum / child.length)\\n    }\\n    \\n    line.change.emit();\\n    point.change.emit();\\n\"},\"id\":\"4242001c-f94e-45cb-94c8-d7e9f4b96872\",\"type\":\"CustomJS\"},{\"attributes\":{\"axis_label\":\"Weights (slopes)\",\"formatter\":{\"id\":\"5f3f4ccb-4b12-4d41-8a4e-b4a5ff737d20\",\"type\":\"BasicTickFormatter\"},\"plot\":{\"id\":\"78c6a168-72d7-4e13-a4ed-06abeec97df3\",\"subtype\":\"Figure\",\"type\":\"Plot\"},\"ticker\":{\"id\":\"4d67dbeb-36dc-47f0-831a-3d9ae6b56dca\",\"type\":\"BasicTicker\"}},\"id\":\"43bfb5f4-eb7b-4401-bdf9-7e6a7f1333d3\",\"type\":\"LinearAxis\"},{\"attributes\":{},\"id\":\"4d67dbeb-36dc-47f0-831a-3d9ae6b56dca\",\"type\":\"BasicTicker\"},{\"attributes\":{\"args\":{\"line\":{\"id\":\"862558ad-5c28-4cb2-8ee1-884ce61320a2\",\"type\":\"ColumnDataSource\"},\"point\":{\"id\":\"a9c708ff-dbdf-4232-892e-4375db2b2708\",\"type\":\"ColumnDataSource\"},\"source\":{\"id\":\"f095969f-e4bc-4586-a8e7-be17d4d9bd41\",\"type\":\"ColumnDataSource\"}},\"code\":\"\\n    var line_data = line.data;\\n    var source_data = source.data;\\n    var point_data = point.data;\\n    var v = cb_obj.value\\n    \\n    var x = line_data['x']\\n    var y = line_data['y']\\n    var i = line_data['i']\\n    var s = line_data['s']\\n    var p1 = point_data['x']\\n    var p2 = point_data['y']\\n    \\n    for (var j = 0; j < x.length; j++) {\\n        s[j] = v\\n        y[j] = x[j] * v + i[j]\\n    }\\n    \\n    father = source_data['Father'];    \\n    y_pred = [];\\n    for (var j = 0; j < father.length; j++) {\\n        y_pred[j] = father[j] * v + i[0]\\n    }\\n    \\n    var sum = 0;\\n    child = source_data['Height'];\\n    for (var j = 0; j < child.length; j++) {\\n        sum = sum + Math.pow((child[j] - y_pred[j]), 2);\\n    }\\n    \\n    for (var j = 0; j < p1.length; j++) {\\n        p1[j] = s[0]\\n        p2[j] = (sum / child.length)\\n    }\\n    \\n    line.change.emit();\\n    point.change.emit();\\n\"},\"id\":\"8040d071-6579-4ceb-be03-2ebbc46c37ae\",\"type\":\"CustomJS\"},{\"attributes\":{\"dimension\":1,\"plot\":{\"id\":\"78c6a168-72d7-4e13-a4ed-06abeec97df3\",\"subtype\":\"Figure\",\"type\":\"Plot\"},\"ticker\":{\"id\":\"1129d4de-28d8-48a8-a6ad-f08a97e62f47\",\"type\":\"BasicTicker\"}},\"id\":\"2fed5926-28c0-42f6-b294-a9e54cf2678e\",\"type\":\"Grid\"},{\"attributes\":{\"fill_color\":{\"value\":\"red\"},\"line_color\":{\"value\":\"red\"},\"size\":{\"units\":\"screen\",\"value\":5},\"x\":{\"field\":\"x\"},\"y\":{\"field\":\"y\"}},\"id\":\"12214ff3-ddf4-4c9c-a09f-490b75517ce6\",\"type\":\"Circle\"},{\"attributes\":{\"children\":[{\"id\":\"6a06c266-5fec-498c-9c66-1a84833c1e34\",\"type\":\"Slider\"}]},\"id\":\"634598bd-4efc-405a-b7ea-63cfcef27aba\",\"type\":\"WidgetBox\"},{\"attributes\":{},\"id\":\"711fd240-6668-4468-a5ef-2ad5a5ded516\",\"type\":\"CrosshairTool\"},{\"attributes\":{},\"id\":\"35c15c9a-1c52-44b5-8ea9-d21c8fca18dd\",\"type\":\"Selection\"},{\"attributes\":{},\"id\":\"e589f748-cb5a-4887-869a-e22a87fe4d4d\",\"type\":\"UnionRenderers\"},{\"attributes\":{\"callback\":null,\"overlay\":{\"id\":\"e30cb6d7-1909-420e-a6e5-20a1fe23265e\",\"type\":\"BoxAnnotation\"}},\"id\":\"89271cf5-8bfe-4063-9cc7-70be9cd17349\",\"type\":\"BoxSelectTool\"},{\"attributes\":{\"callback\":null,\"overlay\":{\"id\":\"ff8d9cc9-111b-4c70-9d84-80bd9795a52f\",\"type\":\"PolyAnnotation\"}},\"id\":\"5c5fa05a-11f9-4df2-bed6-2955bee8ee8e\",\"type\":\"LassoSelectTool\"},{\"attributes\":{},\"id\":\"77bd8b2b-ada9-4b93-95db-308c4c799a7d\",\"type\":\"PanTool\"},{\"attributes\":{\"overlay\":{\"id\":\"635e1fad-b43e-47a1-a460-43501251ee1e\",\"type\":\"BoxAnnotation\"}},\"id\":\"fbed533a-559f-4856-985a-96d2605e554d\",\"type\":\"BoxZoomTool\"},{\"attributes\":{\"data_source\":{\"id\":\"aec469c9-d2e2-499e-b418-e25b89bfed66\",\"type\":\"ColumnDataSource\"},\"glyph\":{\"id\":\"0a38410e-5871-49c3-99ef-84a4f6e19f17\",\"type\":\"Line\"},\"hover_glyph\":null,\"muted_glyph\":null,\"nonselection_glyph\":{\"id\":\"e794fdfb-4d1e-4b1c-a20b-fd6b763914a7\",\"type\":\"Line\"},\"selection_glyph\":null,\"view\":{\"id\":\"475431ff-d356-456f-a35c-23bfa99a655b\",\"type\":\"CDSView\"}},\"id\":\"63828bc9-1236-4b86-942c-30cd8a892cc0\",\"type\":\"GlyphRenderer\"},{\"attributes\":{\"line_color\":\"#1f77b4\",\"x\":{\"field\":\"x\"},\"y\":{\"field\":\"y\"}},\"id\":\"0a38410e-5871-49c3-99ef-84a4f6e19f17\",\"type\":\"Line\"},{\"attributes\":{\"fill_alpha\":{\"value\":0.5},\"fill_color\":{\"value\":\"lightgrey\"},\"level\":\"overlay\",\"line_alpha\":{\"value\":1.0},\"line_color\":{\"value\":\"black\"},\"line_dash\":[4,4],\"line_width\":{\"value\":2},\"plot\":null,\"xs_units\":\"screen\",\"ys_units\":\"screen\"},\"id\":\"ff8d9cc9-111b-4c70-9d84-80bd9795a52f\",\"type\":\"PolyAnnotation\"},{\"attributes\":{\"bottom_units\":\"screen\",\"fill_alpha\":{\"value\":0.5},\"fill_color\":{\"value\":\"lightgrey\"},\"left_units\":\"screen\",\"level\":\"overlay\",\"line_alpha\":{\"value\":1.0},\"line_color\":{\"value\":\"black\"},\"line_dash\":[4,4],\"line_width\":{\"value\":2},\"plot\":null,\"render_mode\":\"css\",\"right_units\":\"screen\",\"top_units\":\"screen\"},\"id\":\"635e1fad-b43e-47a1-a460-43501251ee1e\",\"type\":\"BoxAnnotation\"},{\"attributes\":{\"callback\":null,\"renderers\":\"auto\",\"tooltips\":[[\"(x,y)\",\"($x, $y)\"]]},\"id\":\"16d488bc-7ff4-4c4b-bcdb-50f368d56837\",\"type\":\"HoverTool\"},{\"attributes\":{\"fill_alpha\":{\"value\":0.1},\"fill_color\":{\"value\":\"#1f77b4\"},\"line_alpha\":{\"value\":0.1},\"line_color\":{\"value\":\"#1f77b4\"},\"size\":{\"units\":\"screen\",\"value\":5},\"x\":{\"field\":\"x\"},\"y\":{\"field\":\"y\"}},\"id\":\"3fd334b1-97ec-4fc0-9649-11a6ff98acdb\",\"type\":\"Circle\"},{\"attributes\":{\"axis_label\":\"Loss (Cost/Error)\",\"formatter\":{\"id\":\"46fe871e-6a37-4d83-a485-13e514062f2e\",\"type\":\"BasicTickFormatter\"},\"plot\":{\"id\":\"78c6a168-72d7-4e13-a4ed-06abeec97df3\",\"subtype\":\"Figure\",\"type\":\"Plot\"},\"ticker\":{\"id\":\"1129d4de-28d8-48a8-a6ad-f08a97e62f47\",\"type\":\"BasicTicker\"}},\"id\":\"8f72ef3e-1da0-4764-b445-d2319af227e2\",\"type\":\"LinearAxis\"},{\"attributes\":{\"source\":{\"id\":\"a9c708ff-dbdf-4232-892e-4375db2b2708\",\"type\":\"ColumnDataSource\"}},\"id\":\"654af93f-4736-4c2e-9a4c-5bdec5662fa1\",\"type\":\"CDSView\"},{\"attributes\":{\"line_alpha\":0.1,\"line_color\":\"#1f77b4\",\"x\":{\"field\":\"x\"},\"y\":{\"field\":\"y\"}},\"id\":\"e794fdfb-4d1e-4b1c-a20b-fd6b763914a7\",\"type\":\"Line\"},{\"attributes\":{\"factors\":[\"M\",\"F\"],\"palette\":[\"green\",\"blue\"]},\"id\":\"b06c6353-049c-482d-bd55-ef793529e6ab\",\"type\":\"CategoricalColorMapper\"},{\"attributes\":{},\"id\":\"5a484c3b-393e-4ad5-8bc5-58402883c140\",\"type\":\"PanTool\"},{\"attributes\":{\"source\":{\"id\":\"aec469c9-d2e2-499e-b418-e25b89bfed66\",\"type\":\"ColumnDataSource\"}},\"id\":\"475431ff-d356-456f-a35c-23bfa99a655b\",\"type\":\"CDSView\"},{\"attributes\":{\"overlay\":{\"id\":\"f52035fe-d3be-448c-a304-2723e05470fd\",\"type\":\"BoxAnnotation\"}},\"id\":\"f00cab45-ec19-4dbb-90c4-6f2c5eb495a9\",\"type\":\"BoxZoomTool\"},{\"attributes\":{\"callback\":null,\"data\":{\"Family\":[\"1\",\"1\",\"1\",\"1\",\"2\",\"2\",\"2\",\"2\",\"3\",\"3\",\"4\",\"4\",\"4\",\"4\",\"4\",\"5\",\"5\",\"5\",\"5\",\"5\",\"5\",\"6\",\"7\",\"7\",\"7\",\"7\",\"7\",\"7\",\"8\",\"8\",\"8\",\"9\",\"10\",\"11\",\"11\",\"11\",\"11\",\"11\",\"11\",\"11\",\"11\",\"12\",\"14\",\"14\",\"15\",\"15\",\"15\",\"16\",\"16\",\"16\",\"16\",\"16\",\"16\",\"16\",\"16\",\"16\",\"17\",\"17\",\"17\",\"17\",\"17\",\"17\",\"18\",\"18\",\"18\",\"19\",\"20\",\"20\",\"20\",\"20\",\"20\",\"20\",\"20\",\"20\",\"21\",\"21\",\"21\",\"22\",\"22\",\"22\",\"23\",\"23\",\"23\",\"23\",\"23\",\"23\",\"23\",\"24\",\"25\",\"25\",\"26\",\"26\",\"26\",\"26\",\"26\",\"27\",\"27\",\"27\",\"28\",\"28\",\"28\",\"28\",\"28\",\"28\",\"29\",\"29\",\"29\",\"30\",\"31\",\"31\",\"31\",\"31\",\"31\",\"31\",\"32\",\"32\",\"32\",\"32\",\"32\",\"33\",\"33\",\"33\",\"33\",\"33\",\"34\",\"35\",\"35\",\"35\",\"35\",\"35\",\"36\",\"36\",\"36\",\"36\",\"37\",\"37\",\"37\",\"37\",\"38\",\"38\",\"38\",\"38\",\"38\",\"38\",\"39\",\"39\",\"40\",\"40\",\"40\",\"40\",\"40\",\"41\",\"42\",\"42\",\"42\",\"42\",\"42\",\"42\",\"43\",\"43\",\"44\",\"44\",\"45\",\"45\",\"45\",\"46\",\"46\",\"46\",\"46\",\"46\",\"46\",\"46\",\"46\",\"47\",\"47\",\"47\",\"47\",\"48\",\"48\",\"48\",\"49\",\"49\",\"49\",\"49\",\"49\",\"49\",\"49\",\"51\",\"51\",\"52\",\"52\",\"52\",\"52\",\"52\",\"53\",\"53\",\"53\",\"53\",\"53\",\"53\",\"53\",\"53\",\"53\",\"54\",\"54\",\"54\",\"54\",\"55\",\"55\",\"55\",\"55\",\"55\",\"56\",\"56\",\"56\",\"56\",\"56\",\"57\",\"57\",\"57\",\"57\",\"57\",\"58\",\"58\",\"58\",\"58\",\"58\",\"58\",\"58\",\"59\",\"60\",\"60\",\"61\",\"61\",\"61\",\"61\",\"62\",\"62\",\"62\",\"62\",\"62\",\"62\",\"63\",\"64\",\"64\",\"64\",\"64\",\"64\",\"65\",\"66\",\"66\",\"66\",\"66\",\"66\",\"66\",\"66\",\"66\",\"66\",\"66\",\"66\",\"67\",\"67\",\"67\",\"67\",\"68\",\"68\",\"68\",\"68\",\"68\",\"69\",\"69\",\"69\",\"69\",\"69\",\"69\",\"69\",\"69\",\"70\",\"70\",\"70\",\"70\",\"70\",\"71\",\"71\",\"71\",\"71\",\"71\",\"71\",\"72\",\"72\",\"72\",\"72\",\"72\",\"72\",\"72\",\"73\",\"73\",\"73\",\"74\",\"74\",\"75\",\"75\",\"75\",\"75\",\"75\",\"75\",\"75\",\"76\",\"76\",\"76\",\"76\",\"76\",\"76\",\"76\",\"77\",\"77\",\"77\",\"77\",\"78\",\"78\",\"78\",\"78\",\"78\",\"79\",\"79\",\"79\",\"79\",\"79\",\"79\",\"79\",\"79\",\"80\",\"81\",\"81\",\"81\",\"81\",\"82\",\"82\",\"82\",\"82\",\"82\",\"82\",\"82\",\"82\",\"82\",\"83\",\"83\",\"83\",\"83\",\"83\",\"83\",\"83\",\"83\",\"85\",\"85\",\"85\",\"85\",\"85\",\"86\",\"86\",\"86\",\"86\",\"87\",\"87\",\"87\",\"87\",\"88\",\"88\",\"88\",\"88\",\"89\",\"89\",\"89\",\"89\",\"89\",\"89\",\"89\",\"89\",\"90\",\"90\",\"90\",\"90\",\"90\",\"90\",\"90\",\"91\",\"91\",\"91\",\"92\",\"92\",\"93\",\"93\",\"93\",\"93\",\"94\",\"94\",\"95\",\"95\",\"95\",\"96\",\"96\",\"96\",\"96\",\"96\",\"97\",\"97\",\"97\",\"97\",\"97\",\"97\",\"97\",\"97\",\"97\",\"97\",\"98\",\"99\",\"99\",\"99\",\"99\",\"99\",\"99\",\"99\",\"99\",\"100\",\"100\",\"100\",\"101\",\"101\",\"101\",\"101\",\"101\",\"101\",\"102\",\"102\",\"102\",\"102\",\"102\",\"102\",\"103\",\"103\",\"103\",\"103\",\"103\",\"104\",\"104\",\"104\",\"104\",\"105\",\"105\",\"105\",\"105\",\"105\",\"105\",\"106\",\"106\",\"106\",\"106\",\"106\",\"106\",\"106\",\"107\",\"107\",\"107\",\"107\",\"107\",\"107\",\"107\",\"107\",\"107\",\"108\",\"108\",\"108\",\"108\",\"108\",\"108\",\"108\",\"109\",\"109\",\"109\",\"109\",\"109\",\"109\",\"109\",\"110\",\"110\",\"110\",\"110\",\"112\",\"112\",\"112\",\"113\",\"114\",\"114\",\"114\",\"114\",\"114\",\"114\",\"115\",\"115\",\"115\",\"115\",\"115\",\"115\",\"115\",\"116\",\"116\",\"116\",\"117\",\"118\",\"118\",\"118\",\"119\",\"119\",\"119\",\"119\",\"119\",\"121\",\"121\",\"121\",\"121\",\"121\",\"121\",\"121\",\"121\",\"122\",\"122\",\"122\",\"122\",\"123\",\"123\",\"123\",\"123\",\"123\",\"124\",\"124\",\"124\",\"124\",\"124\",\"124\",\"124\",\"124\",\"124\",\"125\",\"125\",\"125\",\"126\",\"126\",\"126\",\"126\",\"127\",\"128\",\"128\",\"129\",\"129\",\"129\",\"130\",\"130\",\"130\",\"130\",\"130\",\"130\",\"130\",\"130\",\"130\",\"130\",\"131\",\"131\",\"132\",\"132\",\"133\",\"133\",\"133\",\"133\",\"133\",\"133\",\"133\",\"134\",\"134\",\"134\",\"134\",\"135\",\"135\",\"135\",\"135\",\"135\",\"135\",\"135\",\"135\",\"136\",\"136\",\"136\",\"136\",\"136\",\"136\",\"136\",\"136\",\"136\",\"136\",\"137\",\"137\",\"137\",\"137\",\"138\",\"138\",\"138\",\"138\",\"138\",\"139\",\"140\",\"140\",\"140\",\"140\",\"140\",\"140\",\"140\",\"140\",\"140\",\"140\",\"141\",\"141\",\"141\",\"141\",\"141\",\"141\",\"141\",\"141\",\"142\",\"142\",\"142\",\"142\",\"143\",\"144\",\"144\",\"144\",\"144\",\"145\",\"145\",\"145\",\"145\",\"145\",\"145\",\"145\",\"145\",\"146\",\"146\",\"146\",\"146\",\"146\",\"146\",\"147\",\"148\",\"149\",\"149\",\"149\",\"149\",\"149\",\"150\",\"151\",\"151\",\"152\",\"153\",\"153\",\"153\",\"153\",\"153\",\"154\",\"155\",\"155\",\"155\",\"155\",\"155\",\"155\",\"155\",\"156\",\"156\",\"156\",\"156\",\"157\",\"158\",\"158\",\"158\",\"158\",\"158\",\"158\",\"158\",\"158\",\"158\",\"158\",\"159\",\"159\",\"159\",\"159\",\"159\",\"160\",\"162\",\"162\",\"162\",\"162\",\"162\",\"162\",\"163\",\"163\",\"163\",\"163\",\"163\",\"164\",\"164\",\"164\",\"164\",\"165\",\"165\",\"165\",\"166\",\"166\",\"166\",\"166\",\"166\",\"166\",\"166\",\"166\",\"166\",\"166\",\"166\",\"167\",\"167\",\"167\",\"167\",\"168\",\"168\",\"168\",\"168\",\"168\",\"168\",\"168\",\"168\",\"169\",\"169\",\"169\",\"170\",\"170\",\"170\",\"170\",\"170\",\"171\",\"172\",\"172\",\"172\",\"172\",\"172\",\"172\",\"172\",\"172\",\"173\",\"173\",\"173\",\"173\",\"173\",\"173\",\"173\",\"173\",\"173\",\"174\",\"174\",\"174\",\"174\",\"174\",\"175\",\"175\",\"175\",\"175\",\"175\",\"175\",\"176\",\"176\",\"176\",\"176\",\"176\",\"176\",\"176\",\"176\",\"177\",\"177\",\"177\",\"177\",\"177\",\"178\",\"179\",\"179\",\"180\",\"180\",\"180\",\"180\",\"180\",\"180\",\"181\",\"181\",\"181\",\"181\",\"181\",\"181\",\"181\",\"182\",\"183\",\"183\",\"183\",\"183\",\"184\",\"185\",\"185\",\"185\",\"185\",\"185\",\"185\",\"185\",\"185\",\"185\",\"185\",\"185\",\"185\",\"185\",\"185\",\"185\",\"186\",\"186\",\"186\",\"186\",\"187\",\"188\",\"188\",\"188\",\"188\",\"190\",\"190\",\"190\",\"190\",\"190\",\"190\",\"190\",\"190\",\"190\",\"191\",\"191\",\"192\",\"192\",\"192\",\"192\",\"192\",\"192\",\"193\",\"193\",\"193\",\"193\",\"193\",\"193\",\"194\",\"194\",\"195\",\"195\",\"195\",\"196\",\"196\",\"196\",\"196\",\"197\",\"197\",\"197\",\"197\",\"197\",\"198\",\"198\",\"198\",\"198\",\"198\",\"198\",\"198\",\"199\",\"199\",\"199\",\"199\",\"199\",\"199\",\"199\",\"200\",\"201\",\"201\",\"203\",\"203\",\"203\",\"204\",\"204\",\"136A\",\"136A\",\"136A\",\"136A\",\"136A\",\"136A\",\"136A\",\"136A\"],\"Father\":{\"__ndarray__\":\"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\",\"dtype\":\"float64\",\"shape\":[898]},\"Gender\":[\"M\",\"F\",\"F\",\"F\",\"M\",\"M\",\"F\",\"F\",\"M\",\"F\",\"M\",\"M\",\"F\",\"F\",\"F\",\"M\",\"M\",\"M\",\"F\",\"F\",\"F\",\"F\",\"M\",\"M\",\"M\",\"M\",\"F\",\"F\",\"F\",\"F\",\"F\",\"F\",\"F\",\"M\",\"M\",\"F\",\"F\",\"F\",\"F\",\"F\",\"F\",\"F\",\"M\",\"M\",\"M\",\"M\",\"F\",\"M\",\"M\",\"M\",\"M\",\"M\",\"F\",\"F\",\"F\",\"F\",\"M\",\"M\",\"M\",\"M\",\"F\",\"F\",\"F\",\"F\",\"F\",\"F\",\"M\",\"M\",\"M\",\"F\",\"F\",\"F\",\"F\",\"F\",\"M\",\"F\",\"F\",\"M\",\"M\",\"F\",\"M\",\"M\",\"M\",\"F\",\"F\",\"F\",\"F\",\"F\",\"F\",\"F\",\"M\",\"M\",\"M\",\"F\",\"F\",\"M\",\"M\",\"F\",\"M\",\"M\",\"F\",\"F\",\"F\",\"F\",\"F\",\"F\",\"F\",\"F\",\"M\",\"M\",\"M\",\"F\",\"F\",\"F\",\"M\",\"M\",\"M\",\"F\",\"F\",\"M\",\"M\",\"M\",\"M\",\"F\",\"F\",\"M\",\"M\",\"M\",\"M\",\"F\",\"M\",\"M\",\"M\",\"F\",\"M\",\"F\",\"F\",\"F\",\"M\",\"M\",\"M\",\"F\",\"F\",\"F\",\"M\",\"F\",\"M\",\"M\",\"M\",\"M\",\"F\",\"M\",\"M\",\"M\",\"M\",\"M\",\"F\",\"F\",\"M\",\"F\",\"M\",\"M\",\"M\",\"M\",\"F\",\"F\",\"F\",\"F\",\"F\",\"F\",\"F\",\"F\",\"F\",\"M\",\"M\",\"M\",\"F\",\"M\",\"M\",\"M\",\"M\",\"M\",\"M\",\"F\",\"F\",\"F\",\"F\",\"F\",\"F\",\"M\",\"M\",\"F\",\"F\",\"F\",\"M\",\"M\",\"M\",\"M\",\"F\",\"F\",\"F\",\"F\",\"F\",\"M\",\"M\",\"M\",\"F\",\"M\",\"M\",\"F\",\"F\",\"F\",\"M\",\"M\",\"M\",\"F\",\"F\",\"M\",\"F\",\"F\",\"F\",\"F\",\"M\",\"M\",\"M\",\"M\",\"M\",\"F\",\"F\",\"F\",\"M\",\"M\",\"M\",\"M\",\"M\",\"F\",\"M\",\"M\",\"F\",\"F\",\"F\",\"F\",\"M\",\"M\",\"M\",\"F\",\"F\",\"F\",\"F\",\"M\",\"M\",\"M\",\"M\",\"F\",\"F\",\"F\",\"F\",\"F\",\"F\",\"F\",\"M\",\"M\",\"M\",\"M\",\"F\",\"F\",\"F\",\"F\",\"F\",\"M\",\"M\",\"M\",\"M\",\"M\",\"F\",\"F\",\"F\",\"M\",\"M\",\"F\",\"F\",\"F\",\"M\",\"M\",\"F\",\"F\",\"F\",\"F\",\"M\",\"M\",\"M\",\"F\",\"F\",\"F\",\"F\",\"M\",\"M\",\"F\",\"M\",\"M\",\"M\",\"M\",\"M\",\"F\",\"F\",\"F\",\"F\",\"M\",\"M\",\"M\",\"M\",\"M\",\"M\",\"F\",\"M\",\"M\",\"M\",\"F\",\"M\",\"M\",\"F\",\"F\",\"F\",\"M\",\"M\",\"M\",\"M\",\"M\",\"M\",\"F\",\"F\",\"F\",\"M\",\"F\",\"F\",\"F\",\"M\",\"M\",\"M\",\"M\",\"M\",\"M\",\"F\",\"F\",\"F\",\"M\",\"M\",\"M\",\"F\",\"F\",\"F\",\"F\",\"F\",\"M\",\"M\",\"M\",\"F\",\"F\",\"M\",\"M\",\"F\",\"F\",\"M\",\"M\",\"F\",\"F\",\"M\",\"M\",\"F\",\"F\",\"M\",\"M\",\"M\",\"M\",\"M\",\"F\",\"F\",\"F\",\"M\",\"M\",\"M\",\"M\",\"F\",\"F\",\"F\",\"M\",\"M\",\"F\",\"M\",\"M\",\"M\",\"M\",\"F\",\"F\",\"F\",\"F\",\"M\",\"M\",\"F\",\"M\",\"M\",\"F\",\"F\",\"F\",\"M\",\"M\",\"M\",\"F\",\"F\",\"F\",\"F\",\"F\",\"F\",\"F\",\"F\",\"M\",\"M\",\"M\",\"M\",\"F\",\"F\",\"F\",\"F\",\"M\",\"M\",\"M\",\"M\",\"M\",\"M\",\"M\",\"M\",\"M\",\"M\",\"M\",\"M\",\"F\",\"F\",\"F\",\"M\",\"M\",\"M\",\"M\",\"F\",\"M\",\"M\",\"F\",\"F\",\"M\",\"F\",\"F\",\"F\",\"F\",\"F\",\"M\",\"M\",\"M\",\"M\",\"F\",\"F\",\"F\",\"M\",\"M\",\"M\",\"M\",\"F\",\"F\",\"F\",\"F\",\"F\",\"M\",\"M\",\"M\",\"F\",\"F\",\"F\",\"F\",\"M\",\"M\",\"M\",\"F\",\"F\",\"F\",\"F\",\"M\",\"M\",\"F\",\"F\",\"M\",\"F\",\"F\",\"M\",\"M\",\"M\",\"M\",\"M\",\"F\",\"F\",\"M\",\"M\",\"M\",\"F\",\"F\",\"F\",\"F\",\"M\",\"F\",\"F\",\"F\",\"M\",\"M\",\"M\",\"M\",\"M\",\"M\",\"M\",\"F\",\"M\",\"M\",\"M\",\"M\",\"F\",\"F\",\"F\",\"F\",\"M\",\"M\",\"F\",\"F\",\"M\",\"M\",\"M\",\"F\",\"F\",\"M\",\"M\",\"M\",\"M\",\"M\",\"M\",\"F\",\"F\",\"F\",\"M\",\"F\",\"F\",\"M\",\"M\",\"F\",\"F\",\"M\",\"M\",\"F\",\"M\",\"M\",\"F\",\"M\",\"M\",\"M\",\"M\",\"M\",\"M\",\"M\",\"M\",\"M\",\"F\",\"M\",\"M\",\"M\",\"F\",\"M\",\"M\",\"M\",\"M\",\"F\",\"F\",\"F\",\"M\",\"M\",\"F\",\"F\",\"M\",\"M\",\"M\",\"M\",\"F\",\"F\",\"F\",\"F\",\"M\",\"M\",\"M\",\"M\",\"F\",\"F\",\"F\",\"F\",\"F\",\"F\",\"M\",\"M\",\"F\",\"F\",\"M\",\"M\",\"M\",\"M\",\"F\",\"F\",\"M\",\"M\",\"M\",\"F\",\"F\",\"F\",\"F\",\"F\",\"F\",\"F\",\"M\",\"M\",\"M\",\"M\",\"M\",\"F\",\"F\",\"F\",\"M\",\"M\",\"M\",\"F\",\"M\",\"M\",\"M\",\"F\",\"F\",\"M\",\"M\",\"M\",\"M\",\"M\",\"F\",\"F\",\"F\",\"M\",\"M\",\"M\",\"F\",\"F\",\"F\",\"M\",\"M\",\"M\",\"M\",\"M\",\"M\",\"F\",\"M\",\"M\",\"F\",\"M\",\"M\",\"M\",\"M\",\"F\",\"F\",\"M\",\"M\",\"F\",\"F\",\"F\",\"F\",\"F\",\"F\",\"M\",\"M\",\"M\",\"F\",\"M\",\"M\",\"M\",\"M\",\"M\",\"M\",\"M\",\"F\",\"F\",\"F\",\"F\",\"M\",\"M\",\"M\",\"F\",\"F\",\"M\",\"M\",\"M\",\"F\",\"F\",\"F\",\"F\",\"M\",\"M\",\"F\",\"F\",\"F\",\"M\",\"M\",\"F\",\"F\",\"M\",\"F\",\"F\",\"M\",\"M\",\"F\",\"F\",\"F\",\"F\",\"F\",\"F\",\"F\",\"F\",\"F\",\"M\",\"M\",\"M\",\"M\",\"M\",\"M\",\"M\",\"M\",\"M\",\"M\",\"M\",\"F\",\"M\",\"M\",\"F\",\"M\",\"M\",\"M\",\"M\",\"F\",\"M\",\"M\",\"M\",\"M\",\"M\",\"M\",\"F\",\"F\",\"F\",\"M\",\"M\",\"M\",\"F\",\"F\",\"F\",\"F\",\"F\",\"F\",\"M\",\"M\",\"F\",\"F\",\"F\",\"M\",\"M\",\"F\",\"F\",\"F\",\"F\",\"M\",\"M\",\"M\",\"M\",\"F\",\"F\",\"F\",\"F\",\"M\",\"M\",\"M\",\"F\",\"F\",\"M\",\"F\",\"F\",\"M\",\"M\",\"M\",\"F\",\"F\",\"F\",\"M\",\"M\",\"F\",\"F\",\"F\",\"F\",\"F\",\"M\",\"M\",\"M\",\"M\",\"F\",\"M\",\"M\",\"M\",\"M\",\"M\",\"M\",\"M\",\"M\",\"F\",\"F\",\"F\",\"F\",\"F\",\"F\",\"F\",\"F\",\"M\",\"M\",\"M\",\"F\",\"F\",\"M\",\"F\",\"F\",\"F\",\"M\",\"M\",\"M\",\"F\",\"F\",\"F\",\"F\",\"F\",\"F\",\"M\",\"F\",\"M\",\"M\",\"M\",\"M\",\"F\",\"F\",\"M\",\"M\",\"F\",\"F\",\"F\",\"F\",\"M\",\"F\",\"M\",\"M\",\"F\",\"M\",\"M\",\"M\",\"F\",\"M\",\"M\",\"M\",\"M\",\"F\",\"M\",\"M\",\"F\",\"F\",\"F\",\"F\",\"F\",\"M\",\"M\",\"F\",\"F\",\"F\",\"F\",\"F\",\"M\",\"M\",\"F\",\"M\",\"F\",\"F\",\"M\",\"F\",\"M\",\"M\",\"M\",\"M\",\"M\",\"F\",\"F\",\"F\"],\"Height\":{\"__ndarray__\":\"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\",\"dtype\":\"float64\",\"shape\":[898]},\"Kids\":[4,4,4,4,4,4,4,4,2,2,5,5,5,5,5,6,6,6,6,6,6,1,6,6,6,6,6,6,3,3,3,1,1,8,8,8,8,8,8,8,8,1,2,2,3,3,3,9,9,9,9,9,9,9,9,9,6,6,6,6,6,6,3,3,3,1,8,8,8,8,8,8,8,8,3,3,3,3,3,3,7,7,7,7,7,7,7,1,2,2,5,5,5,5,5,3,3,3,6,6,6,6,6,6,3,3,3,1,6,6,6,6,6,6,5,5,5,5,5,5,5,5,5,5,1,5,5,5,5,5,4,4,4,4,4,4,4,4,6,6,6,6,6,6,2,2,5,5,5,5,5,1,6,6,6,6,6,6,2,2,2,2,3,3,3,8,8,8,8,8,8,8,8,4,4,4,4,3,3,3,7,7,7,7,7,7,7,2,2,5,5,5,5,5,9,9,9,9,9,9,9,9,9,4,4,4,4,5,5,5,5,5,5,5,5,5,5,5,5,5,5,5,7,7,7,7,7,7,7,1,2,2,4,4,4,4,6,6,6,6,6,6,1,5,5,5,5,5,1,11,11,11,11,11,11,11,11,11,11,11,4,4,4,4,5,5,5,5,5,8,8,8,8,8,8,8,8,5,5,5,5,5,6,6,6,6,6,6,7,7,7,7,7,7,7,3,3,3,2,2,7,7,7,7,7,7,7,7,7,7,7,7,7,7,4,4,4,4,5,5,5,5,5,8,8,8,8,8,8,8,8,1,4,4,4,4,9,9,9,9,9,9,9,9,9,8,8,8,8,8,8,8,8,5,5,5,5,5,4,4,4,4,4,4,4,4,4,4,4,4,8,8,8,8,8,8,8,8,7,7,7,7,7,7,7,3,3,3,2,2,4,4,4,4,2,2,3,3,3,5,5,5,5,5,10,10,10,10,10,10,10,10,10,10,1,8,8,8,8,8,8,8,8,3,3,3,6,6,6,6,6,6,6,6,6,6,6,6,5,5,5,5,5,4,4,4,4,6,6,6,6,6,6,7,7,7,7,7,7,7,9,9,9,9,9,9,9,9,9,7,7,7,7,7,7,7,7,7,7,7,7,7,7,4,4,4,4,3,3,3,1,6,6,6,6,6,6,7,7,7,7,7,7,7,3,3,3,1,3,3,3,5,5,5,5,5,8,8,8,8,8,8,8,8,4,4,4,4,5,5,5,5,5,9,9,9,9,9,9,9,9,9,3,3,3,4,4,4,4,1,2,2,3,3,3,11,11,11,11,11,11,11,11,11,11,2,2,2,2,7,7,7,7,7,7,7,4,4,4,4,8,8,8,8,8,8,8,8,10,10,10,10,10,10,10,10,10,10,4,4,4,4,5,5,5,5,5,1,10,10,10,10,10,10,10,10,10,10,8,8,8,8,8,8,8,8,4,4,4,4,1,4,4,4,4,8,8,8,8,8,8,8,8,6,6,6,6,6,6,1,1,5,5,5,5,5,1,2,2,1,5,5,5,5,5,1,7,7,7,7,7,7,7,4,4,4,4,1,10,10,10,10,10,10,10,10,10,10,5,5,5,5,5,1,6,6,6,6,6,6,5,5,5,5,5,4,4,4,4,3,3,3,11,11,11,11,11,11,11,11,11,11,11,4,4,4,4,8,8,8,8,8,8,8,8,3,3,3,5,5,5,5,5,1,8,8,8,8,8,8,8,8,9,9,9,9,9,9,9,9,9,5,5,5,5,5,6,6,6,6,6,6,8,8,8,8,8,8,8,8,5,5,5,5,5,1,2,2,6,6,6,6,6,6,7,7,7,7,7,7,7,1,4,4,4,4,1,15,15,15,15,15,15,15,15,15,15,15,15,15,15,15,4,4,4,4,1,4,4,4,4,9,9,9,9,9,9,9,9,9,2,2,6,6,6,6,6,6,6,6,6,6,6,6,2,2,3,3,3,4,4,4,4,5,5,5,5,5,7,7,7,7,7,7,7,7,7,7,7,7,7,7,1,2,2,3,3,3,2,2,8,8,8,8,8,8,8,8],\"Mother\":{\"__ndarray__\":\"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\",\"dtype\":\"float64\",\"shape\":[898]},\"index\":[0,1,2,3,4,5,6,7,8,9,10,11,12,13,14,15,16,17,18,19,20,21,22,23,24,25,26,27,28,29,30,31,32,33,34,35,36,37,38,39,40,41,42,43,44,45,46,47,48,49,50,51,52,53,54,55,56,57,58,59,60,61,62,63,64,65,66,67,68,69,70,71,72,73,74,75,76,77,78,79,80,81,82,83,84,85,86,87,88,89,90,91,92,93,94,95,96,97,98,99,100,101,102,103,104,105,106,107,108,109,110,111,112,113,114,115,116,117,118,119,120,121,122,123,124,125,126,127,128,129,130,131,132,133,134,135,136,137,138,139,140,141,142,143,144,145,146,147,148,149,150,151,152,153,154,155,156,157,158,159,160,161,162,163,164,165,166,167,168,169,170,171,172,173,174,175,176,177,178,179,180,181,182,183,184,185,186,187,188,189,190,191,192,193,194,195,196,197,198,199,200,201,202,203,204,205,206,207,208,209,210,211,212,213,214,215,216,217,218,219,220,221,222,223,224,225,226,227,228,229,230,231,232,233,234,235,236,237,238,239,240,241,242,243,244,245,246,247,248,249,250,251,252,253,254,255,256,257,258,259,260,261,262,263,264,265,266,267,268,269,270,271,272,273,274,275,276,277,278,279,280,281,282,283,284,285,286,287,288,289,290,291,292,293,294,295,296,297,298,299,300,301,302,303,304,305,306,307,308,309,310,311,312,313,314,315,316,317,318,319,320,321,322,323,324,325,326,327,328,329,330,331,332,333,334,335,336,337,338,339,340,341,342,343,344,345,346,347,348,349,350,351,352,353,354,355,356,357,358,359,360,361,362,363,364,365,366,367,368,369,370,371,372,373,374,375,376,377,378,379,380,381,382,383,384,385,386,387,388,389,390,391,392,393,394,395,396,397,398,399,400,401,402,403,404,405,406,407,408,409,410,411,412,413,414,415,416,417,418,419,420,421,422,423,424,425,426,427,428,429,430,431,432,433,434,435,436,437,438,439,440,441,442,443,444,445,446,447,448,449,450,451,452,453,454,455,456,457,458,459,460,461,462,463,464,465,466,467,468,469,470,471,472,473,474,475,476,477,478,479,480,481,482,483,484,485,486,487,488,489,490,491,492,493,494,495,496,497,498,499,500,501,502,503,504,505,506,507,508,509,510,511,512,513,514,515,516,517,518,519,520,521,522,523,524,525,526,527,528,529,530,531,532,533,534,535,536,537,538,539,540,541,542,543,544,545,546,547,548,549,550,551,552,553,554,555,556,557,558,559,560,561,562,563,564,565,566,567,568,569,570,571,572,573,574,575,576,577,578,579,580,581,582,583,584,585,586,587,588,589,590,591,592,593,594,595,596,597,598,599,600,601,602,603,604,605,606,607,608,609,610,611,612,613,614,615,616,617,618,619,620,621,622,623,624,625,626,627,628,629,630,631,632,633,634,635,636,637,638,639,640,641,642,643,644,645,646,647,648,649,650,651,652,653,654,655,656,657,658,659,660,661,662,663,664,665,666,667,668,669,670,671,672,673,674,675,676,677,678,679,680,681,682,683,684,685,686,687,688,689,690,691,692,693,694,695,696,697,698,699,700,701,702,703,704,705,706,707,708,709,710,711,712,713,714,715,716,717,718,719,720,721,722,723,724,725,726,727,728,729,730,731,732,733,734,735,736,737,738,739,740,741,742,743,744,745,746,747,748,749,750,751,752,753,754,755,756,757,758,759,760,761,762,763,764,765,766,767,768,769,770,771,772,773,774,775,776,777,778,779,780,781,782,783,784,785,786,787,788,789,790,791,792,793,794,795,796,797,798,799,800,801,802,803,804,805,806,807,808,809,810,811,812,813,814,815,816,817,818,819,820,821,822,823,824,825,826,827,828,829,830,831,832,833,834,835,836,837,838,839,840,841,842,843,844,845,846,847,848,849,850,851,852,853,854,855,856,857,858,859,860,861,862,863,864,865,866,867,868,869,870,871,872,873,874,875,876,877,878,879,880,881,882,883,884,885,886,887,888,889,890,891,892,893,894,895,896,897]},\"selected\":{\"id\":\"b9935614-31c7-442c-9bf9-d9a824305479\",\"type\":\"Selection\"},\"selection_policy\":{\"id\":\"49c7e93d-7082-4bfc-8e00-015ad8c3aa71\",\"type\":\"UnionRenderers\"}},\"id\":\"f095969f-e4bc-4586-a8e7-be17d4d9bd41\",\"type\":\"ColumnDataSource\"},{\"attributes\":{\"below\":[{\"id\":\"856e6137-5cd5-484b-a8be-b218ab33913c\",\"type\":\"LinearAxis\"}],\"left\":[{\"id\":\"7b0da147-9cbf-40d8-a99f-eeb60af49ce6\",\"type\":\"LinearAxis\"}],\"plot_height\":300,\"plot_width\":300,\"renderers\":[{\"id\":\"856e6137-5cd5-484b-a8be-b218ab33913c\",\"type\":\"LinearAxis\"},{\"id\":\"a1d7522b-99fe-4152-b062-6a522c51a8e6\",\"type\":\"Grid\"},{\"id\":\"7b0da147-9cbf-40d8-a99f-eeb60af49ce6\",\"type\":\"LinearAxis\"},{\"id\":\"1b6aace9-332c-437f-9e99-067a74aeaad1\",\"type\":\"Grid\"},{\"id\":\"8f509ccf-80c5-442d-a162-0a3592ea89f8\",\"type\":\"BoxAnnotation\"},{\"id\":\"b3f79dbc-f52b-4999-ba65-f9634675daa0\",\"type\":\"PolyAnnotation\"},{\"id\":\"f52035fe-d3be-448c-a304-2723e05470fd\",\"type\":\"BoxAnnotation\"},{\"id\":\"5330ee0f-1730-4f30-9e69-95d2b8c7f557\",\"type\":\"GlyphRenderer\"},{\"id\":\"aec1118d-c64c-4beb-be5e-41dc0adbf1ef\",\"type\":\"GlyphRenderer\"}],\"title\":{\"id\":\"3f07a6e9-4855-4705-93d7-3729dee182c3\",\"type\":\"Title\"},\"toolbar\":{\"id\":\"0672f59a-4399-4b8d-95a9-4449e4dd01d2\",\"type\":\"Toolbar\"},\"x_range\":{\"id\":\"dde46f6b-2ac1-4159-8e99-01fc97e0a32d\",\"type\":\"DataRange1d\"},\"x_scale\":{\"id\":\"aa605e1f-c3a4-473f-8027-a5068c5b63e6\",\"type\":\"LinearScale\"},\"y_range\":{\"id\":\"ea91164b-e5e8-4573-a5ea-5b61f70f480a\",\"type\":\"DataRange1d\"},\"y_scale\":{\"id\":\"4c3476b3-370d-4a35-a763-313601fdcc9e\",\"type\":\"LinearScale\"}},\"id\":\"68a524a5-2467-441b-a4d0-bd6061ce576c\",\"subtype\":\"Figure\",\"type\":\"Plot\"},{\"attributes\":{\"active_drag\":\"auto\",\"active_inspect\":\"auto\",\"active_scroll\":\"auto\",\"active_tap\":\"auto\",\"tools\":[{\"id\":\"16d488bc-7ff4-4c4b-bcdb-50f368d56837\",\"type\":\"HoverTool\"},{\"id\":\"bd445776-a632-4fd0-8f9a-ae6b571fec92\",\"type\":\"CrosshairTool\"},{\"id\":\"ac671346-0a0e-4b5a-9cb9-174db505dd06\",\"type\":\"BoxSelectTool\"},{\"id\":\"4343281f-88ff-4d9e-b862-f94cae404583\",\"type\":\"LassoSelectTool\"},{\"id\":\"5a484c3b-393e-4ad5-8bc5-58402883c140\",\"type\":\"PanTool\"},{\"id\":\"f00cab45-ec19-4dbb-90c4-6f2c5eb495a9\",\"type\":\"BoxZoomTool\"}]},\"id\":\"0672f59a-4399-4b8d-95a9-4449e4dd01d2\",\"type\":\"Toolbar\"},{\"attributes\":{\"data_source\":{\"id\":\"a9c708ff-dbdf-4232-892e-4375db2b2708\",\"type\":\"ColumnDataSource\"},\"glyph\":{\"id\":\"12214ff3-ddf4-4c9c-a09f-490b75517ce6\",\"type\":\"Circle\"},\"hover_glyph\":null,\"muted_glyph\":null,\"nonselection_glyph\":{\"id\":\"3fd334b1-97ec-4fc0-9649-11a6ff98acdb\",\"type\":\"Circle\"},\"selection_glyph\":null,\"view\":{\"id\":\"654af93f-4736-4c2e-9a4c-5bdec5662fa1\",\"type\":\"CDSView\"}},\"id\":\"fa5ec7a5-d12c-4aa4-b4f1-49966fddfa8b\",\"type\":\"GlyphRenderer\"},{\"attributes\":{\"callback\":null},\"id\":\"dde46f6b-2ac1-4159-8e99-01fc97e0a32d\",\"type\":\"DataRange1d\"},{\"attributes\":{},\"id\":\"4c3476b3-370d-4a35-a763-313601fdcc9e\",\"type\":\"LinearScale\"},{\"attributes\":{\"callback\":null},\"id\":\"ea91164b-e5e8-4573-a5ea-5b61f70f480a\",\"type\":\"DataRange1d\"},{\"attributes\":{},\"id\":\"aa605e1f-c3a4-473f-8027-a5068c5b63e6\",\"type\":\"LinearScale\"},{\"attributes\":{\"bottom_units\":\"screen\",\"fill_alpha\":{\"value\":0.5},\"fill_color\":{\"value\":\"lightgrey\"},\"left_units\":\"screen\",\"level\":\"overlay\",\"line_alpha\":{\"value\":1.0},\"line_color\":{\"value\":\"black\"},\"line_dash\":[4,4],\"line_width\":{\"value\":2},\"plot\":null,\"render_mode\":\"css\",\"right_units\":\"screen\",\"top_units\":\"screen\"},\"id\":\"8f509ccf-80c5-442d-a162-0a3592ea89f8\",\"type\":\"BoxAnnotation\"},{\"attributes\":{\"axis_label\":\"Father\",\"formatter\":{\"id\":\"8fd29bf3-a4dc-46c7-8cc4-1539248a73c7\",\"type\":\"BasicTickFormatter\"},\"plot\":{\"id\":\"68a524a5-2467-441b-a4d0-bd6061ce576c\",\"subtype\":\"Figure\",\"type\":\"Plot\"},\"ticker\":{\"id\":\"4cc3f765-5b95-4e14-bb08-5166ad797fe3\",\"type\":\"BasicTicker\"}},\"id\":\"856e6137-5cd5-484b-a8be-b218ab33913c\",\"type\":\"LinearAxis\"},{\"attributes\":{},\"id\":\"4cc3f765-5b95-4e14-bb08-5166ad797fe3\",\"type\":\"BasicTicker\"},{\"attributes\":{\"children\":[{\"id\":\"f6273304-169e-4e4d-88b3-e22ff061a9a5\",\"type\":\"Slider\"}]},\"id\":\"67fa1952-9dc0-4f18-93ff-1e24864cbee2\",\"type\":\"WidgetBox\"},{\"attributes\":{\"plot\":{\"id\":\"68a524a5-2467-441b-a4d0-bd6061ce576c\",\"subtype\":\"Figure\",\"type\":\"Plot\"},\"ticker\":{\"id\":\"4cc3f765-5b95-4e14-bb08-5166ad797fe3\",\"type\":\"BasicTicker\"}},\"id\":\"a1d7522b-99fe-4152-b062-6a522c51a8e6\",\"type\":\"Grid\"},{\"attributes\":{\"axis_label\":\"Child\",\"formatter\":{\"id\":\"b0923c92-4a15-47a3-9258-be1946d65d10\",\"type\":\"BasicTickFormatter\"},\"plot\":{\"id\":\"68a524a5-2467-441b-a4d0-bd6061ce576c\",\"subtype\":\"Figure\",\"type\":\"Plot\"},\"ticker\":{\"id\":\"5f06738e-0711-4d55-afcf-76caeadcf285\",\"type\":\"BasicTicker\"}},\"id\":\"7b0da147-9cbf-40d8-a99f-eeb60af49ce6\",\"type\":\"LinearAxis\"},{\"attributes\":{},\"id\":\"5f06738e-0711-4d55-afcf-76caeadcf285\",\"type\":\"BasicTicker\"},{\"attributes\":{},\"id\":\"d7962719-648b-4186-8ab4-d48136423f2b\",\"type\":\"Selection\"},{\"attributes\":{\"dimension\":1,\"plot\":{\"id\":\"68a524a5-2467-441b-a4d0-bd6061ce576c\",\"subtype\":\"Figure\",\"type\":\"Plot\"},\"ticker\":{\"id\":\"5f06738e-0711-4d55-afcf-76caeadcf285\",\"type\":\"BasicTicker\"}},\"id\":\"1b6aace9-332c-437f-9e99-067a74aeaad1\",\"type\":\"Grid\"},{\"attributes\":{},\"id\":\"8177bd12-e3c5-4079-9265-6e52bb0d4eac\",\"type\":\"UnionRenderers\"},{\"attributes\":{\"callback\":null,\"overlay\":{\"id\":\"8f509ccf-80c5-442d-a162-0a3592ea89f8\",\"type\":\"BoxAnnotation\"}},\"id\":\"ac671346-0a0e-4b5a-9cb9-174db505dd06\",\"type\":\"BoxSelectTool\"},{\"attributes\":{\"callback\":null,\"data\":{\"x\":[-1.0],\"y\":[9410.13272960428]},\"selected\":{\"id\":\"35c15c9a-1c52-44b5-8ea9-d21c8fca18dd\",\"type\":\"Selection\"},\"selection_policy\":{\"id\":\"e589f748-cb5a-4887-869a-e22a87fe4d4d\",\"type\":\"UnionRenderers\"}},\"id\":\"a9c708ff-dbdf-4232-892e-4375db2b2708\",\"type\":\"ColumnDataSource\"},{\"attributes\":{},\"id\":\"bd445776-a632-4fd0-8f9a-ae6b571fec92\",\"type\":\"CrosshairTool\"},{\"attributes\":{\"below\":[{\"id\":\"43bfb5f4-eb7b-4401-bdf9-7e6a7f1333d3\",\"type\":\"LinearAxis\"}],\"left\":[{\"id\":\"8f72ef3e-1da0-4764-b445-d2319af227e2\",\"type\":\"LinearAxis\"}],\"plot_height\":300,\"plot_width\":300,\"renderers\":[{\"id\":\"43bfb5f4-eb7b-4401-bdf9-7e6a7f1333d3\",\"type\":\"LinearAxis\"},{\"id\":\"40f0aec0-cca9-4349-b269-1d2d94b17d91\",\"type\":\"Grid\"},{\"id\":\"8f72ef3e-1da0-4764-b445-d2319af227e2\",\"type\":\"LinearAxis\"},{\"id\":\"2fed5926-28c0-42f6-b294-a9e54cf2678e\",\"type\":\"Grid\"},{\"id\":\"e30cb6d7-1909-420e-a6e5-20a1fe23265e\",\"type\":\"BoxAnnotation\"},{\"id\":\"ff8d9cc9-111b-4c70-9d84-80bd9795a52f\",\"type\":\"PolyAnnotation\"},{\"id\":\"635e1fad-b43e-47a1-a460-43501251ee1e\",\"type\":\"BoxAnnotation\"},{\"id\":\"63828bc9-1236-4b86-942c-30cd8a892cc0\",\"type\":\"GlyphRenderer\"},{\"id\":\"fa5ec7a5-d12c-4aa4-b4f1-49966fddfa8b\",\"type\":\"GlyphRenderer\"}],\"title\":{\"id\":\"2c06383c-669c-4a26-a5a3-6af0be2d4e9c\",\"type\":\"Title\"},\"toolbar\":{\"id\":\"1fa0e804-5fb6-4bd0-a437-1de7bcdb0348\",\"type\":\"Toolbar\"},\"x_range\":{\"id\":\"b81e0011-215e-481f-90e4-3fda81ca919d\",\"type\":\"DataRange1d\"},\"x_scale\":{\"id\":\"d81c065e-cb3c-49e9-b84c-c021a32b1728\",\"type\":\"LinearScale\"},\"y_range\":{\"id\":\"15e341c2-3bcd-4641-996f-a8cf75503b55\",\"type\":\"DataRange1d\"},\"y_scale\":{\"id\":\"ce4b69d4-85f5-4153-a4ce-a88325aebf31\",\"type\":\"LinearScale\"}},\"id\":\"78c6a168-72d7-4e13-a4ed-06abeec97df3\",\"subtype\":\"Figure\",\"type\":\"Plot\"},{\"attributes\":{\"callback\":null,\"data\":{\"x\":{\"__ndarray__\":\"AAAAAAAA8L9ulC+cThjvv9soXzidMO6/Sb2O1OtI7b+3Ub5wOmHsvyTm7QyJeeu/knodqdeR6r8AD01FJqrpv22jfOF0wui/2zesfcPa579IzNsZEvPmv7ZgC7ZgC+a/JPU6Uq8j5b+SiWru/Tvkv/8dmopMVOO/bbLJJpts4r/aRvnC6YThv0jbKF84neC/bN+w9g1r379GCBAvq5vdvyIxb2dIzNu//lnOn+X82b/Ygi3Ygi3Yv7SrjBAgXta/kNTrSL2O1L9q/UqBWr/Sv0Ymqrn379C/RJ4S5ClBzr/479BUZKLKv7BBj8WeA8e/aJNNNtlkw784yhdOJ4y/v6htlC+cTri/GBERERERsb8AaRvlC6ejv4C/UqDWr4S/gBLkKUGekj9gwvjRNsqnP9C9f4emIrM/YBoDpjFguj94O0Ni3s7AP8DphPGjbcQ/CJjGgGkMyD9QRggQL6vLP6D0SZ/0Sc8/dNFFF1100T+YqObev0PTP7x/h6YiE9U/4FYoboXi1j8ELsk16LHYPywFav1Kgdo/UNwKxa1Q3D90s6uMECDeP5iKTFRz798/3rD2DWvf4D9wHMdxHMfhPwSIl9XNruI/lvNnOX+W4z8oXzidMH7kP7rKCAHiZeU/TDbZZJNN5j/eoanIRDXnP3INeiz2HOg/BHlKkKcE6T+W5Br0WOzpPyhQ61cK1Oo/uru7u7u76z9OJ4wfbaPsP+CSXIMei+0/cv4s589y7j8Eav1KgVrvP8zqZlcZIfA/lCBPCfKU8D9eVje7ygjxPyaMH22jfPE/8MEHH3zw8T+69+/QVGTyP4It2IIt2PI/TGPANAZM8z8Umajm3r/zP97OkJi3M/Q/pgR5SpCn9D9wOmH8aBv1PzpwSa5Bj/U/AqYxYBoD9j/M2xkS83b2P5QRAsTL6vY/XkfqdaRe9z8ofdInfdL3P/CyutlVRvg/uuiiiy66+D+CHos9By75P0xUc+/fofk/FIpbobgV+j/ev0NTkYn6P6j1KwVq/fo/cCsUt0Jx+z86YfxoG+X7PwKX5Br0WPw/zczMzMzM/D8=\",\"dtype\":\"float64\",\"shape\":[100]},\"y\":[9410.13272960428,9034.07530368887,8665.695947089871,8304.994659807286,7951.971441841113,7606.626293191351,7268.959213858003,6938.970203841067,6616.659263140541,6302.026391756428,5995.071589688728,5695.79485693744,5404.196193502565,5120.275599384102,4844.033074582049,4575.468619096411,4314.582232927182,4061.373916074369,3815.843668537966,3577.991490317975,3347.817381414397,3125.3213418272317,2910.5033715564773,2703.3634706021367,2503.9016389642065,2312.117876642689,2128.0121836375843,1951.5845599488919,1782.8350055766102,1621.7635205207423,1468.370104781286,1322.6547583582417,1184.61748125161,1054.2582734613904,931.5771349875826,816.5740658301875,709.2490659892043,609.6021354646335,517.6332742564742,433.3424823647278,356.7297597893935,287.7951065304714,226.53852258796152,172.96000796186374,127.05956265217779,88.83718665890447,58.29287998204329,35.42664262159428,20.238474577557454,12.728375849932785,12.896346438720329,20.742386343920074,36.266495565532004,59.46867410355608,90.34892195799233,128.90723912884076,175.14362561610153,229.0580814197746,290.65060653985955,359.9212009763568,436.86986472926606,521.4965977985876,613.801400184322,713.7842718864678,821.4452129050261,936.7842232399962,1059.8013028913788,1190.4964518591742,1328.869670143381,1474.9209577440001,1628.6503146610307,1790.0577408944757,1959.1432364443301,2135.9068013105993,2320.348435493278,2512.4681389923717,2712.265911807877,2919.7417539397916,3134.895665388123,3357.7276461528613,3588.2376962340163,3826.4258156315796,4072.2920043455583,4325.83626237595,4587.058589722749,4855.958986385966,5132.537452365589,5416.793987661629,5708.728592274083,6008.341266202942,6315.63200944822,6630.600822009905,6953.247703888007,7283.572655082515,7621.575675593441,7967.25676542078,8320.615924564525,8681.653153024688,9050.368450801256,9426.761817894247]},\"selected\":{\"id\":\"4fa47a3d-d9bd-45df-b886-2cdd241422f8\",\"type\":\"Selection\"},\"selection_policy\":{\"id\":\"9006effa-9b12-456a-9ff4-19eb0737ad76\",\"type\":\"UnionRenderers\"}},\"id\":\"aec469c9-d2e2-499e-b418-e25b89bfed66\",\"type\":\"ColumnDataSource\"},{\"attributes\":{\"children\":[{\"id\":\"634598bd-4efc-405a-b7ea-63cfcef27aba\",\"type\":\"WidgetBox\"},{\"id\":\"67fa1952-9dc0-4f18-93ff-1e24864cbee2\",\"type\":\"WidgetBox\"}]},\"id\":\"9b673a2a-10ef-4046-84c6-2390138b6287\",\"type\":\"Row\"},{\"attributes\":{\"fill_color\":{\"field\":\"Gender\",\"transform\":{\"id\":\"b06c6353-049c-482d-bd55-ef793529e6ab\",\"type\":\"CategoricalColorMapper\"}},\"line_color\":{\"field\":\"Gender\",\"transform\":{\"id\":\"b06c6353-049c-482d-bd55-ef793529e6ab\",\"type\":\"CategoricalColorMapper\"}},\"x\":{\"field\":\"Father\"},\"y\":{\"field\":\"Height\"}},\"id\":\"aa0c324c-04ab-4aa4-86ad-3761c5683f77\",\"type\":\"Circle\"},{\"attributes\":{\"active_drag\":\"auto\",\"active_inspect\":\"auto\",\"active_scroll\":\"auto\",\"active_tap\":\"auto\",\"tools\":[{\"id\":\"16d488bc-7ff4-4c4b-bcdb-50f368d56837\",\"type\":\"HoverTool\"},{\"id\":\"711fd240-6668-4468-a5ef-2ad5a5ded516\",\"type\":\"CrosshairTool\"},{\"id\":\"89271cf5-8bfe-4063-9cc7-70be9cd17349\",\"type\":\"BoxSelectTool\"},{\"id\":\"5c5fa05a-11f9-4df2-bed6-2955bee8ee8e\",\"type\":\"LassoSelectTool\"},{\"id\":\"77bd8b2b-ada9-4b93-95db-308c4c799a7d\",\"type\":\"PanTool\"},{\"id\":\"fbed533a-559f-4856-985a-96d2605e554d\",\"type\":\"BoxZoomTool\"}]},\"id\":\"1fa0e804-5fb6-4bd0-a437-1de7bcdb0348\",\"type\":\"Toolbar\"},{\"attributes\":{\"callback\":null,\"overlay\":{\"id\":\"b3f79dbc-f52b-4999-ba65-f9634675daa0\",\"type\":\"PolyAnnotation\"}},\"id\":\"4343281f-88ff-4d9e-b862-f94cae404583\",\"type\":\"LassoSelectTool\"},{\"attributes\":{\"callback\":null},\"id\":\"b81e0011-215e-481f-90e4-3fda81ca919d\",\"type\":\"DataRange1d\"},{\"attributes\":{\"source\":{\"id\":\"f095969f-e4bc-4586-a8e7-be17d4d9bd41\",\"type\":\"ColumnDataSource\"}},\"id\":\"fe1a887b-0193-43f5-bdfc-1fd7b42bb086\",\"type\":\"CDSView\"},{\"attributes\":{\"children\":[{\"id\":\"68a524a5-2467-441b-a4d0-bd6061ce576c\",\"subtype\":\"Figure\",\"type\":\"Plot\"},{\"id\":\"78c6a168-72d7-4e13-a4ed-06abeec97df3\",\"subtype\":\"Figure\",\"type\":\"Plot\"}]},\"id\":\"3fc8827f-7125-4387-911a-011759feb90d\",\"type\":\"Row\"},{\"attributes\":{\"fill_alpha\":{\"value\":0.1},\"fill_color\":{\"value\":\"#1f77b4\"},\"line_alpha\":{\"value\":0.1},\"line_color\":{\"value\":\"#1f77b4\"},\"x\":{\"field\":\"Father\"},\"y\":{\"field\":\"Height\"}},\"id\":\"5e39dea6-3004-431b-95a4-0ea38e08ba60\",\"type\":\"Circle\"},{\"attributes\":{\"fill_alpha\":{\"value\":0.5},\"fill_color\":{\"value\":\"lightgrey\"},\"level\":\"overlay\",\"line_alpha\":{\"value\":1.0},\"line_color\":{\"value\":\"black\"},\"line_dash\":[4,4],\"line_width\":{\"value\":2},\"plot\":null,\"xs_units\":\"screen\",\"ys_units\":\"screen\"},\"id\":\"b3f79dbc-f52b-4999-ba65-f9634675daa0\",\"type\":\"PolyAnnotation\"},{\"attributes\":{\"bottom_units\":\"screen\",\"fill_alpha\":{\"value\":0.5},\"fill_color\":{\"value\":\"lightgrey\"},\"left_units\":\"screen\",\"level\":\"overlay\",\"line_alpha\":{\"value\":1.0},\"line_color\":{\"value\":\"black\"},\"line_dash\":[4,4],\"line_width\":{\"value\":2},\"plot\":null,\"render_mode\":\"css\",\"right_units\":\"screen\",\"top_units\":\"screen\"},\"id\":\"f52035fe-d3be-448c-a304-2723e05470fd\",\"type\":\"BoxAnnotation\"},{\"attributes\":{\"data_source\":{\"id\":\"f095969f-e4bc-4586-a8e7-be17d4d9bd41\",\"type\":\"ColumnDataSource\"},\"glyph\":{\"id\":\"aa0c324c-04ab-4aa4-86ad-3761c5683f77\",\"type\":\"Circle\"},\"hover_glyph\":{\"id\":\"420ff08d-7d47-4f05-959a-abd63d4e5bbc\",\"type\":\"Circle\"},\"muted_glyph\":null,\"nonselection_glyph\":{\"id\":\"5e39dea6-3004-431b-95a4-0ea38e08ba60\",\"type\":\"Circle\"},\"selection_glyph\":null,\"view\":{\"id\":\"fe1a887b-0193-43f5-bdfc-1fd7b42bb086\",\"type\":\"CDSView\"}},\"id\":\"5330ee0f-1730-4f30-9e69-95d2b8c7f557\",\"type\":\"GlyphRenderer\"},{\"attributes\":{\"fill_color\":{\"value\":\"red\"},\"line_color\":{\"value\":\"red\"},\"x\":{\"field\":\"Father\"},\"y\":{\"field\":\"Height\"}},\"id\":\"420ff08d-7d47-4f05-959a-abd63d4e5bbc\",\"type\":\"Circle\"}],\"root_ids\":[\"16f9ce5c-5d6a-4355-8e4a-df07ecf1ac19\"]},\"title\":\"Bokeh Application\",\"version\":\"0.12.16\"}};\n",
       "  var render_items = [{\"docid\":\"44be1299-3fe3-4817-b190-94239a9948fe\",\"elementid\":\"4a9ab09b-50f7-47d0-b331-7739ae81ad2e\",\"modelid\":\"16f9ce5c-5d6a-4355-8e4a-df07ecf1ac19\",\"notebook_comms_target\":\"24f07542-a439-45b0-8a6e-18e52e969c0b\"}];\n",
       "  root.Bokeh.embed.embed_items_notebook(docs_json, render_items);\n",
       "\n",
       "  }\n",
       "  if (root.Bokeh !== undefined) {\n",
       "    embed_document(root);\n",
       "  } else {\n",
       "    var attempts = 0;\n",
       "    var timer = setInterval(function(root) {\n",
       "      if (root.Bokeh !== undefined) {\n",
       "        embed_document(root);\n",
       "        clearInterval(timer);\n",
       "      }\n",
       "      attempts++;\n",
       "      if (attempts > 100) {\n",
       "        console.log(\"Bokeh: ERROR: Unable to run BokehJS code because BokehJS library is missing\")\n",
       "        clearInterval(timer);\n",
       "      }\n",
       "    }, 10, root)\n",
       "  }\n",
       "})(window);"
      ],
      "application/vnd.bokehjs_exec.v0+json": ""
     },
     "metadata": {
      "application/vnd.bokehjs_exec.v0+json": {
       "id": "16f9ce5c-5d6a-4355-8e4a-df07ecf1ac19"
      }
     },
     "output_type": "display_data"
    },
    {
     "data": {
      "text/html": [
       "<p><code>&lt;Bokeh Notebook handle for <strong>In[59]</strong>&gt;</code></p>"
      ],
      "text/plain": [
       "<bokeh.io.notebook.CommsHandle at 0x7fb3fa6c58d0>"
      ]
     },
     "execution_count": 11,
     "metadata": {},
     "output_type": "execute_result"
    }
   ],
   "source": [
    "layout = column(row(slider_slope, slider_intercept),row(plot1, plot2))\n",
    "show(layout, notebook_handle=True)"
   ]
  },
  {
   "cell_type": "code",
   "execution_count": 12,
   "metadata": {},
   "outputs": [
    {
     "data": {
      "text/plain": [
       "(69.232850779510017, 66.760690423162586)"
      ]
     },
     "execution_count": 12,
     "metadata": {},
     "output_type": "execute_result"
    }
   ],
   "source": [
    "source.data['Father'].mean(), source.data['Height'].mean()"
   ]
  },
  {
   "cell_type": "code",
   "execution_count": 13,
   "metadata": {},
   "outputs": [
    {
     "data": {
      "text/plain": [
       "(0.39938126589856471, 39.110386837075403)"
      ]
     },
     "execution_count": 13,
     "metadata": {},
     "output_type": "execute_result"
    }
   ],
   "source": [
    "slope,intercept"
   ]
  },
  {
   "cell_type": "code",
   "execution_count": null,
   "metadata": {},
   "outputs": [],
   "source": []
  }
 ],
 "metadata": {
  "anaconda-cloud": {
   "attach-environment": true,
   "environment": "root",
   "summary": "interactive notebook to understand linear regressions",
   "url": "https://anaconda.org/okenfor/towards-mediocrity"
  },
  "kernelspec": {
   "display_name": "Python [default]",
   "language": "python",
   "name": "python3"
  },
  "language_info": {
   "codemirror_mode": {
    "name": "ipython",
    "version": 3
   },
   "file_extension": ".py",
   "mimetype": "text/x-python",
   "name": "python",
   "nbconvert_exporter": "python",
   "pygments_lexer": "ipython3",
   "version": "3.6.5"
  },
  "widgets": {
   "application/vnd.jupyter.widget-state+json": {
    "state": {
     "02e618ef665a4c2c931ff2852ffaf476": {
      "model_module": "@jupyter-widgets/controls",
      "model_module_version": "1.2.0",
      "model_name": "FloatSliderModel",
      "state": {
       "description": "slope",
       "layout": "IPY_MODEL_84e252f806204de1aaa143a964a348f1",
       "max": 1.8,
       "min": -1,
       "step": 0.02828282828282828,
       "style": "IPY_MODEL_aaaa408afe074fc9979bf8c33b236d13",
       "value": 0.86667
      }
     },
     "06cbdd0ab66541ef8284a86bb9566b35": {
      "model_module": "@jupyter-widgets/base",
      "model_module_version": "1.0.0",
      "model_name": "LayoutModel",
      "state": {}
     },
     "2975a6d985d2463b880d8be04d765bb7": {
      "model_module": "@jupyter-widgets/controls",
      "model_module_version": "1.2.0",
      "model_name": "SliderStyleModel",
      "state": {
       "description_width": ""
      }
     },
     "37bdd24b2642469f8af59599f4becca8": {
      "model_module": "@jupyter-widgets/base",
      "model_module_version": "1.0.0",
      "model_name": "LayoutModel",
      "state": {}
     },
     "43b600d8ba814322af394745f521103c": {
      "model_module": "@jupyter-widgets/output",
      "model_module_version": "1.0.0",
      "model_name": "OutputModel",
      "state": {
       "layout": "IPY_MODEL_973a0c5941634ec294fd6b81dd0ff766"
      }
     },
     "4feb1e7937944310a27d3200b31b91a0": {
      "model_module": "@jupyter-widgets/controls",
      "model_module_version": "1.2.0",
      "model_name": "VBoxModel",
      "state": {
       "_dom_classes": [
        "widget-interact"
       ],
       "children": [
        "IPY_MODEL_899ecf11d0a54c729e8b936b4a708c97",
        "IPY_MODEL_66d3dd79dc8a42ebb7c14dad24564aab",
        "IPY_MODEL_43b600d8ba814322af394745f521103c"
       ],
       "layout": "IPY_MODEL_c24268952f9c4fa391ef2f85b3c5fc70"
      }
     },
     "60c3bf6bcc114424bd84a0f4ebbb54e8": {
      "model_module": "@jupyter-widgets/controls",
      "model_module_version": "1.2.0",
      "model_name": "VBoxModel",
      "state": {
       "_dom_classes": [
        "widget-interact"
       ],
       "children": [
        "IPY_MODEL_02e618ef665a4c2c931ff2852ffaf476",
        "IPY_MODEL_848a722bd5f94f44ae490bc776c6c5b7",
        "IPY_MODEL_d55972c198d34137997d00e4bdd7b6ca"
       ],
       "layout": "IPY_MODEL_b25b7d2589a2484db5a1c20f00f9b593"
      }
     },
     "66d3dd79dc8a42ebb7c14dad24564aab": {
      "model_module": "@jupyter-widgets/controls",
      "model_module_version": "1.2.0",
      "model_name": "FloatSliderModel",
      "state": {
       "description": "intercept",
       "layout": "IPY_MODEL_fd4910a58ede412ab7ff14d0e84cd4a2",
       "max": 80,
       "min": 30,
       "style": "IPY_MODEL_d72b0321891441d4b7886447e1e73b76",
       "value": 80
      }
     },
     "6c68401eed484fccb4809f192cd70b0c": {
      "model_module": "@jupyter-widgets/base",
      "model_module_version": "1.0.0",
      "model_name": "LayoutModel",
      "state": {}
     },
     "848a722bd5f94f44ae490bc776c6c5b7": {
      "model_module": "@jupyter-widgets/controls",
      "model_module_version": "1.2.0",
      "model_name": "FloatSliderModel",
      "state": {
       "description": "intercept",
       "layout": "IPY_MODEL_6c68401eed484fccb4809f192cd70b0c",
       "max": 80,
       "min": 30,
       "style": "IPY_MODEL_2975a6d985d2463b880d8be04d765bb7",
       "value": 32
      }
     },
     "84e252f806204de1aaa143a964a348f1": {
      "model_module": "@jupyter-widgets/base",
      "model_module_version": "1.0.0",
      "model_name": "LayoutModel",
      "state": {}
     },
     "899ecf11d0a54c729e8b936b4a708c97": {
      "model_module": "@jupyter-widgets/controls",
      "model_module_version": "1.2.0",
      "model_name": "FloatSliderModel",
      "state": {
       "description": "slope",
       "layout": "IPY_MODEL_37bdd24b2642469f8af59599f4becca8",
       "max": 1.8,
       "min": -1,
       "step": 0.02828282828282828,
       "style": "IPY_MODEL_e8c15b96c8884772a02ca1f1182e1fb1",
       "value": 0.10303
      }
     },
     "973a0c5941634ec294fd6b81dd0ff766": {
      "model_module": "@jupyter-widgets/base",
      "model_module_version": "1.0.0",
      "model_name": "LayoutModel",
      "state": {}
     },
     "aaaa408afe074fc9979bf8c33b236d13": {
      "model_module": "@jupyter-widgets/controls",
      "model_module_version": "1.2.0",
      "model_name": "SliderStyleModel",
      "state": {
       "description_width": ""
      }
     },
     "b25b7d2589a2484db5a1c20f00f9b593": {
      "model_module": "@jupyter-widgets/base",
      "model_module_version": "1.0.0",
      "model_name": "LayoutModel",
      "state": {}
     },
     "c24268952f9c4fa391ef2f85b3c5fc70": {
      "model_module": "@jupyter-widgets/base",
      "model_module_version": "1.0.0",
      "model_name": "LayoutModel",
      "state": {}
     },
     "d55972c198d34137997d00e4bdd7b6ca": {
      "model_module": "@jupyter-widgets/output",
      "model_module_version": "1.0.0",
      "model_name": "OutputModel",
      "state": {
       "layout": "IPY_MODEL_06cbdd0ab66541ef8284a86bb9566b35"
      }
     },
     "d72b0321891441d4b7886447e1e73b76": {
      "model_module": "@jupyter-widgets/controls",
      "model_module_version": "1.2.0",
      "model_name": "SliderStyleModel",
      "state": {
       "description_width": ""
      }
     },
     "e8c15b96c8884772a02ca1f1182e1fb1": {
      "model_module": "@jupyter-widgets/controls",
      "model_module_version": "1.2.0",
      "model_name": "SliderStyleModel",
      "state": {
       "description_width": ""
      }
     },
     "fd4910a58ede412ab7ff14d0e84cd4a2": {
      "model_module": "@jupyter-widgets/base",
      "model_module_version": "1.0.0",
      "model_name": "LayoutModel",
      "state": {}
     }
    },
    "version_major": 2,
    "version_minor": 0
   }
  }
 },
 "nbformat": 4,
 "nbformat_minor": 2
}
