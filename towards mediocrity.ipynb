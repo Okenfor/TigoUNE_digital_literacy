{
 "cells": [
  {
   "cell_type": "markdown",
   "metadata": {},
   "source": [
    "Loading libraries"
   ]
  },
  {
   "cell_type": "code",
   "execution_count": 1,
   "metadata": {},
   "outputs": [
    {
     "data": {
      "text/html": [
       "\n",
       "    <div class=\"bk-root\">\n",
       "        <a href=\"https://bokeh.pydata.org\" target=\"_blank\" class=\"bk-logo bk-logo-small bk-logo-notebook\"></a>\n",
       "        <span id=\"800cf05d-334e-4d74-bb0a-f4448051d21c\">Loading BokehJS ...</span>\n",
       "    </div>"
      ]
     },
     "metadata": {},
     "output_type": "display_data"
    },
    {
     "data": {
      "application/javascript": [
       "\n",
       "(function(root) {\n",
       "  function now() {\n",
       "    return new Date();\n",
       "  }\n",
       "\n",
       "  var force = true;\n",
       "\n",
       "  if (typeof (root._bokeh_onload_callbacks) === \"undefined\" || force === true) {\n",
       "    root._bokeh_onload_callbacks = [];\n",
       "    root._bokeh_is_loading = undefined;\n",
       "  }\n",
       "\n",
       "  var JS_MIME_TYPE = 'application/javascript';\n",
       "  var HTML_MIME_TYPE = 'text/html';\n",
       "  var EXEC_MIME_TYPE = 'application/vnd.bokehjs_exec.v0+json';\n",
       "  var CLASS_NAME = 'output_bokeh rendered_html';\n",
       "\n",
       "  /**\n",
       "   * Render data to the DOM node\n",
       "   */\n",
       "  function render(props, node) {\n",
       "    var script = document.createElement(\"script\");\n",
       "    node.appendChild(script);\n",
       "  }\n",
       "\n",
       "  /**\n",
       "   * Handle when an output is cleared or removed\n",
       "   */\n",
       "  function handleClearOutput(event, handle) {\n",
       "    var cell = handle.cell;\n",
       "\n",
       "    var id = cell.output_area._bokeh_element_id;\n",
       "    var server_id = cell.output_area._bokeh_server_id;\n",
       "    // Clean up Bokeh references\n",
       "    if (id !== undefined) {\n",
       "      Bokeh.index[id].model.document.clear();\n",
       "      delete Bokeh.index[id];\n",
       "    }\n",
       "\n",
       "    if (server_id !== undefined) {\n",
       "      // Clean up Bokeh references\n",
       "      var cmd = \"from bokeh.io.state import curstate; print(curstate().uuid_to_server['\" + server_id + \"'].get_sessions()[0].document.roots[0]._id)\";\n",
       "      cell.notebook.kernel.execute(cmd, {\n",
       "        iopub: {\n",
       "          output: function(msg) {\n",
       "            var element_id = msg.content.text.trim();\n",
       "            Bokeh.index[element_id].model.document.clear();\n",
       "            delete Bokeh.index[element_id];\n",
       "          }\n",
       "        }\n",
       "      });\n",
       "      // Destroy server and session\n",
       "      var cmd = \"import bokeh.io.notebook as ion; ion.destroy_server('\" + server_id + \"')\";\n",
       "      cell.notebook.kernel.execute(cmd);\n",
       "    }\n",
       "  }\n",
       "\n",
       "  /**\n",
       "   * Handle when a new output is added\n",
       "   */\n",
       "  function handleAddOutput(event, handle) {\n",
       "    var output_area = handle.output_area;\n",
       "    var output = handle.output;\n",
       "\n",
       "    // limit handleAddOutput to display_data with EXEC_MIME_TYPE content only\n",
       "    if ((output.output_type != \"display_data\") || (!output.data.hasOwnProperty(EXEC_MIME_TYPE))) {\n",
       "      return\n",
       "    }\n",
       "\n",
       "    var toinsert = output_area.element.find(\".\" + CLASS_NAME.split(' ')[0]);\n",
       "\n",
       "    if (output.metadata[EXEC_MIME_TYPE][\"id\"] !== undefined) {\n",
       "      toinsert[toinsert.length - 1].firstChild.textContent = output.data[JS_MIME_TYPE];\n",
       "      // store reference to embed id on output_area\n",
       "      output_area._bokeh_element_id = output.metadata[EXEC_MIME_TYPE][\"id\"];\n",
       "    }\n",
       "    if (output.metadata[EXEC_MIME_TYPE][\"server_id\"] !== undefined) {\n",
       "      var bk_div = document.createElement(\"div\");\n",
       "      bk_div.innerHTML = output.data[HTML_MIME_TYPE];\n",
       "      var script_attrs = bk_div.children[0].attributes;\n",
       "      for (var i = 0; i < script_attrs.length; i++) {\n",
       "        toinsert[toinsert.length - 1].firstChild.setAttribute(script_attrs[i].name, script_attrs[i].value);\n",
       "      }\n",
       "      // store reference to server id on output_area\n",
       "      output_area._bokeh_server_id = output.metadata[EXEC_MIME_TYPE][\"server_id\"];\n",
       "    }\n",
       "  }\n",
       "\n",
       "  function register_renderer(events, OutputArea) {\n",
       "\n",
       "    function append_mime(data, metadata, element) {\n",
       "      // create a DOM node to render to\n",
       "      var toinsert = this.create_output_subarea(\n",
       "        metadata,\n",
       "        CLASS_NAME,\n",
       "        EXEC_MIME_TYPE\n",
       "      );\n",
       "      this.keyboard_manager.register_events(toinsert);\n",
       "      // Render to node\n",
       "      var props = {data: data, metadata: metadata[EXEC_MIME_TYPE]};\n",
       "      render(props, toinsert[toinsert.length - 1]);\n",
       "      element.append(toinsert);\n",
       "      return toinsert\n",
       "    }\n",
       "\n",
       "    /* Handle when an output is cleared or removed */\n",
       "    events.on('clear_output.CodeCell', handleClearOutput);\n",
       "    events.on('delete.Cell', handleClearOutput);\n",
       "\n",
       "    /* Handle when a new output is added */\n",
       "    events.on('output_added.OutputArea', handleAddOutput);\n",
       "\n",
       "    /**\n",
       "     * Register the mime type and append_mime function with output_area\n",
       "     */\n",
       "    OutputArea.prototype.register_mime_type(EXEC_MIME_TYPE, append_mime, {\n",
       "      /* Is output safe? */\n",
       "      safe: true,\n",
       "      /* Index of renderer in `output_area.display_order` */\n",
       "      index: 0\n",
       "    });\n",
       "  }\n",
       "\n",
       "  // register the mime type if in Jupyter Notebook environment and previously unregistered\n",
       "  if (root.Jupyter !== undefined) {\n",
       "    var events = require('base/js/events');\n",
       "    var OutputArea = require('notebook/js/outputarea').OutputArea;\n",
       "\n",
       "    if (OutputArea.prototype.mime_types().indexOf(EXEC_MIME_TYPE) == -1) {\n",
       "      register_renderer(events, OutputArea);\n",
       "    }\n",
       "  }\n",
       "\n",
       "  \n",
       "  if (typeof (root._bokeh_timeout) === \"undefined\" || force === true) {\n",
       "    root._bokeh_timeout = Date.now() + 5000;\n",
       "    root._bokeh_failed_load = false;\n",
       "  }\n",
       "\n",
       "  var NB_LOAD_WARNING = {'data': {'text/html':\n",
       "     \"<div style='background-color: #fdd'>\\n\"+\n",
       "     \"<p>\\n\"+\n",
       "     \"BokehJS does not appear to have successfully loaded. If loading BokehJS from CDN, this \\n\"+\n",
       "     \"may be due to a slow or bad network connection. Possible fixes:\\n\"+\n",
       "     \"</p>\\n\"+\n",
       "     \"<ul>\\n\"+\n",
       "     \"<li>re-rerun `output_notebook()` to attempt to load from CDN again, or</li>\\n\"+\n",
       "     \"<li>use INLINE resources instead, as so:</li>\\n\"+\n",
       "     \"</ul>\\n\"+\n",
       "     \"<code>\\n\"+\n",
       "     \"from bokeh.resources import INLINE\\n\"+\n",
       "     \"output_notebook(resources=INLINE)\\n\"+\n",
       "     \"</code>\\n\"+\n",
       "     \"</div>\"}};\n",
       "\n",
       "  function display_loaded() {\n",
       "    var el = document.getElementById(\"800cf05d-334e-4d74-bb0a-f4448051d21c\");\n",
       "    if (el != null) {\n",
       "      el.textContent = \"BokehJS is loading...\";\n",
       "    }\n",
       "    if (root.Bokeh !== undefined) {\n",
       "      if (el != null) {\n",
       "        el.textContent = \"BokehJS \" + root.Bokeh.version + \" successfully loaded.\";\n",
       "      }\n",
       "    } else if (Date.now() < root._bokeh_timeout) {\n",
       "      setTimeout(display_loaded, 100)\n",
       "    }\n",
       "  }\n",
       "\n",
       "\n",
       "  function run_callbacks() {\n",
       "    try {\n",
       "      root._bokeh_onload_callbacks.forEach(function(callback) { callback() });\n",
       "    }\n",
       "    finally {\n",
       "      delete root._bokeh_onload_callbacks\n",
       "    }\n",
       "    console.info(\"Bokeh: all callbacks have finished\");\n",
       "  }\n",
       "\n",
       "  function load_libs(js_urls, callback) {\n",
       "    root._bokeh_onload_callbacks.push(callback);\n",
       "    if (root._bokeh_is_loading > 0) {\n",
       "      console.log(\"Bokeh: BokehJS is being loaded, scheduling callback at\", now());\n",
       "      return null;\n",
       "    }\n",
       "    if (js_urls == null || js_urls.length === 0) {\n",
       "      run_callbacks();\n",
       "      return null;\n",
       "    }\n",
       "    console.log(\"Bokeh: BokehJS not loaded, scheduling load and callback at\", now());\n",
       "    root._bokeh_is_loading = js_urls.length;\n",
       "    for (var i = 0; i < js_urls.length; i++) {\n",
       "      var url = js_urls[i];\n",
       "      var s = document.createElement('script');\n",
       "      s.src = url;\n",
       "      s.async = false;\n",
       "      s.onreadystatechange = s.onload = function() {\n",
       "        root._bokeh_is_loading--;\n",
       "        if (root._bokeh_is_loading === 0) {\n",
       "          console.log(\"Bokeh: all BokehJS libraries loaded\");\n",
       "          run_callbacks()\n",
       "        }\n",
       "      };\n",
       "      s.onerror = function() {\n",
       "        console.warn(\"failed to load library \" + url);\n",
       "      };\n",
       "      console.log(\"Bokeh: injecting script tag for BokehJS library: \", url);\n",
       "      document.getElementsByTagName(\"head\")[0].appendChild(s);\n",
       "    }\n",
       "  };var element = document.getElementById(\"800cf05d-334e-4d74-bb0a-f4448051d21c\");\n",
       "  if (element == null) {\n",
       "    console.log(\"Bokeh: ERROR: autoload.js configured with elementid '800cf05d-334e-4d74-bb0a-f4448051d21c' but no matching script tag was found. \")\n",
       "    return false;\n",
       "  }\n",
       "\n",
       "  var js_urls = [\"https://cdn.pydata.org/bokeh/release/bokeh-0.12.16.min.js\", \"https://cdn.pydata.org/bokeh/release/bokeh-widgets-0.12.16.min.js\", \"https://cdn.pydata.org/bokeh/release/bokeh-tables-0.12.16.min.js\", \"https://cdn.pydata.org/bokeh/release/bokeh-gl-0.12.16.min.js\"];\n",
       "\n",
       "  var inline_js = [\n",
       "    function(Bokeh) {\n",
       "      Bokeh.set_log_level(\"info\");\n",
       "    },\n",
       "    \n",
       "    function(Bokeh) {\n",
       "      \n",
       "    },\n",
       "    function(Bokeh) {\n",
       "      console.log(\"Bokeh: injecting CSS: https://cdn.pydata.org/bokeh/release/bokeh-0.12.16.min.css\");\n",
       "      Bokeh.embed.inject_css(\"https://cdn.pydata.org/bokeh/release/bokeh-0.12.16.min.css\");\n",
       "      console.log(\"Bokeh: injecting CSS: https://cdn.pydata.org/bokeh/release/bokeh-widgets-0.12.16.min.css\");\n",
       "      Bokeh.embed.inject_css(\"https://cdn.pydata.org/bokeh/release/bokeh-widgets-0.12.16.min.css\");\n",
       "      console.log(\"Bokeh: injecting CSS: https://cdn.pydata.org/bokeh/release/bokeh-tables-0.12.16.min.css\");\n",
       "      Bokeh.embed.inject_css(\"https://cdn.pydata.org/bokeh/release/bokeh-tables-0.12.16.min.css\");\n",
       "    }\n",
       "  ];\n",
       "\n",
       "  function run_inline_js() {\n",
       "    \n",
       "    if ((root.Bokeh !== undefined) || (force === true)) {\n",
       "      for (var i = 0; i < inline_js.length; i++) {\n",
       "        inline_js[i].call(root, root.Bokeh);\n",
       "      }if (force === true) {\n",
       "        display_loaded();\n",
       "      }} else if (Date.now() < root._bokeh_timeout) {\n",
       "      setTimeout(run_inline_js, 100);\n",
       "    } else if (!root._bokeh_failed_load) {\n",
       "      console.log(\"Bokeh: BokehJS failed to load within specified timeout.\");\n",
       "      root._bokeh_failed_load = true;\n",
       "    } else if (force !== true) {\n",
       "      var cell = $(document.getElementById(\"800cf05d-334e-4d74-bb0a-f4448051d21c\")).parents('.cell').data().cell;\n",
       "      cell.output_area.append_execute_result(NB_LOAD_WARNING)\n",
       "    }\n",
       "\n",
       "  }\n",
       "\n",
       "  if (root._bokeh_is_loading === 0) {\n",
       "    console.log(\"Bokeh: BokehJS loaded, going straight to plotting\");\n",
       "    run_inline_js();\n",
       "  } else {\n",
       "    load_libs(js_urls, function() {\n",
       "      console.log(\"Bokeh: BokehJS plotting callback run at\", now());\n",
       "      run_inline_js();\n",
       "    });\n",
       "  }\n",
       "}(window));"
      ],
      "application/vnd.bokehjs_load.v0+json": "\n(function(root) {\n  function now() {\n    return new Date();\n  }\n\n  var force = true;\n\n  if (typeof (root._bokeh_onload_callbacks) === \"undefined\" || force === true) {\n    root._bokeh_onload_callbacks = [];\n    root._bokeh_is_loading = undefined;\n  }\n\n  \n\n  \n  if (typeof (root._bokeh_timeout) === \"undefined\" || force === true) {\n    root._bokeh_timeout = Date.now() + 5000;\n    root._bokeh_failed_load = false;\n  }\n\n  var NB_LOAD_WARNING = {'data': {'text/html':\n     \"<div style='background-color: #fdd'>\\n\"+\n     \"<p>\\n\"+\n     \"BokehJS does not appear to have successfully loaded. If loading BokehJS from CDN, this \\n\"+\n     \"may be due to a slow or bad network connection. Possible fixes:\\n\"+\n     \"</p>\\n\"+\n     \"<ul>\\n\"+\n     \"<li>re-rerun `output_notebook()` to attempt to load from CDN again, or</li>\\n\"+\n     \"<li>use INLINE resources instead, as so:</li>\\n\"+\n     \"</ul>\\n\"+\n     \"<code>\\n\"+\n     \"from bokeh.resources import INLINE\\n\"+\n     \"output_notebook(resources=INLINE)\\n\"+\n     \"</code>\\n\"+\n     \"</div>\"}};\n\n  function display_loaded() {\n    var el = document.getElementById(\"800cf05d-334e-4d74-bb0a-f4448051d21c\");\n    if (el != null) {\n      el.textContent = \"BokehJS is loading...\";\n    }\n    if (root.Bokeh !== undefined) {\n      if (el != null) {\n        el.textContent = \"BokehJS \" + root.Bokeh.version + \" successfully loaded.\";\n      }\n    } else if (Date.now() < root._bokeh_timeout) {\n      setTimeout(display_loaded, 100)\n    }\n  }\n\n\n  function run_callbacks() {\n    try {\n      root._bokeh_onload_callbacks.forEach(function(callback) { callback() });\n    }\n    finally {\n      delete root._bokeh_onload_callbacks\n    }\n    console.info(\"Bokeh: all callbacks have finished\");\n  }\n\n  function load_libs(js_urls, callback) {\n    root._bokeh_onload_callbacks.push(callback);\n    if (root._bokeh_is_loading > 0) {\n      console.log(\"Bokeh: BokehJS is being loaded, scheduling callback at\", now());\n      return null;\n    }\n    if (js_urls == null || js_urls.length === 0) {\n      run_callbacks();\n      return null;\n    }\n    console.log(\"Bokeh: BokehJS not loaded, scheduling load and callback at\", now());\n    root._bokeh_is_loading = js_urls.length;\n    for (var i = 0; i < js_urls.length; i++) {\n      var url = js_urls[i];\n      var s = document.createElement('script');\n      s.src = url;\n      s.async = false;\n      s.onreadystatechange = s.onload = function() {\n        root._bokeh_is_loading--;\n        if (root._bokeh_is_loading === 0) {\n          console.log(\"Bokeh: all BokehJS libraries loaded\");\n          run_callbacks()\n        }\n      };\n      s.onerror = function() {\n        console.warn(\"failed to load library \" + url);\n      };\n      console.log(\"Bokeh: injecting script tag for BokehJS library: \", url);\n      document.getElementsByTagName(\"head\")[0].appendChild(s);\n    }\n  };var element = document.getElementById(\"800cf05d-334e-4d74-bb0a-f4448051d21c\");\n  if (element == null) {\n    console.log(\"Bokeh: ERROR: autoload.js configured with elementid '800cf05d-334e-4d74-bb0a-f4448051d21c' but no matching script tag was found. \")\n    return false;\n  }\n\n  var js_urls = [\"https://cdn.pydata.org/bokeh/release/bokeh-0.12.16.min.js\", \"https://cdn.pydata.org/bokeh/release/bokeh-widgets-0.12.16.min.js\", \"https://cdn.pydata.org/bokeh/release/bokeh-tables-0.12.16.min.js\", \"https://cdn.pydata.org/bokeh/release/bokeh-gl-0.12.16.min.js\"];\n\n  var inline_js = [\n    function(Bokeh) {\n      Bokeh.set_log_level(\"info\");\n    },\n    \n    function(Bokeh) {\n      \n    },\n    function(Bokeh) {\n      console.log(\"Bokeh: injecting CSS: https://cdn.pydata.org/bokeh/release/bokeh-0.12.16.min.css\");\n      Bokeh.embed.inject_css(\"https://cdn.pydata.org/bokeh/release/bokeh-0.12.16.min.css\");\n      console.log(\"Bokeh: injecting CSS: https://cdn.pydata.org/bokeh/release/bokeh-widgets-0.12.16.min.css\");\n      Bokeh.embed.inject_css(\"https://cdn.pydata.org/bokeh/release/bokeh-widgets-0.12.16.min.css\");\n      console.log(\"Bokeh: injecting CSS: https://cdn.pydata.org/bokeh/release/bokeh-tables-0.12.16.min.css\");\n      Bokeh.embed.inject_css(\"https://cdn.pydata.org/bokeh/release/bokeh-tables-0.12.16.min.css\");\n    }\n  ];\n\n  function run_inline_js() {\n    \n    if ((root.Bokeh !== undefined) || (force === true)) {\n      for (var i = 0; i < inline_js.length; i++) {\n        inline_js[i].call(root, root.Bokeh);\n      }if (force === true) {\n        display_loaded();\n      }} else if (Date.now() < root._bokeh_timeout) {\n      setTimeout(run_inline_js, 100);\n    } else if (!root._bokeh_failed_load) {\n      console.log(\"Bokeh: BokehJS failed to load within specified timeout.\");\n      root._bokeh_failed_load = true;\n    } else if (force !== true) {\n      var cell = $(document.getElementById(\"800cf05d-334e-4d74-bb0a-f4448051d21c\")).parents('.cell').data().cell;\n      cell.output_area.append_execute_result(NB_LOAD_WARNING)\n    }\n\n  }\n\n  if (root._bokeh_is_loading === 0) {\n    console.log(\"Bokeh: BokehJS loaded, going straight to plotting\");\n    run_inline_js();\n  } else {\n    load_libs(js_urls, function() {\n      console.log(\"Bokeh: BokehJS plotting callback run at\", now());\n      run_inline_js();\n    });\n  }\n}(window));"
     },
     "metadata": {},
     "output_type": "display_data"
    }
   ],
   "source": [
    "import pandas as pd\n",
    "import matplotlib.pyplot as plt\n",
    "from ipywidgets import interact, FloatSlider\n",
    "from bokeh.io import output_notebook, push_notebook, show, curdoc\n",
    "from bokeh.plotting import figure\n",
    "from bokeh.models import HoverTool, ColumnDataSource, CategoricalColorMapper, Slider, CustomJS\n",
    "from bokeh.layouts import widgetbox, row, column\n",
    "import numpy as np\n",
    "from sklearn.metrics import mean_squared_error\n",
    "output_notebook()"
   ]
  },
  {
   "cell_type": "markdown",
   "metadata": {},
   "source": [
    "# loading data\n",
    "\n",
    "## Description\n",
    "In the 1880's, Francis Galton was developing ways to quantify the heritability of traits. As part of this work, he collected data on the heights of adult children and their parents.\n",
    "\n",
    "## Format\n",
    "A data frame with 898 observations on the following variables.\n",
    "family a factor with levels for each family\n",
    "father the father's height (in inches)\n",
    "mother the mother's height (in inches)\n",
    "sex the child's sex: F or M\n",
    "height the child's height as an adult (in inches)\n",
    "nkids the number of adult children in the family, or, at least, the number whose heights Galton recorded.\n",
    "\n",
    "## Details\n",
    "Entries were deleted for those children whose heights were not recorded numerically by Galton, who sometimes used entries such as “tall”, “short”, “idiotic”, “deformed” and so on."
   ]
  },
  {
   "cell_type": "code",
   "execution_count": 2,
   "metadata": {},
   "outputs": [],
   "source": [
    "df_galton = pd.read_csv('Galton.txt', sep='\\t')\n",
    "source = ColumnDataSource(df_galton)"
   ]
  },
  {
   "cell_type": "code",
   "execution_count": 3,
   "metadata": {},
   "outputs": [
    {
     "data": {
      "text/html": [
       "<div>\n",
       "<style scoped>\n",
       "    .dataframe tbody tr th:only-of-type {\n",
       "        vertical-align: middle;\n",
       "    }\n",
       "\n",
       "    .dataframe tbody tr th {\n",
       "        vertical-align: top;\n",
       "    }\n",
       "\n",
       "    .dataframe thead th {\n",
       "        text-align: right;\n",
       "    }\n",
       "</style>\n",
       "<table border=\"1\" class=\"dataframe\">\n",
       "  <thead>\n",
       "    <tr style=\"text-align: right;\">\n",
       "      <th></th>\n",
       "      <th>Family</th>\n",
       "      <th>Father</th>\n",
       "      <th>Mother</th>\n",
       "      <th>Gender</th>\n",
       "      <th>Height</th>\n",
       "      <th>Kids</th>\n",
       "    </tr>\n",
       "  </thead>\n",
       "  <tbody>\n",
       "    <tr>\n",
       "      <th>0</th>\n",
       "      <td>1</td>\n",
       "      <td>78.5</td>\n",
       "      <td>67.0</td>\n",
       "      <td>M</td>\n",
       "      <td>73.2</td>\n",
       "      <td>4</td>\n",
       "    </tr>\n",
       "    <tr>\n",
       "      <th>1</th>\n",
       "      <td>1</td>\n",
       "      <td>78.5</td>\n",
       "      <td>67.0</td>\n",
       "      <td>F</td>\n",
       "      <td>69.2</td>\n",
       "      <td>4</td>\n",
       "    </tr>\n",
       "    <tr>\n",
       "      <th>2</th>\n",
       "      <td>1</td>\n",
       "      <td>78.5</td>\n",
       "      <td>67.0</td>\n",
       "      <td>F</td>\n",
       "      <td>69.0</td>\n",
       "      <td>4</td>\n",
       "    </tr>\n",
       "    <tr>\n",
       "      <th>3</th>\n",
       "      <td>1</td>\n",
       "      <td>78.5</td>\n",
       "      <td>67.0</td>\n",
       "      <td>F</td>\n",
       "      <td>69.0</td>\n",
       "      <td>4</td>\n",
       "    </tr>\n",
       "    <tr>\n",
       "      <th>4</th>\n",
       "      <td>2</td>\n",
       "      <td>75.5</td>\n",
       "      <td>66.5</td>\n",
       "      <td>M</td>\n",
       "      <td>73.5</td>\n",
       "      <td>4</td>\n",
       "    </tr>\n",
       "    <tr>\n",
       "      <th>5</th>\n",
       "      <td>2</td>\n",
       "      <td>75.5</td>\n",
       "      <td>66.5</td>\n",
       "      <td>M</td>\n",
       "      <td>72.5</td>\n",
       "      <td>4</td>\n",
       "    </tr>\n",
       "    <tr>\n",
       "      <th>6</th>\n",
       "      <td>2</td>\n",
       "      <td>75.5</td>\n",
       "      <td>66.5</td>\n",
       "      <td>F</td>\n",
       "      <td>65.5</td>\n",
       "      <td>4</td>\n",
       "    </tr>\n",
       "    <tr>\n",
       "      <th>7</th>\n",
       "      <td>2</td>\n",
       "      <td>75.5</td>\n",
       "      <td>66.5</td>\n",
       "      <td>F</td>\n",
       "      <td>65.5</td>\n",
       "      <td>4</td>\n",
       "    </tr>\n",
       "    <tr>\n",
       "      <th>8</th>\n",
       "      <td>3</td>\n",
       "      <td>75.0</td>\n",
       "      <td>64.0</td>\n",
       "      <td>M</td>\n",
       "      <td>71.0</td>\n",
       "      <td>2</td>\n",
       "    </tr>\n",
       "    <tr>\n",
       "      <th>9</th>\n",
       "      <td>3</td>\n",
       "      <td>75.0</td>\n",
       "      <td>64.0</td>\n",
       "      <td>F</td>\n",
       "      <td>68.0</td>\n",
       "      <td>2</td>\n",
       "    </tr>\n",
       "  </tbody>\n",
       "</table>\n",
       "</div>"
      ],
      "text/plain": [
       "  Family  Father  Mother Gender  Height  Kids\n",
       "0      1    78.5    67.0      M    73.2     4\n",
       "1      1    78.5    67.0      F    69.2     4\n",
       "2      1    78.5    67.0      F    69.0     4\n",
       "3      1    78.5    67.0      F    69.0     4\n",
       "4      2    75.5    66.5      M    73.5     4\n",
       "5      2    75.5    66.5      M    72.5     4\n",
       "6      2    75.5    66.5      F    65.5     4\n",
       "7      2    75.5    66.5      F    65.5     4\n",
       "8      3    75.0    64.0      M    71.0     2\n",
       "9      3    75.0    64.0      F    68.0     2"
      ]
     },
     "execution_count": 3,
     "metadata": {},
     "output_type": "execute_result"
    }
   ],
   "source": [
    "df_galton.head(10)"
   ]
  },
  {
   "cell_type": "markdown",
   "metadata": {},
   "source": [
    "# Exploratory data analysis"
   ]
  },
  {
   "cell_type": "code",
   "execution_count": 4,
   "metadata": {},
   "outputs": [
    {
     "name": "stdout",
     "output_type": "stream",
     "text": [
      "Father's mean: 69.2328507795 Child's mean: 66.7606904232\n"
     ]
    },
    {
     "data": {
      "image/png": "[encoded data removed]",
      "text/plain": [
       "<Figure size 432x288 with 1 Axes>"
      ]
     },
     "metadata": {},
     "output_type": "display_data"
    }
   ],
   "source": [
    "df_galton[['Father','Mother', 'Height']].boxplot()\n",
    "print(\"Father's mean:\", df_galton['Father'].mean(), \"Child's mean:\", df_galton['Height'].mean())"
   ]
  },
  {
   "cell_type": "code",
   "execution_count": 5,
   "metadata": {},
   "outputs": [],
   "source": [
    "slope, intercept = np.polyfit(df_galton['Father'], df_galton['Height'], deg=1)"
   ]
  },
  {
   "cell_type": "markdown",
   "metadata": {},
   "source": [
    "# Trying to find out the best model that fits data"
   ]
  },
  {
   "cell_type": "code",
   "execution_count": 6,
   "metadata": {},
   "outputs": [],
   "source": [
    "hover = HoverTool(tooltips=[(\"(x,y)\", \"($x, $y)\")])\n",
    "mapper = CategoricalColorMapper(factors=['M', 'F'], palette=['green', 'blue'])\n",
    "plot1 = figure(x_axis_label='Father', y_axis_label='Child', plot_width=400, plot_height=400, tools=[hover, 'crosshair', 'box_select, lasso_select', 'pan,box_zoom'])\n",
    "c = plot1.circle('Father', 'Height', source=source, hover_color='red', color={'field': 'Gender', 'transform': mapper})"
   ]
  },
  {
   "cell_type": "code",
   "execution_count": 7,
   "metadata": {},
   "outputs": [],
   "source": [
    "X = [df_galton['Father'].min(), df_galton['Father'].max()]\n",
    "y = [x * slope + intercept for x in X]\n",
    "line_source = ColumnDataSource({'x':X, 'y':y, 'i': np.repeat(intercept, len(X)), 's':np.repeat(slope, len(X))})\n",
    "l = plot1.line('x', 'y', source=line_source, line_color='orange')"
   ]
  },
  {
   "cell_type": "code",
   "execution_count": 8,
   "metadata": {},
   "outputs": [],
   "source": [
    "weights, step = np.linspace(-1,1.8,100, retstep=True)\n",
    "loss = [mean_squared_error(df_galton['Height'], df_galton['Father'] * slope + intercept) for slope in weights]\n",
    "loss_source = ColumnDataSource({'x':weights, 'y':loss})\n",
    "point_source = ColumnDataSource({'x':[weights[0]], 'y':[loss[0]]})\n",
    "plot2 = figure(x_axis_label='Weights (slopes)', y_axis_label='Loss (Cost/Error)', plot_width=400, plot_height=400, tools=[hover, 'crosshair', 'box_select, lasso_select', 'pan,box_zoom'])\n",
    "l2 = plot2.line('x', 'y', source=loss_source)\n",
    "c2 = plot2.circle('x', 'y', source=point_source, color='red', size=5)"
   ]
  },
  {
   "cell_type": "code",
   "execution_count": 9,
   "metadata": {},
   "outputs": [],
   "source": [
    "callback_slope = CustomJS(args=dict(line=line_source, source=source, point=point_source), code=\"\"\"\n",
    "    var line_data = line.data;\n",
    "    var source_data = source.data;\n",
    "    var point_data = point.data;\n",
    "    var new_s = cb_obj.value\n",
    "    \n",
    "    var x = line_data['x']\n",
    "    var y = line_data['y']\n",
    "    var i = line_data['i']\n",
    "    var s = line_data['s']\n",
    "    var p1 = point_data['x']\n",
    "    var p2 = point_data['y']\n",
    "    \n",
    "    for (var j = 0; j < x.length; j++) {\n",
    "        s[j] = new_s\n",
    "        y[j] = x[j] * new_s + i[j]\n",
    "    }\n",
    "    \n",
    "    father = source_data['Father'];    \n",
    "    y_pred = [];\n",
    "    for (var j = 0; j < father.length; j++) {\n",
    "        y_pred[j] = father[j] * new_s + i[0]\n",
    "    }\n",
    "    \n",
    "    var sum = 0;\n",
    "    child = source_data['Height'];\n",
    "    for (var j = 0; j < child.length; j++) {\n",
    "        sum = sum + Math.pow((child[j] - y_pred[j]), 2);\n",
    "    }\n",
    "    \n",
    "    for (var j = 0; j < p1.length; j++) {\n",
    "        p1[j] = s[0]\n",
    "        p2[j] = (sum / child.length)\n",
    "    }\n",
    "    \n",
    "    line.change.emit();\n",
    "    point.change.emit();\n",
    "\"\"\")\n",
    "\n",
    "slider_slope = Slider(start=-1, end=1.8, value=1.6, step=step, title=\"slope\")\n",
    "slider_slope.js_on_change('value', callback_slope)"
   ]
  },
  {
   "cell_type": "code",
   "execution_count": 10,
   "metadata": {},
   "outputs": [],
   "source": [
    "callback_intercept = CustomJS(args=dict(line=line_source, source=source, point=point_source), code=\"\"\"\n",
    "    var line_data = line.data;\n",
    "    var source_data = source.data;\n",
    "    var point_data = point.data;\n",
    "    var new_i = cb_obj.value\n",
    "    \n",
    "    var x = line_data['x']\n",
    "    var y = line_data['y']\n",
    "    var i = line_data['i']\n",
    "    var s = line_data['s']\n",
    "    var p1 = point_data['x']\n",
    "    var p2 = point_data['y']\n",
    "    \n",
    "    for (var j = 0; j < x.length; j++) {\n",
    "        i[j] = new_i\n",
    "        y[j] = x[j] * s[j] + new_i\n",
    "    }\n",
    "    \n",
    "    father = source_data['Father'];    \n",
    "    y_pred = [];\n",
    "    for (var j = 0; j < father.length; j++) {\n",
    "        y_pred[j] = father[j] * s[0] + new_i\n",
    "    }\n",
    "    \n",
    "    var sum = 0;\n",
    "    child = source_data['Height'];\n",
    "    for (var j = 0; j < child.length; j++) {\n",
    "        sum = sum + Math.pow((child[j] - y_pred[j]), 2);\n",
    "    }\n",
    "    \n",
    "    for (var j = 0; j < p1.length; j++) {\n",
    "        p1[j] = s[0]\n",
    "        p2[j] = (sum / child.length)\n",
    "    }\n",
    "    \n",
    "    line.change.emit();\n",
    "    point.change.emit();\n",
    "\"\"\")\n",
    "\n",
    "slider_intercept = Slider(start=0, end=100, value=66, step=1, title=\"intercept\")\n",
    "slider_intercept.js_on_change('value', callback_intercept)"
   ]
  },
  {
   "cell_type": "code",
   "execution_count": 11,
   "metadata": {},
   "outputs": [
    {
     "data": {
      "text/html": [
       "\n",
       "<div class=\"bk-root\">\n",
       "    <div class=\"bk-plotdiv\" id=\"c99bc54b-b832-41ee-a454-f740a4a7bd77\"></div>\n",
       "</div>"
      ]
     },
     "metadata": {},
     "output_type": "display_data"
    },
    {
     "data": {
      "application/javascript": [
       "(function(root) {\n",
       "  function embed_document(root) {\n",
       "    \n",
       "  var docs_json = {\"cd06a2c1-c305-4144-9901-c1eaa6ee5072\":{\"roots\":{\"references\":[{\"attributes\":{\"data_source\":{\"id\":\"e8bafbac-43d2-4b80-a894-a9c56de3d7fb\",\"type\":\"ColumnDataSource\"},\"glyph\":{\"id\":\"f2457232-d2dd-4f10-9d5c-de269e41b50d\",\"type\":\"Line\"},\"hover_glyph\":null,\"muted_glyph\":null,\"nonselection_glyph\":{\"id\":\"6d609e62-299c-485b-b152-272b59b35de4\",\"type\":\"Line\"},\"selection_glyph\":null,\"view\":{\"id\":\"5133a11c-5dfd-4632-aa95-3d7083c4ab89\",\"type\":\"CDSView\"}},\"id\":\"964e1e43-0065-4c68-b1d8-da3b2292f908\",\"type\":\"GlyphRenderer\"},{\"attributes\":{\"callback\":null,\"end\":1.8,\"js_property_callbacks\":{\"change:value\":[{\"id\":\"073757bd-5bb9-42db-9574-800b5ddcd833\",\"type\":\"CustomJS\"}]},\"start\":-1,\"step\":0.02828282828282828,\"title\":\"slope\",\"value\":1.6},\"id\":\"2a3e3a52-2b3a-41d5-abc3-cbf4d8d0c0fd\",\"type\":\"Slider\"},{\"attributes\":{\"bottom_units\":\"screen\",\"fill_alpha\":{\"value\":0.5},\"fill_color\":{\"value\":\"lightgrey\"},\"left_units\":\"screen\",\"level\":\"overlay\",\"line_alpha\":{\"value\":1.0},\"line_color\":{\"value\":\"black\"},\"line_dash\":[4,4],\"line_width\":{\"value\":2},\"plot\":null,\"render_mode\":\"css\",\"right_units\":\"screen\",\"top_units\":\"screen\"},\"id\":\"bd4f287a-35e3-4dc1-83be-34a3903a9f64\",\"type\":\"BoxAnnotation\"},{\"attributes\":{},\"id\":\"8859fadf-b142-4fef-99b1-fb67a9244d14\",\"type\":\"CrosshairTool\"},{\"attributes\":{},\"id\":\"b8cbd717-6af9-47ac-ae74-e2e22e1eed4f\",\"type\":\"UnionRenderers\"},{\"attributes\":{\"axis_label\":\"Father\",\"formatter\":{\"id\":\"17e8c5f1-72a6-42f3-9ece-aff4bdbe3f8b\",\"type\":\"BasicTickFormatter\"},\"plot\":{\"id\":\"af348914-ea27-49ba-a7c8-8f5f106444b2\",\"subtype\":\"Figure\",\"type\":\"Plot\"},\"ticker\":{\"id\":\"49652b99-66a3-4618-b8be-9829f872b3ab\",\"type\":\"BasicTicker\"}},\"id\":\"cddf99be-c808-461e-bdfc-d52629f6fe39\",\"type\":\"LinearAxis\"},{\"attributes\":{\"fill_alpha\":{\"value\":0.5},\"fill_color\":{\"value\":\"lightgrey\"},\"level\":\"overlay\",\"line_alpha\":{\"value\":1.0},\"line_color\":{\"value\":\"black\"},\"line_dash\":[4,4],\"line_width\":{\"value\":2},\"plot\":null,\"xs_units\":\"screen\",\"ys_units\":\"screen\"},\"id\":\"899dd933-baac-4d56-b084-8bf3a498a457\",\"type\":\"PolyAnnotation\"},{\"attributes\":{\"bottom_units\":\"screen\",\"fill_alpha\":{\"value\":0.5},\"fill_color\":{\"value\":\"lightgrey\"},\"left_units\":\"screen\",\"level\":\"overlay\",\"line_alpha\":{\"value\":1.0},\"line_color\":{\"value\":\"black\"},\"line_dash\":[4,4],\"line_width\":{\"value\":2},\"plot\":null,\"render_mode\":\"css\",\"right_units\":\"screen\",\"top_units\":\"screen\"},\"id\":\"db284382-b4b9-4edd-9b91-953400623e01\",\"type\":\"BoxAnnotation\"},{\"attributes\":{\"bottom_units\":\"screen\",\"fill_alpha\":{\"value\":0.5},\"fill_color\":{\"value\":\"lightgrey\"},\"left_units\":\"screen\",\"level\":\"overlay\",\"line_alpha\":{\"value\":1.0},\"line_color\":{\"value\":\"black\"},\"line_dash\":[4,4],\"line_width\":{\"value\":2},\"plot\":null,\"render_mode\":\"css\",\"right_units\":\"screen\",\"top_units\":\"screen\"},\"id\":\"00b42c2c-51fe-4a36-8856-c21ddb4a901e\",\"type\":\"BoxAnnotation\"},{\"attributes\":{\"fill_alpha\":{\"value\":0.1},\"fill_color\":{\"value\":\"#1f77b4\"},\"line_alpha\":{\"value\":0.1},\"line_color\":{\"value\":\"#1f77b4\"},\"size\":{\"units\":\"screen\",\"value\":5},\"x\":{\"field\":\"x\"},\"y\":{\"field\":\"y\"}},\"id\":\"825034a2-b98d-4130-862a-95b91f992f75\",\"type\":\"Circle\"},{\"attributes\":{},\"id\":\"49652b99-66a3-4618-b8be-9829f872b3ab\",\"type\":\"BasicTicker\"},{\"attributes\":{\"source\":{\"id\":\"277182d3-5279-42c4-9073-c845fc7c3100\",\"type\":\"ColumnDataSource\"}},\"id\":\"105e4c40-7e68-4a7b-90d5-dd54543aa57a\",\"type\":\"CDSView\"},{\"attributes\":{\"callback\":null,\"end\":100,\"js_property_callbacks\":{\"change:value\":[{\"id\":\"3576f118-6b09-47be-b1af-a7e9e12f1632\",\"type\":\"CustomJS\"}]},\"start\":0,\"title\":\"intercept\",\"value\":66},\"id\":\"3e910099-3a01-4ad8-b282-da3d35585003\",\"type\":\"Slider\"},{\"attributes\":{\"callback\":null,\"overlay\":{\"id\":\"00b42c2c-51fe-4a36-8856-c21ddb4a901e\",\"type\":\"BoxAnnotation\"}},\"id\":\"b367ba14-76dc-4213-8923-7793b5e80baa\",\"type\":\"BoxSelectTool\"},{\"attributes\":{\"line_alpha\":0.1,\"line_color\":\"#1f77b4\",\"x\":{\"field\":\"x\"},\"y\":{\"field\":\"y\"}},\"id\":\"6d609e62-299c-485b-b152-272b59b35de4\",\"type\":\"Line\"},{\"attributes\":{\"callback\":null,\"data\":{\"Family\":[\"1\",\"1\",\"1\",\"1\",\"2\",\"2\",\"2\",\"2\",\"3\",\"3\",\"4\",\"4\",\"4\",\"4\",\"4\",\"5\",\"5\",\"5\",\"5\",\"5\",\"5\",\"6\",\"7\",\"7\",\"7\",\"7\",\"7\",\"7\",\"8\",\"8\",\"8\",\"9\",\"10\",\"11\",\"11\",\"11\",\"11\",\"11\",\"11\",\"11\",\"11\",\"12\",\"14\",\"14\",\"15\",\"15\",\"15\",\"16\",\"16\",\"16\",\"16\",\"16\",\"16\",\"16\",\"16\",\"16\",\"17\",\"17\",\"17\",\"17\",\"17\",\"17\",\"18\",\"18\",\"18\",\"19\",\"20\",\"20\",\"20\",\"20\",\"20\",\"20\",\"20\",\"20\",\"21\",\"21\",\"21\",\"22\",\"22\",\"22\",\"23\",\"23\",\"23\",\"23\",\"23\",\"23\",\"23\",\"24\",\"25\",\"25\",\"26\",\"26\",\"26\",\"26\",\"26\",\"27\",\"27\",\"27\",\"28\",\"28\",\"28\",\"28\",\"28\",\"28\",\"29\",\"29\",\"29\",\"30\",\"31\",\"31\",\"31\",\"31\",\"31\",\"31\",\"32\",\"32\",\"32\",\"32\",\"32\",\"33\",\"33\",\"33\",\"33\",\"33\",\"34\",\"35\",\"35\",\"35\",\"35\",\"35\",\"36\",\"36\",\"36\",\"36\",\"37\",\"37\",\"37\",\"37\",\"38\",\"38\",\"38\",\"38\",\"38\",\"38\",\"39\",\"39\",\"40\",\"40\",\"40\",\"40\",\"40\",\"41\",\"42\",\"42\",\"42\",\"42\",\"42\",\"42\",\"43\",\"43\",\"44\",\"44\",\"45\",\"45\",\"45\",\"46\",\"46\",\"46\",\"46\",\"46\",\"46\",\"46\",\"46\",\"47\",\"47\",\"47\",\"47\",\"48\",\"48\",\"48\",\"49\",\"49\",\"49\",\"49\",\"49\",\"49\",\"49\",\"51\",\"51\",\"52\",\"52\",\"52\",\"52\",\"52\",\"53\",\"53\",\"53\",\"53\",\"53\",\"53\",\"53\",\"53\",\"53\",\"54\",\"54\",\"54\",\"54\",\"55\",\"55\",\"55\",\"55\",\"55\",\"56\",\"56\",\"56\",\"56\",\"56\",\"57\",\"57\",\"57\",\"57\",\"57\",\"58\",\"58\",\"58\",\"58\",\"58\",\"58\",\"58\",\"59\",\"60\",\"60\",\"61\",\"61\",\"61\",\"61\",\"62\",\"62\",\"62\",\"62\",\"62\",\"62\",\"63\",\"64\",\"64\",\"64\",\"64\",\"64\",\"65\",\"66\",\"66\",\"66\",\"66\",\"66\",\"66\",\"66\",\"66\",\"66\",\"66\",\"66\",\"67\",\"67\",\"67\",\"67\",\"68\",\"68\",\"68\",\"68\",\"68\",\"69\",\"69\",\"69\",\"69\",\"69\",\"69\",\"69\",\"69\",\"70\",\"70\",\"70\",\"70\",\"70\",\"71\",\"71\",\"71\",\"71\",\"71\",\"71\",\"72\",\"72\",\"72\",\"72\",\"72\",\"72\",\"72\",\"73\",\"73\",\"73\",\"74\",\"74\",\"75\",\"75\",\"75\",\"75\",\"75\",\"75\",\"75\",\"76\",\"76\",\"76\",\"76\",\"76\",\"76\",\"76\",\"77\",\"77\",\"77\",\"77\",\"78\",\"78\",\"78\",\"78\",\"78\",\"79\",\"79\",\"79\",\"79\",\"79\",\"79\",\"79\",\"79\",\"80\",\"81\",\"81\",\"81\",\"81\",\"82\",\"82\",\"82\",\"82\",\"82\",\"82\",\"82\",\"82\",\"82\",\"83\",\"83\",\"83\",\"83\",\"83\",\"83\",\"83\",\"83\",\"85\",\"85\",\"85\",\"85\",\"85\",\"86\",\"86\",\"86\",\"86\",\"87\",\"87\",\"87\",\"87\",\"88\",\"88\",\"88\",\"88\",\"89\",\"89\",\"89\",\"89\",\"89\",\"89\",\"89\",\"89\",\"90\",\"90\",\"90\",\"90\",\"90\",\"90\",\"90\",\"91\",\"91\",\"91\",\"92\",\"92\",\"93\",\"93\",\"93\",\"93\",\"94\",\"94\",\"95\",\"95\",\"95\",\"96\",\"96\",\"96\",\"96\",\"96\",\"97\",\"97\",\"97\",\"97\",\"97\",\"97\",\"97\",\"97\",\"97\",\"97\",\"98\",\"99\",\"99\",\"99\",\"99\",\"99\",\"99\",\"99\",\"99\",\"100\",\"100\",\"100\",\"101\",\"101\",\"101\",\"101\",\"101\",\"101\",\"102\",\"102\",\"102\",\"102\",\"102\",\"102\",\"103\",\"103\",\"103\",\"103\",\"103\",\"104\",\"104\",\"104\",\"104\",\"105\",\"105\",\"105\",\"105\",\"105\",\"105\",\"106\",\"106\",\"106\",\"106\",\"106\",\"106\",\"106\",\"107\",\"107\",\"107\",\"107\",\"107\",\"107\",\"107\",\"107\",\"107\",\"108\",\"108\",\"108\",\"108\",\"108\",\"108\",\"108\",\"109\",\"109\",\"109\",\"109\",\"109\",\"109\",\"109\",\"110\",\"110\",\"110\",\"110\",\"112\",\"112\",\"112\",\"113\",\"114\",\"114\",\"114\",\"114\",\"114\",\"114\",\"115\",\"115\",\"115\",\"115\",\"115\",\"115\",\"115\",\"116\",\"116\",\"116\",\"117\",\"118\",\"118\",\"118\",\"119\",\"119\",\"119\",\"119\",\"119\",\"121\",\"121\",\"121\",\"121\",\"121\",\"121\",\"121\",\"121\",\"122\",\"122\",\"122\",\"122\",\"123\",\"123\",\"123\",\"123\",\"123\",\"124\",\"124\",\"124\",\"124\",\"124\",\"124\",\"124\",\"124\",\"124\",\"125\",\"125\",\"125\",\"126\",\"126\",\"126\",\"126\",\"127\",\"128\",\"128\",\"129\",\"129\",\"129\",\"130\",\"130\",\"130\",\"130\",\"130\",\"130\",\"130\",\"130\",\"130\",\"130\",\"131\",\"131\",\"132\",\"132\",\"133\",\"133\",\"133\",\"133\",\"133\",\"133\",\"133\",\"134\",\"134\",\"134\",\"134\",\"135\",\"135\",\"135\",\"135\",\"135\",\"135\",\"135\",\"135\",\"136\",\"136\",\"136\",\"136\",\"136\",\"136\",\"136\",\"136\",\"136\",\"136\",\"137\",\"137\",\"137\",\"137\",\"138\",\"138\",\"138\",\"138\",\"138\",\"139\",\"140\",\"140\",\"140\",\"140\",\"140\",\"140\",\"140\",\"140\",\"140\",\"140\",\"141\",\"141\",\"141\",\"141\",\"141\",\"141\",\"141\",\"141\",\"142\",\"142\",\"142\",\"142\",\"143\",\"144\",\"144\",\"144\",\"144\",\"145\",\"145\",\"145\",\"145\",\"145\",\"145\",\"145\",\"145\",\"146\",\"146\",\"146\",\"146\",\"146\",\"146\",\"147\",\"148\",\"149\",\"149\",\"149\",\"149\",\"149\",\"150\",\"151\",\"151\",\"152\",\"153\",\"153\",\"153\",\"153\",\"153\",\"154\",\"155\",\"155\",\"155\",\"155\",\"155\",\"155\",\"155\",\"156\",\"156\",\"156\",\"156\",\"157\",\"158\",\"158\",\"158\",\"158\",\"158\",\"158\",\"158\",\"158\",\"158\",\"158\",\"159\",\"159\",\"159\",\"159\",\"159\",\"160\",\"162\",\"162\",\"162\",\"162\",\"162\",\"162\",\"163\",\"163\",\"163\",\"163\",\"163\",\"164\",\"164\",\"164\",\"164\",\"165\",\"165\",\"165\",\"166\",\"166\",\"166\",\"166\",\"166\",\"166\",\"166\",\"166\",\"166\",\"166\",\"166\",\"167\",\"167\",\"167\",\"167\",\"168\",\"168\",\"168\",\"168\",\"168\",\"168\",\"168\",\"168\",\"169\",\"169\",\"169\",\"170\",\"170\",\"170\",\"170\",\"170\",\"171\",\"172\",\"172\",\"172\",\"172\",\"172\",\"172\",\"172\",\"172\",\"173\",\"173\",\"173\",\"173\",\"173\",\"173\",\"173\",\"173\",\"173\",\"174\",\"174\",\"174\",\"174\",\"174\",\"175\",\"175\",\"175\",\"175\",\"175\",\"175\",\"176\",\"176\",\"176\",\"176\",\"176\",\"176\",\"176\",\"176\",\"177\",\"177\",\"177\",\"177\",\"177\",\"178\",\"179\",\"179\",\"180\",\"180\",\"180\",\"180\",\"180\",\"180\",\"181\",\"181\",\"181\",\"181\",\"181\",\"181\",\"181\",\"182\",\"183\",\"183\",\"183\",\"183\",\"184\",\"185\",\"185\",\"185\",\"185\",\"185\",\"185\",\"185\",\"185\",\"185\",\"185\",\"185\",\"185\",\"185\",\"185\",\"185\",\"186\",\"186\",\"186\",\"186\",\"187\",\"188\",\"188\",\"188\",\"188\",\"190\",\"190\",\"190\",\"190\",\"190\",\"190\",\"190\",\"190\",\"190\",\"191\",\"191\",\"192\",\"192\",\"192\",\"192\",\"192\",\"192\",\"193\",\"193\",\"193\",\"193\",\"193\",\"193\",\"194\",\"194\",\"195\",\"195\",\"195\",\"196\",\"196\",\"196\",\"196\",\"197\",\"197\",\"197\",\"197\",\"197\",\"198\",\"198\",\"198\",\"198\",\"198\",\"198\",\"198\",\"199\",\"199\",\"199\",\"199\",\"199\",\"199\",\"199\",\"200\",\"201\",\"201\",\"203\",\"203\",\"203\",\"204\",\"204\",\"136A\",\"136A\",\"136A\",\"136A\",\"136A\",\"136A\",\"136A\",\"136A\"],\"Father\":{\"__ndarray__\":\"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\",\"dtype\":\"float64\",\"shape\":[898]},\"Gender\":[\"M\",\"F\",\"F\",\"F\",\"M\",\"M\",\"F\",\"F\",\"M\",\"F\",\"M\",\"M\",\"F\",\"F\",\"F\",\"M\",\"M\",\"M\",\"F\",\"F\",\"F\",\"F\",\"M\",\"M\",\"M\",\"M\",\"F\",\"F\",\"F\",\"F\",\"F\",\"F\",\"F\",\"M\",\"M\",\"F\",\"F\",\"F\",\"F\",\"F\",\"F\",\"F\",\"M\",\"M\",\"M\",\"M\",\"F\",\"M\",\"M\",\"M\",\"M\",\"M\",\"F\",\"F\",\"F\",\"F\",\"M\",\"M\",\"M\",\"M\",\"F\",\"F\",\"F\",\"F\",\"F\",\"F\",\"M\",\"M\",\"M\",\"F\",\"F\",\"F\",\"F\",\"F\",\"M\",\"F\",\"F\",\"M\",\"M\",\"F\",\"M\",\"M\",\"M\",\"F\",\"F\",\"F\",\"F\",\"F\",\"F\",\"F\",\"M\",\"M\",\"M\",\"F\",\"F\",\"M\",\"M\",\"F\",\"M\",\"M\",\"F\",\"F\",\"F\",\"F\",\"F\",\"F\",\"F\",\"F\",\"M\",\"M\",\"M\",\"F\",\"F\",\"F\",\"M\",\"M\",\"M\",\"F\",\"F\",\"M\",\"M\",\"M\",\"M\",\"F\",\"F\",\"M\",\"M\",\"M\",\"M\",\"F\",\"M\",\"M\",\"M\",\"F\",\"M\",\"F\",\"F\",\"F\",\"M\",\"M\",\"M\",\"F\",\"F\",\"F\",\"M\",\"F\",\"M\",\"M\",\"M\",\"M\",\"F\",\"M\",\"M\",\"M\",\"M\",\"M\",\"F\",\"F\",\"M\",\"F\",\"M\",\"M\",\"M\",\"M\",\"F\",\"F\",\"F\",\"F\",\"F\",\"F\",\"F\",\"F\",\"F\",\"M\",\"M\",\"M\",\"F\",\"M\",\"M\",\"M\",\"M\",\"M\",\"M\",\"F\",\"F\",\"F\",\"F\",\"F\",\"F\",\"M\",\"M\",\"F\",\"F\",\"F\",\"M\",\"M\",\"M\",\"M\",\"F\",\"F\",\"F\",\"F\",\"F\",\"M\",\"M\",\"M\",\"F\",\"M\",\"M\",\"F\",\"F\",\"F\",\"M\",\"M\",\"M\",\"F\",\"F\",\"M\",\"F\",\"F\",\"F\",\"F\",\"M\",\"M\",\"M\",\"M\",\"M\",\"F\",\"F\",\"F\",\"M\",\"M\",\"M\",\"M\",\"M\",\"F\",\"M\",\"M\",\"F\",\"F\",\"F\",\"F\",\"M\",\"M\",\"M\",\"F\",\"F\",\"F\",\"F\",\"M\",\"M\",\"M\",\"M\",\"F\",\"F\",\"F\",\"F\",\"F\",\"F\",\"F\",\"M\",\"M\",\"M\",\"M\",\"F\",\"F\",\"F\",\"F\",\"F\",\"M\",\"M\",\"M\",\"M\",\"M\",\"F\",\"F\",\"F\",\"M\",\"M\",\"F\",\"F\",\"F\",\"M\",\"M\",\"F\",\"F\",\"F\",\"F\",\"M\",\"M\",\"M\",\"F\",\"F\",\"F\",\"F\",\"M\",\"M\",\"F\",\"M\",\"M\",\"M\",\"M\",\"M\",\"F\",\"F\",\"F\",\"F\",\"M\",\"M\",\"M\",\"M\",\"M\",\"M\",\"F\",\"M\",\"M\",\"M\",\"F\",\"M\",\"M\",\"F\",\"F\",\"F\",\"M\",\"M\",\"M\",\"M\",\"M\",\"M\",\"F\",\"F\",\"F\",\"M\",\"F\",\"F\",\"F\",\"M\",\"M\",\"M\",\"M\",\"M\",\"M\",\"F\",\"F\",\"F\",\"M\",\"M\",\"M\",\"F\",\"F\",\"F\",\"F\",\"F\",\"M\",\"M\",\"M\",\"F\",\"F\",\"M\",\"M\",\"F\",\"F\",\"M\",\"M\",\"F\",\"F\",\"M\",\"M\",\"F\",\"F\",\"M\",\"M\",\"M\",\"M\",\"M\",\"F\",\"F\",\"F\",\"M\",\"M\",\"M\",\"M\",\"F\",\"F\",\"F\",\"M\",\"M\",\"F\",\"M\",\"M\",\"M\",\"M\",\"F\",\"F\",\"F\",\"F\",\"M\",\"M\",\"F\",\"M\",\"M\",\"F\",\"F\",\"F\",\"M\",\"M\",\"M\",\"F\",\"F\",\"F\",\"F\",\"F\",\"F\",\"F\",\"F\",\"M\",\"M\",\"M\",\"M\",\"F\",\"F\",\"F\",\"F\",\"M\",\"M\",\"M\",\"M\",\"M\",\"M\",\"M\",\"M\",\"M\",\"M\",\"M\",\"M\",\"F\",\"F\",\"F\",\"M\",\"M\",\"M\",\"M\",\"F\",\"M\",\"M\",\"F\",\"F\",\"M\",\"F\",\"F\",\"F\",\"F\",\"F\",\"M\",\"M\",\"M\",\"M\",\"F\",\"F\",\"F\",\"M\",\"M\",\"M\",\"M\",\"F\",\"F\",\"F\",\"F\",\"F\",\"M\",\"M\",\"M\",\"F\",\"F\",\"F\",\"F\",\"M\",\"M\",\"M\",\"F\",\"F\",\"F\",\"F\",\"M\",\"M\",\"F\",\"F\",\"M\",\"F\",\"F\",\"M\",\"M\",\"M\",\"M\",\"M\",\"F\",\"F\",\"M\",\"M\",\"M\",\"F\",\"F\",\"F\",\"F\",\"M\",\"F\",\"F\",\"F\",\"M\",\"M\",\"M\",\"M\",\"M\",\"M\",\"M\",\"F\",\"M\",\"M\",\"M\",\"M\",\"F\",\"F\",\"F\",\"F\",\"M\",\"M\",\"F\",\"F\",\"M\",\"M\",\"M\",\"F\",\"F\",\"M\",\"M\",\"M\",\"M\",\"M\",\"M\",\"F\",\"F\",\"F\",\"M\",\"F\",\"F\",\"M\",\"M\",\"F\",\"F\",\"M\",\"M\",\"F\",\"M\",\"M\",\"F\",\"M\",\"M\",\"M\",\"M\",\"M\",\"M\",\"M\",\"M\",\"M\",\"F\",\"M\",\"M\",\"M\",\"F\",\"M\",\"M\",\"M\",\"M\",\"F\",\"F\",\"F\",\"M\",\"M\",\"F\",\"F\",\"M\",\"M\",\"M\",\"M\",\"F\",\"F\",\"F\",\"F\",\"M\",\"M\",\"M\",\"M\",\"F\",\"F\",\"F\",\"F\",\"F\",\"F\",\"M\",\"M\",\"F\",\"F\",\"M\",\"M\",\"M\",\"M\",\"F\",\"F\",\"M\",\"M\",\"M\",\"F\",\"F\",\"F\",\"F\",\"F\",\"F\",\"F\",\"M\",\"M\",\"M\",\"M\",\"M\",\"F\",\"F\",\"F\",\"M\",\"M\",\"M\",\"F\",\"M\",\"M\",\"M\",\"F\",\"F\",\"M\",\"M\",\"M\",\"M\",\"M\",\"F\",\"F\",\"F\",\"M\",\"M\",\"M\",\"F\",\"F\",\"F\",\"M\",\"M\",\"M\",\"M\",\"M\",\"M\",\"F\",\"M\",\"M\",\"F\",\"M\",\"M\",\"M\",\"M\",\"F\",\"F\",\"M\",\"M\",\"F\",\"F\",\"F\",\"F\",\"F\",\"F\",\"M\",\"M\",\"M\",\"F\",\"M\",\"M\",\"M\",\"M\",\"M\",\"M\",\"M\",\"F\",\"F\",\"F\",\"F\",\"M\",\"M\",\"M\",\"F\",\"F\",\"M\",\"M\",\"M\",\"F\",\"F\",\"F\",\"F\",\"M\",\"M\",\"F\",\"F\",\"F\",\"M\",\"M\",\"F\",\"F\",\"M\",\"F\",\"F\",\"M\",\"M\",\"F\",\"F\",\"F\",\"F\",\"F\",\"F\",\"F\",\"F\",\"F\",\"M\",\"M\",\"M\",\"M\",\"M\",\"M\",\"M\",\"M\",\"M\",\"M\",\"M\",\"F\",\"M\",\"M\",\"F\",\"M\",\"M\",\"M\",\"M\",\"F\",\"M\",\"M\",\"M\",\"M\",\"M\",\"M\",\"F\",\"F\",\"F\",\"M\",\"M\",\"M\",\"F\",\"F\",\"F\",\"F\",\"F\",\"F\",\"M\",\"M\",\"F\",\"F\",\"F\",\"M\",\"M\",\"F\",\"F\",\"F\",\"F\",\"M\",\"M\",\"M\",\"M\",\"F\",\"F\",\"F\",\"F\",\"M\",\"M\",\"M\",\"F\",\"F\",\"M\",\"F\",\"F\",\"M\",\"M\",\"M\",\"F\",\"F\",\"F\",\"M\",\"M\",\"F\",\"F\",\"F\",\"F\",\"F\",\"M\",\"M\",\"M\",\"M\",\"F\",\"M\",\"M\",\"M\",\"M\",\"M\",\"M\",\"M\",\"M\",\"F\",\"F\",\"F\",\"F\",\"F\",\"F\",\"F\",\"F\",\"M\",\"M\",\"M\",\"F\",\"F\",\"M\",\"F\",\"F\",\"F\",\"M\",\"M\",\"M\",\"F\",\"F\",\"F\",\"F\",\"F\",\"F\",\"M\",\"F\",\"M\",\"M\",\"M\",\"M\",\"F\",\"F\",\"M\",\"M\",\"F\",\"F\",\"F\",\"F\",\"M\",\"F\",\"M\",\"M\",\"F\",\"M\",\"M\",\"M\",\"F\",\"M\",\"M\",\"M\",\"M\",\"F\",\"M\",\"M\",\"F\",\"F\",\"F\",\"F\",\"F\",\"M\",\"M\",\"F\",\"F\",\"F\",\"F\",\"F\",\"M\",\"M\",\"F\",\"M\",\"F\",\"F\",\"M\",\"F\",\"M\",\"M\",\"M\",\"M\",\"M\",\"F\",\"F\",\"F\"],\"Height\":{\"__ndarray__\":\"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\",\"dtype\":\"float64\",\"shape\":[898]},\"Kids\":[4,4,4,4,4,4,4,4,2,2,5,5,5,5,5,6,6,6,6,6,6,1,6,6,6,6,6,6,3,3,3,1,1,8,8,8,8,8,8,8,8,1,2,2,3,3,3,9,9,9,9,9,9,9,9,9,6,6,6,6,6,6,3,3,3,1,8,8,8,8,8,8,8,8,3,3,3,3,3,3,7,7,7,7,7,7,7,1,2,2,5,5,5,5,5,3,3,3,6,6,6,6,6,6,3,3,3,1,6,6,6,6,6,6,5,5,5,5,5,5,5,5,5,5,1,5,5,5,5,5,4,4,4,4,4,4,4,4,6,6,6,6,6,6,2,2,5,5,5,5,5,1,6,6,6,6,6,6,2,2,2,2,3,3,3,8,8,8,8,8,8,8,8,4,4,4,4,3,3,3,7,7,7,7,7,7,7,2,2,5,5,5,5,5,9,9,9,9,9,9,9,9,9,4,4,4,4,5,5,5,5,5,5,5,5,5,5,5,5,5,5,5,7,7,7,7,7,7,7,1,2,2,4,4,4,4,6,6,6,6,6,6,1,5,5,5,5,5,1,11,11,11,11,11,11,11,11,11,11,11,4,4,4,4,5,5,5,5,5,8,8,8,8,8,8,8,8,5,5,5,5,5,6,6,6,6,6,6,7,7,7,7,7,7,7,3,3,3,2,2,7,7,7,7,7,7,7,7,7,7,7,7,7,7,4,4,4,4,5,5,5,5,5,8,8,8,8,8,8,8,8,1,4,4,4,4,9,9,9,9,9,9,9,9,9,8,8,8,8,8,8,8,8,5,5,5,5,5,4,4,4,4,4,4,4,4,4,4,4,4,8,8,8,8,8,8,8,8,7,7,7,7,7,7,7,3,3,3,2,2,4,4,4,4,2,2,3,3,3,5,5,5,5,5,10,10,10,10,10,10,10,10,10,10,1,8,8,8,8,8,8,8,8,3,3,3,6,6,6,6,6,6,6,6,6,6,6,6,5,5,5,5,5,4,4,4,4,6,6,6,6,6,6,7,7,7,7,7,7,7,9,9,9,9,9,9,9,9,9,7,7,7,7,7,7,7,7,7,7,7,7,7,7,4,4,4,4,3,3,3,1,6,6,6,6,6,6,7,7,7,7,7,7,7,3,3,3,1,3,3,3,5,5,5,5,5,8,8,8,8,8,8,8,8,4,4,4,4,5,5,5,5,5,9,9,9,9,9,9,9,9,9,3,3,3,4,4,4,4,1,2,2,3,3,3,11,11,11,11,11,11,11,11,11,11,2,2,2,2,7,7,7,7,7,7,7,4,4,4,4,8,8,8,8,8,8,8,8,10,10,10,10,10,10,10,10,10,10,4,4,4,4,5,5,5,5,5,1,10,10,10,10,10,10,10,10,10,10,8,8,8,8,8,8,8,8,4,4,4,4,1,4,4,4,4,8,8,8,8,8,8,8,8,6,6,6,6,6,6,1,1,5,5,5,5,5,1,2,2,1,5,5,5,5,5,1,7,7,7,7,7,7,7,4,4,4,4,1,10,10,10,10,10,10,10,10,10,10,5,5,5,5,5,1,6,6,6,6,6,6,5,5,5,5,5,4,4,4,4,3,3,3,11,11,11,11,11,11,11,11,11,11,11,4,4,4,4,8,8,8,8,8,8,8,8,3,3,3,5,5,5,5,5,1,8,8,8,8,8,8,8,8,9,9,9,9,9,9,9,9,9,5,5,5,5,5,6,6,6,6,6,6,8,8,8,8,8,8,8,8,5,5,5,5,5,1,2,2,6,6,6,6,6,6,7,7,7,7,7,7,7,1,4,4,4,4,1,15,15,15,15,15,15,15,15,15,15,15,15,15,15,15,4,4,4,4,1,4,4,4,4,9,9,9,9,9,9,9,9,9,2,2,6,6,6,6,6,6,6,6,6,6,6,6,2,2,3,3,3,4,4,4,4,5,5,5,5,5,7,7,7,7,7,7,7,7,7,7,7,7,7,7,1,2,2,3,3,3,2,2,8,8,8,8,8,8,8,8],\"Mother\":{\"__ndarray__\":\"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\",\"dtype\":\"float64\",\"shape\":[898]},\"index\":[0,1,2,3,4,5,6,7,8,9,10,11,12,13,14,15,16,17,18,19,20,21,22,23,24,25,26,27,28,29,30,31,32,33,34,35,36,37,38,39,40,41,42,43,44,45,46,47,48,49,50,51,52,53,54,55,56,57,58,59,60,61,62,63,64,65,66,67,68,69,70,71,72,73,74,75,76,77,78,79,80,81,82,83,84,85,86,87,88,89,90,91,92,93,94,95,96,97,98,99,100,101,102,103,104,105,106,107,108,109,110,111,112,113,114,115,116,117,118,119,120,121,122,123,124,125,126,127,128,129,130,131,132,133,134,135,136,137,138,139,140,141,142,143,144,145,146,147,148,149,150,151,152,153,154,155,156,157,158,159,160,161,162,163,164,165,166,167,168,169,170,171,172,173,174,175,176,177,178,179,180,181,182,183,184,185,186,187,188,189,190,191,192,193,194,195,196,197,198,199,200,201,202,203,204,205,206,207,208,209,210,211,212,213,214,215,216,217,218,219,220,221,222,223,224,225,226,227,228,229,230,231,232,233,234,235,236,237,238,239,240,241,242,243,244,245,246,247,248,249,250,251,252,253,254,255,256,257,258,259,260,261,262,263,264,265,266,267,268,269,270,271,272,273,274,275,276,277,278,279,280,281,282,283,284,285,286,287,288,289,290,291,292,293,294,295,296,297,298,299,300,301,302,303,304,305,306,307,308,309,310,311,312,313,314,315,316,317,318,319,320,321,322,323,324,325,326,327,328,329,330,331,332,333,334,335,336,337,338,339,340,341,342,343,344,345,346,347,348,349,350,351,352,353,354,355,356,357,358,359,360,361,362,363,364,365,366,367,368,369,370,371,372,373,374,375,376,377,378,379,380,381,382,383,384,385,386,387,388,389,390,391,392,393,394,395,396,397,398,399,400,401,402,403,404,405,406,407,408,409,410,411,412,413,414,415,416,417,418,419,420,421,422,423,424,425,426,427,428,429,430,431,432,433,434,435,436,437,438,439,440,441,442,443,444,445,446,447,448,449,450,451,452,453,454,455,456,457,458,459,460,461,462,463,464,465,466,467,468,469,470,471,472,473,474,475,476,477,478,479,480,481,482,483,484,485,486,487,488,489,490,491,492,493,494,495,496,497,498,499,500,501,502,503,504,505,506,507,508,509,510,511,512,513,514,515,516,517,518,519,520,521,522,523,524,525,526,527,528,529,530,531,532,533,534,535,536,537,538,539,540,541,542,543,544,545,546,547,548,549,550,551,552,553,554,555,556,557,558,559,560,561,562,563,564,565,566,567,568,569,570,571,572,573,574,575,576,577,578,579,580,581,582,583,584,585,586,587,588,589,590,591,592,593,594,595,596,597,598,599,600,601,602,603,604,605,606,607,608,609,610,611,612,613,614,615,616,617,618,619,620,621,622,623,624,625,626,627,628,629,630,631,632,633,634,635,636,637,638,639,640,641,642,643,644,645,646,647,648,649,650,651,652,653,654,655,656,657,658,659,660,661,662,663,664,665,666,667,668,669,670,671,672,673,674,675,676,677,678,679,680,681,682,683,684,685,686,687,688,689,690,691,692,693,694,695,696,697,698,699,700,701,702,703,704,705,706,707,708,709,710,711,712,713,714,715,716,717,718,719,720,721,722,723,724,725,726,727,728,729,730,731,732,733,734,735,736,737,738,739,740,741,742,743,744,745,746,747,748,749,750,751,752,753,754,755,756,757,758,759,760,761,762,763,764,765,766,767,768,769,770,771,772,773,774,775,776,777,778,779,780,781,782,783,784,785,786,787,788,789,790,791,792,793,794,795,796,797,798,799,800,801,802,803,804,805,806,807,808,809,810,811,812,813,814,815,816,817,818,819,820,821,822,823,824,825,826,827,828,829,830,831,832,833,834,835,836,837,838,839,840,841,842,843,844,845,846,847,848,849,850,851,852,853,854,855,856,857,858,859,860,861,862,863,864,865,866,867,868,869,870,871,872,873,874,875,876,877,878,879,880,881,882,883,884,885,886,887,888,889,890,891,892,893,894,895,896,897]},\"selected\":{\"id\":\"a0c77ed7-4a4e-4c6f-91fc-d1d55068330d\",\"type\":\"Selection\"},\"selection_policy\":{\"id\":\"f3c8bf5a-f26e-4da0-996e-0991131f9dd3\",\"type\":\"UnionRenderers\"}},\"id\":\"8a1bfe83-d34d-42ad-8e8e-82a3bb5f5f73\",\"type\":\"ColumnDataSource\"},{\"attributes\":{\"dimension\":1,\"plot\":{\"id\":\"af348914-ea27-49ba-a7c8-8f5f106444b2\",\"subtype\":\"Figure\",\"type\":\"Plot\"},\"ticker\":{\"id\":\"82ab8779-ede6-4ba6-98cc-b802711dd7f4\",\"type\":\"BasicTicker\"}},\"id\":\"fb65067f-f43b-4211-b6bc-ebcfc73f65cd\",\"type\":\"Grid\"},{\"attributes\":{\"source\":{\"id\":\"e8bafbac-43d2-4b80-a894-a9c56de3d7fb\",\"type\":\"ColumnDataSource\"}},\"id\":\"5133a11c-5dfd-4632-aa95-3d7083c4ab89\",\"type\":\"CDSView\"},{\"attributes\":{},\"id\":\"82ab8779-ede6-4ba6-98cc-b802711dd7f4\",\"type\":\"BasicTicker\"},{\"attributes\":{},\"id\":\"9954c9f5-5801-4df5-8b04-c71f747fd68b\",\"type\":\"LinearScale\"},{\"attributes\":{\"data_source\":{\"id\":\"277182d3-5279-42c4-9073-c845fc7c3100\",\"type\":\"ColumnDataSource\"},\"glyph\":{\"id\":\"74ac0573-3cbc-4459-ab6a-e52fd6b59be0\",\"type\":\"Circle\"},\"hover_glyph\":null,\"muted_glyph\":null,\"nonselection_glyph\":{\"id\":\"825034a2-b98d-4130-862a-95b91f992f75\",\"type\":\"Circle\"},\"selection_glyph\":null,\"view\":{\"id\":\"105e4c40-7e68-4a7b-90d5-dd54543aa57a\",\"type\":\"CDSView\"}},\"id\":\"cf469a5c-182b-4403-9bda-83374241167f\",\"type\":\"GlyphRenderer\"},{\"attributes\":{\"axis_label\":\"Child\",\"formatter\":{\"id\":\"efd2b06d-bde0-4eff-ad08-0cb56041f6e7\",\"type\":\"BasicTickFormatter\"},\"plot\":{\"id\":\"af348914-ea27-49ba-a7c8-8f5f106444b2\",\"subtype\":\"Figure\",\"type\":\"Plot\"},\"ticker\":{\"id\":\"82ab8779-ede6-4ba6-98cc-b802711dd7f4\",\"type\":\"BasicTicker\"}},\"id\":\"324573d6-34d1-457a-926b-1fd5cdd0b156\",\"type\":\"LinearAxis\"},{\"attributes\":{\"plot\":{\"id\":\"af348914-ea27-49ba-a7c8-8f5f106444b2\",\"subtype\":\"Figure\",\"type\":\"Plot\"},\"ticker\":{\"id\":\"49652b99-66a3-4618-b8be-9829f872b3ab\",\"type\":\"BasicTicker\"}},\"id\":\"170f798d-a0e3-4e11-840a-1022f19c8ced\",\"type\":\"Grid\"},{\"attributes\":{},\"id\":\"6026c2a9-12c4-4d14-952e-4bf33f9597f5\",\"type\":\"LinearScale\"},{\"attributes\":{\"children\":[{\"id\":\"a690d246-1202-4366-ad3e-76cbc5b64433\",\"type\":\"WidgetBox\"},{\"id\":\"6132724f-4b26-40cb-8ee1-13863f0057a7\",\"type\":\"WidgetBox\"}]},\"id\":\"a5422026-f0c8-4203-861b-ab615ca74212\",\"type\":\"Row\"},{\"attributes\":{\"callback\":null},\"id\":\"60967be9-9500-41e4-891f-4b35366e74e8\",\"type\":\"DataRange1d\"},{\"attributes\":{\"plot\":null,\"text\":\"\"},\"id\":\"4e8504f1-0b1e-48db-bf5c-364354e11702\",\"type\":\"Title\"},{\"attributes\":{\"line_color\":\"#1f77b4\",\"x\":{\"field\":\"x\"},\"y\":{\"field\":\"y\"}},\"id\":\"f2457232-d2dd-4f10-9d5c-de269e41b50d\",\"type\":\"Line\"},{\"attributes\":{\"active_drag\":\"auto\",\"active_inspect\":\"auto\",\"active_scroll\":\"auto\",\"active_tap\":\"auto\",\"tools\":[{\"id\":\"84bedc9b-1dab-41af-b629-414f900ff95b\",\"type\":\"HoverTool\"},{\"id\":\"8859fadf-b142-4fef-99b1-fb67a9244d14\",\"type\":\"CrosshairTool\"},{\"id\":\"b367ba14-76dc-4213-8923-7793b5e80baa\",\"type\":\"BoxSelectTool\"},{\"id\":\"f2d3ce34-70b8-44b8-ba24-38e8be76d9f5\",\"type\":\"LassoSelectTool\"},{\"id\":\"b00c8259-1140-4a0f-8fb3-ef5b0e7b7835\",\"type\":\"PanTool\"},{\"id\":\"6d3bb51c-9077-4b89-a546-ea6bf4279701\",\"type\":\"BoxZoomTool\"}]},\"id\":\"c5847f9b-b8d5-4c6f-964f-9daa11fa974e\",\"type\":\"Toolbar\"},{\"attributes\":{\"callback\":null,\"data\":{\"x\":{\"__ndarray__\":\"AAAAAAAA8L9ulC+cThjvv9soXzidMO6/Sb2O1OtI7b+3Ub5wOmHsvyTm7QyJeeu/knodqdeR6r8AD01FJqrpv22jfOF0wui/2zesfcPa579IzNsZEvPmv7ZgC7ZgC+a/JPU6Uq8j5b+SiWru/Tvkv/8dmopMVOO/bbLJJpts4r/aRvnC6YThv0jbKF84neC/bN+w9g1r379GCBAvq5vdvyIxb2dIzNu//lnOn+X82b/Ygi3Ygi3Yv7SrjBAgXta/kNTrSL2O1L9q/UqBWr/Sv0Ymqrn379C/RJ4S5ClBzr/479BUZKLKv7BBj8WeA8e/aJNNNtlkw784yhdOJ4y/v6htlC+cTri/GBERERERsb8AaRvlC6ejv4C/UqDWr4S/gBLkKUGekj9gwvjRNsqnP9C9f4emIrM/YBoDpjFguj94O0Ni3s7AP8DphPGjbcQ/CJjGgGkMyD9QRggQL6vLP6D0SZ/0Sc8/dNFFF1100T+YqObev0PTP7x/h6YiE9U/4FYoboXi1j8ELsk16LHYPywFav1Kgdo/UNwKxa1Q3D90s6uMECDeP5iKTFRz798/3rD2DWvf4D9wHMdxHMfhPwSIl9XNruI/lvNnOX+W4z8oXzidMH7kP7rKCAHiZeU/TDbZZJNN5j/eoanIRDXnP3INeiz2HOg/BHlKkKcE6T+W5Br0WOzpPyhQ61cK1Oo/uru7u7u76z9OJ4wfbaPsP+CSXIMei+0/cv4s589y7j8Eav1KgVrvP8zqZlcZIfA/lCBPCfKU8D9eVje7ygjxPyaMH22jfPE/8MEHH3zw8T+69+/QVGTyP4It2IIt2PI/TGPANAZM8z8Umajm3r/zP97OkJi3M/Q/pgR5SpCn9D9wOmH8aBv1PzpwSa5Bj/U/AqYxYBoD9j/M2xkS83b2P5QRAsTL6vY/XkfqdaRe9z8ofdInfdL3P/CyutlVRvg/uuiiiy66+D+CHos9By75P0xUc+/fofk/FIpbobgV+j/ev0NTkYn6P6j1KwVq/fo/cCsUt0Jx+z86YfxoG+X7PwKX5Br0WPw/zczMzMzM/D8=\",\"dtype\":\"float64\",\"shape\":[100]},\"y\":[9410.13272960428,9034.07530368887,8665.695947089871,8304.994659807286,7951.971441841113,7606.626293191351,7268.959213858003,6938.970203841067,6616.659263140541,6302.026391756428,5995.071589688728,5695.79485693744,5404.196193502565,5120.275599384102,4844.033074582049,4575.468619096411,4314.582232927182,4061.373916074369,3815.843668537966,3577.991490317975,3347.817381414397,3125.3213418272317,2910.5033715564773,2703.3634706021367,2503.9016389642065,2312.117876642689,2128.0121836375843,1951.5845599488919,1782.8350055766102,1621.7635205207423,1468.370104781286,1322.6547583582417,1184.61748125161,1054.2582734613904,931.5771349875826,816.5740658301875,709.2490659892043,609.6021354646335,517.6332742564742,433.3424823647278,356.7297597893935,287.7951065304714,226.53852258796152,172.96000796186374,127.05956265217779,88.83718665890447,58.29287998204329,35.42664262159428,20.238474577557454,12.728375849932785,12.896346438720329,20.742386343920074,36.266495565532004,59.46867410355608,90.34892195799233,128.90723912884076,175.14362561610153,229.0580814197746,290.65060653985955,359.9212009763568,436.86986472926606,521.4965977985876,613.801400184322,713.7842718864678,821.4452129050261,936.7842232399962,1059.8013028913788,1190.4964518591742,1328.869670143381,1474.9209577440001,1628.6503146610307,1790.0577408944757,1959.1432364443301,2135.9068013105993,2320.348435493278,2512.4681389923717,2712.265911807877,2919.7417539397916,3134.895665388123,3357.7276461528613,3588.2376962340163,3826.4258156315796,4072.2920043455583,4325.83626237595,4587.058589722749,4855.958986385966,5132.537452365589,5416.793987661629,5708.728592274083,6008.341266202942,6315.63200944822,6630.600822009905,6953.247703888007,7283.572655082515,7621.575675593441,7967.25676542078,8320.615924564525,8681.653153024688,9050.368450801256,9426.761817894247]},\"selected\":{\"id\":\"6fbca874-5fd7-4a4b-8e8c-69905da87754\",\"type\":\"Selection\"},\"selection_policy\":{\"id\":\"f4007c2d-78cd-4d62-8fb0-fc5c5937163a\",\"type\":\"UnionRenderers\"}},\"id\":\"e8bafbac-43d2-4b80-a894-a9c56de3d7fb\",\"type\":\"ColumnDataSource\"},{\"attributes\":{\"below\":[{\"id\":\"547e0808-bccf-45a8-805d-3b2d94a03501\",\"type\":\"LinearAxis\"}],\"left\":[{\"id\":\"94fff9d7-df20-47e0-9bab-907329e112bd\",\"type\":\"LinearAxis\"}],\"plot_height\":400,\"plot_width\":400,\"renderers\":[{\"id\":\"547e0808-bccf-45a8-805d-3b2d94a03501\",\"type\":\"LinearAxis\"},{\"id\":\"148c8ec1-1c40-45e4-bf46-3ebaf75c5924\",\"type\":\"Grid\"},{\"id\":\"94fff9d7-df20-47e0-9bab-907329e112bd\",\"type\":\"LinearAxis\"},{\"id\":\"cffc2ded-6f3f-4783-8237-10ae2a5a5e98\",\"type\":\"Grid\"},{\"id\":\"bd4f287a-35e3-4dc1-83be-34a3903a9f64\",\"type\":\"BoxAnnotation\"},{\"id\":\"899dd933-baac-4d56-b084-8bf3a498a457\",\"type\":\"PolyAnnotation\"},{\"id\":\"db284382-b4b9-4edd-9b91-953400623e01\",\"type\":\"BoxAnnotation\"},{\"id\":\"964e1e43-0065-4c68-b1d8-da3b2292f908\",\"type\":\"GlyphRenderer\"},{\"id\":\"cf469a5c-182b-4403-9bda-83374241167f\",\"type\":\"GlyphRenderer\"}],\"title\":{\"id\":\"4e8504f1-0b1e-48db-bf5c-364354e11702\",\"type\":\"Title\"},\"toolbar\":{\"id\":\"0583e733-9dc3-485a-a0fd-7ac8b115cd19\",\"type\":\"Toolbar\"},\"x_range\":{\"id\":\"73660ba0-c216-4fd0-96d2-826f986d9755\",\"type\":\"DataRange1d\"},\"x_scale\":{\"id\":\"fbb50461-d715-4af0-934f-24aed50a20cc\",\"type\":\"LinearScale\"},\"y_range\":{\"id\":\"fe50cb40-4b20-4127-a13d-38a063c092ac\",\"type\":\"DataRange1d\"},\"y_scale\":{\"id\":\"30f694ec-3892-4c8b-84a2-6ec9e0aec650\",\"type\":\"LinearScale\"}},\"id\":\"6dead331-de50-4d7d-a625-603f1054c334\",\"subtype\":\"Figure\",\"type\":\"Plot\"},{\"attributes\":{\"args\":{\"line\":{\"id\":\"7f61d111-f70d-4085-b507-1466a8478a05\",\"type\":\"ColumnDataSource\"},\"point\":{\"id\":\"277182d3-5279-42c4-9073-c845fc7c3100\",\"type\":\"ColumnDataSource\"},\"source\":{\"id\":\"8a1bfe83-d34d-42ad-8e8e-82a3bb5f5f73\",\"type\":\"ColumnDataSource\"}},\"code\":\"\\n    var line_data = line.data;\\n    var source_data = source.data;\\n    var point_data = point.data;\\n    var new_i = cb_obj.value\\n    \\n    var x = line_data['x']\\n    var y = line_data['y']\\n    var i = line_data['i']\\n    var s = line_data['s']\\n    var p1 = point_data['x']\\n    var p2 = point_data['y']\\n    \\n    for (var j = 0; j < x.length; j++) {\\n        i[j] = new_i\\n        y[j] = x[j] * s[j] + new_i\\n    }\\n    \\n    father = source_data['Father'];    \\n    y_pred = [];\\n    for (var j = 0; j < father.length; j++) {\\n        y_pred[j] = father[j] * s[0] + new_i\\n    }\\n    \\n    var sum = 0;\\n    child = source_data['Height'];\\n    for (var j = 0; j < child.length; j++) {\\n        sum = sum + Math.pow((child[j] - y_pred[j]), 2);\\n    }\\n    \\n    for (var j = 0; j < p1.length; j++) {\\n        p1[j] = s[0]\\n        p2[j] = (sum / child.length)\\n    }\\n    \\n    line.change.emit();\\n    point.change.emit();\\n\"},\"id\":\"3576f118-6b09-47be-b1af-a7e9e12f1632\",\"type\":\"CustomJS\"},{\"attributes\":{\"active_drag\":\"auto\",\"active_inspect\":\"auto\",\"active_scroll\":\"auto\",\"active_tap\":\"auto\",\"tools\":[{\"id\":\"84bedc9b-1dab-41af-b629-414f900ff95b\",\"type\":\"HoverTool\"},{\"id\":\"5ee0305d-87e8-47ba-9811-ec6b0be0b553\",\"type\":\"CrosshairTool\"},{\"id\":\"389f5aab-99b2-47a6-8eb5-f5f7b83ba6c4\",\"type\":\"BoxSelectTool\"},{\"id\":\"382ea669-7449-43b4-9be9-a03529c8a092\",\"type\":\"LassoSelectTool\"},{\"id\":\"de9a5472-1457-4f56-98c2-bbf3747ca884\",\"type\":\"PanTool\"},{\"id\":\"fbcbc93e-c71f-4218-869b-7c7cbeb60be5\",\"type\":\"BoxZoomTool\"}]},\"id\":\"0583e733-9dc3-485a-a0fd-7ac8b115cd19\",\"type\":\"Toolbar\"},{\"attributes\":{},\"id\":\"a0c77ed7-4a4e-4c6f-91fc-d1d55068330d\",\"type\":\"Selection\"},{\"attributes\":{\"callback\":null},\"id\":\"611e1ea6-8dde-4905-b1da-f3a3ba8ccd49\",\"type\":\"DataRange1d\"},{\"attributes\":{\"callback\":null},\"id\":\"73660ba0-c216-4fd0-96d2-826f986d9755\",\"type\":\"DataRange1d\"},{\"attributes\":{\"callback\":null,\"renderers\":\"auto\",\"tooltips\":[[\"(x,y)\",\"($x, $y)\"]]},\"id\":\"84bedc9b-1dab-41af-b629-414f900ff95b\",\"type\":\"HoverTool\"},{\"attributes\":{\"factors\":[\"M\",\"F\"],\"palette\":[\"green\",\"blue\"]},\"id\":\"c71cc37e-bc41-40e5-aed0-2cd48d692a75\",\"type\":\"CategoricalColorMapper\"},{\"attributes\":{},\"id\":\"4b71d04f-5906-43a2-97a6-b140e7db90b7\",\"type\":\"UnionRenderers\"},{\"attributes\":{\"callback\":null,\"overlay\":{\"id\":\"57a5254b-da9b-4bda-843a-bd7c139d39f9\",\"type\":\"PolyAnnotation\"}},\"id\":\"f2d3ce34-70b8-44b8-ba24-38e8be76d9f5\",\"type\":\"LassoSelectTool\"},{\"attributes\":{\"args\":{\"line\":{\"id\":\"7f61d111-f70d-4085-b507-1466a8478a05\",\"type\":\"ColumnDataSource\"},\"point\":{\"id\":\"277182d3-5279-42c4-9073-c845fc7c3100\",\"type\":\"ColumnDataSource\"},\"source\":{\"id\":\"8a1bfe83-d34d-42ad-8e8e-82a3bb5f5f73\",\"type\":\"ColumnDataSource\"}},\"code\":\"\\n    var line_data = line.data;\\n    var source_data = source.data;\\n    var point_data = point.data;\\n    var new_s = cb_obj.value\\n    \\n    var x = line_data['x']\\n    var y = line_data['y']\\n    var i = line_data['i']\\n    var s = line_data['s']\\n    var p1 = point_data['x']\\n    var p2 = point_data['y']\\n    \\n    for (var j = 0; j < x.length; j++) {\\n        s[j] = new_s\\n        y[j] = x[j] * new_s + i[j]\\n    }\\n    \\n    father = source_data['Father'];    \\n    y_pred = [];\\n    for (var j = 0; j < father.length; j++) {\\n        y_pred[j] = father[j] * new_s + i[0]\\n    }\\n    \\n    var sum = 0;\\n    child = source_data['Height'];\\n    for (var j = 0; j < child.length; j++) {\\n        sum = sum + Math.pow((child[j] - y_pred[j]), 2);\\n    }\\n    \\n    for (var j = 0; j < p1.length; j++) {\\n        p1[j] = s[0]\\n        p2[j] = (sum / child.length)\\n    }\\n    \\n    line.change.emit();\\n    point.change.emit();\\n\"},\"id\":\"073757bd-5bb9-42db-9574-800b5ddcd833\",\"type\":\"CustomJS\"},{\"attributes\":{},\"id\":\"b00c8259-1140-4a0f-8fb3-ef5b0e7b7835\",\"type\":\"PanTool\"},{\"attributes\":{},\"id\":\"7d6a614c-9b02-4a2e-b5c4-3d62a331a455\",\"type\":\"Selection\"},{\"attributes\":{\"overlay\":{\"id\":\"00ed70af-f1d1-42fe-a2c1-c86a4cad3c00\",\"type\":\"BoxAnnotation\"}},\"id\":\"6d3bb51c-9077-4b89-a546-ea6bf4279701\",\"type\":\"BoxZoomTool\"},{\"attributes\":{\"below\":[{\"id\":\"cddf99be-c808-461e-bdfc-d52629f6fe39\",\"type\":\"LinearAxis\"}],\"left\":[{\"id\":\"324573d6-34d1-457a-926b-1fd5cdd0b156\",\"type\":\"LinearAxis\"}],\"plot_height\":400,\"plot_width\":400,\"renderers\":[{\"id\":\"cddf99be-c808-461e-bdfc-d52629f6fe39\",\"type\":\"LinearAxis\"},{\"id\":\"170f798d-a0e3-4e11-840a-1022f19c8ced\",\"type\":\"Grid\"},{\"id\":\"324573d6-34d1-457a-926b-1fd5cdd0b156\",\"type\":\"LinearAxis\"},{\"id\":\"fb65067f-f43b-4211-b6bc-ebcfc73f65cd\",\"type\":\"Grid\"},{\"id\":\"00b42c2c-51fe-4a36-8856-c21ddb4a901e\",\"type\":\"BoxAnnotation\"},{\"id\":\"57a5254b-da9b-4bda-843a-bd7c139d39f9\",\"type\":\"PolyAnnotation\"},{\"id\":\"00ed70af-f1d1-42fe-a2c1-c86a4cad3c00\",\"type\":\"BoxAnnotation\"},{\"id\":\"a1392fb0-2737-4ebc-a26b-82cf05245fa6\",\"type\":\"GlyphRenderer\"},{\"id\":\"d389e268-eea9-4f07-a8f8-bb4b9582d886\",\"type\":\"GlyphRenderer\"}],\"title\":{\"id\":\"a5f13549-6df2-47dc-a73a-3996e5d2483f\",\"type\":\"Title\"},\"toolbar\":{\"id\":\"c5847f9b-b8d5-4c6f-964f-9daa11fa974e\",\"type\":\"Toolbar\"},\"x_range\":{\"id\":\"611e1ea6-8dde-4905-b1da-f3a3ba8ccd49\",\"type\":\"DataRange1d\"},\"x_scale\":{\"id\":\"9954c9f5-5801-4df5-8b04-c71f747fd68b\",\"type\":\"LinearScale\"},\"y_range\":{\"id\":\"60967be9-9500-41e4-891f-4b35366e74e8\",\"type\":\"DataRange1d\"},\"y_scale\":{\"id\":\"6026c2a9-12c4-4d14-952e-4bf33f9597f5\",\"type\":\"LinearScale\"}},\"id\":\"af348914-ea27-49ba-a7c8-8f5f106444b2\",\"subtype\":\"Figure\",\"type\":\"Plot\"},{\"attributes\":{\"fill_alpha\":{\"value\":0.1},\"fill_color\":{\"value\":\"#1f77b4\"},\"line_alpha\":{\"value\":0.1},\"line_color\":{\"value\":\"#1f77b4\"},\"x\":{\"field\":\"Father\"},\"y\":{\"field\":\"Height\"}},\"id\":\"521bfd4b-a75a-4972-9429-351e907c4dbd\",\"type\":\"Circle\"},{\"attributes\":{\"fill_color\":{\"field\":\"Gender\",\"transform\":{\"id\":\"c71cc37e-bc41-40e5-aed0-2cd48d692a75\",\"type\":\"CategoricalColorMapper\"}},\"line_color\":{\"field\":\"Gender\",\"transform\":{\"id\":\"c71cc37e-bc41-40e5-aed0-2cd48d692a75\",\"type\":\"CategoricalColorMapper\"}},\"x\":{\"field\":\"Father\"},\"y\":{\"field\":\"Height\"}},\"id\":\"b3d19e9c-afcd-4574-849f-2a53d767661b\",\"type\":\"Circle\"},{\"attributes\":{\"children\":[{\"id\":\"3e910099-3a01-4ad8-b282-da3d35585003\",\"type\":\"Slider\"}]},\"id\":\"a690d246-1202-4366-ad3e-76cbc5b64433\",\"type\":\"WidgetBox\"},{\"attributes\":{\"fill_alpha\":{\"value\":0.5},\"fill_color\":{\"value\":\"lightgrey\"},\"level\":\"overlay\",\"line_alpha\":{\"value\":1.0},\"line_color\":{\"value\":\"black\"},\"line_dash\":[4,4],\"line_width\":{\"value\":2},\"plot\":null,\"xs_units\":\"screen\",\"ys_units\":\"screen\"},\"id\":\"57a5254b-da9b-4bda-843a-bd7c139d39f9\",\"type\":\"PolyAnnotation\"},{\"attributes\":{\"bottom_units\":\"screen\",\"fill_alpha\":{\"value\":0.5},\"fill_color\":{\"value\":\"lightgrey\"},\"left_units\":\"screen\",\"level\":\"overlay\",\"line_alpha\":{\"value\":1.0},\"line_color\":{\"value\":\"black\"},\"line_dash\":[4,4],\"line_width\":{\"value\":2},\"plot\":null,\"render_mode\":\"css\",\"right_units\":\"screen\",\"top_units\":\"screen\"},\"id\":\"00ed70af-f1d1-42fe-a2c1-c86a4cad3c00\",\"type\":\"BoxAnnotation\"},{\"attributes\":{\"children\":[{\"id\":\"a5422026-f0c8-4203-861b-ab615ca74212\",\"type\":\"Row\"},{\"id\":\"a72cb8b8-1177-40e7-9417-f7c6bcc0d302\",\"type\":\"Row\"}]},\"id\":\"f0d38141-40d9-4387-b41d-c9b82cd330cb\",\"type\":\"Column\"},{\"attributes\":{\"data_source\":{\"id\":\"8a1bfe83-d34d-42ad-8e8e-82a3bb5f5f73\",\"type\":\"ColumnDataSource\"},\"glyph\":{\"id\":\"b3d19e9c-afcd-4574-849f-2a53d767661b\",\"type\":\"Circle\"},\"hover_glyph\":{\"id\":\"3dddd0e1-4485-4e7e-9f46-d88b27e47e2e\",\"type\":\"Circle\"},\"muted_glyph\":null,\"nonselection_glyph\":{\"id\":\"521bfd4b-a75a-4972-9429-351e907c4dbd\",\"type\":\"Circle\"},\"selection_glyph\":null,\"view\":{\"id\":\"1e6ae007-df41-414e-af63-2369200aa7d4\",\"type\":\"CDSView\"}},\"id\":\"a1392fb0-2737-4ebc-a26b-82cf05245fa6\",\"type\":\"GlyphRenderer\"},{\"attributes\":{},\"id\":\"17e8c5f1-72a6-42f3-9ece-aff4bdbe3f8b\",\"type\":\"BasicTickFormatter\"},{\"attributes\":{\"fill_color\":{\"value\":\"red\"},\"line_color\":{\"value\":\"red\"},\"x\":{\"field\":\"Father\"},\"y\":{\"field\":\"Height\"}},\"id\":\"3dddd0e1-4485-4e7e-9f46-d88b27e47e2e\",\"type\":\"Circle\"},{\"attributes\":{\"plot\":null,\"text\":\"\"},\"id\":\"a5f13549-6df2-47dc-a73a-3996e5d2483f\",\"type\":\"Title\"},{\"attributes\":{\"source\":{\"id\":\"8a1bfe83-d34d-42ad-8e8e-82a3bb5f5f73\",\"type\":\"ColumnDataSource\"}},\"id\":\"1e6ae007-df41-414e-af63-2369200aa7d4\",\"type\":\"CDSView\"},{\"attributes\":{\"children\":[{\"id\":\"2a3e3a52-2b3a-41d5-abc3-cbf4d8d0c0fd\",\"type\":\"Slider\"}]},\"id\":\"6132724f-4b26-40cb-8ee1-13863f0057a7\",\"type\":\"WidgetBox\"},{\"attributes\":{\"callback\":null,\"data\":{\"x\":[-1.0],\"y\":[9410.13272960428]},\"selected\":{\"id\":\"7d6a614c-9b02-4a2e-b5c4-3d62a331a455\",\"type\":\"Selection\"},\"selection_policy\":{\"id\":\"b8cbd717-6af9-47ac-ae74-e2e22e1eed4f\",\"type\":\"UnionRenderers\"}},\"id\":\"277182d3-5279-42c4-9073-c845fc7c3100\",\"type\":\"ColumnDataSource\"},{\"attributes\":{},\"id\":\"f3c8bf5a-f26e-4da0-996e-0991131f9dd3\",\"type\":\"UnionRenderers\"},{\"attributes\":{\"source\":{\"id\":\"7f61d111-f70d-4085-b507-1466a8478a05\",\"type\":\"ColumnDataSource\"}},\"id\":\"ff71ca1f-a535-4f90-a339-be0911225e79\",\"type\":\"CDSView\"},{\"attributes\":{},\"id\":\"efd2b06d-bde0-4eff-ad08-0cb56041f6e7\",\"type\":\"BasicTickFormatter\"},{\"attributes\":{\"callback\":null},\"id\":\"fe50cb40-4b20-4127-a13d-38a063c092ac\",\"type\":\"DataRange1d\"},{\"attributes\":{\"callback\":null,\"data\":{\"i\":{\"__ndarray__\":\"6ZLnJyGOQ0DpkucnIY5DQA==\",\"dtype\":\"float64\",\"shape\":[2]},\"s\":{\"__ndarray__\":\"tNfqcHaP2T+01+pwdo/ZPw==\",\"dtype\":\"float64\",\"shape\":[2]},\"x\":[62.0,78.5],\"y\":[63.87202532278641,70.46181621011273]},\"selected\":{\"id\":\"1901f237-888e-4a8a-9e57-9880397103ec\",\"type\":\"Selection\"},\"selection_policy\":{\"id\":\"4b71d04f-5906-43a2-97a6-b140e7db90b7\",\"type\":\"UnionRenderers\"}},\"id\":\"7f61d111-f70d-4085-b507-1466a8478a05\",\"type\":\"ColumnDataSource\"},{\"attributes\":{},\"id\":\"1901f237-888e-4a8a-9e57-9880397103ec\",\"type\":\"Selection\"},{\"attributes\":{},\"id\":\"fbb50461-d715-4af0-934f-24aed50a20cc\",\"type\":\"LinearScale\"},{\"attributes\":{\"line_color\":\"orange\",\"x\":{\"field\":\"x\"},\"y\":{\"field\":\"y\"}},\"id\":\"a40544f3-2afa-4950-a40f-0858b804629c\",\"type\":\"Line\"},{\"attributes\":{},\"id\":\"6fc094ab-cd4b-40be-9358-ab0cd5f9d76b\",\"type\":\"BasicTickFormatter\"},{\"attributes\":{},\"id\":\"30f694ec-3892-4c8b-84a2-6ec9e0aec650\",\"type\":\"LinearScale\"},{\"attributes\":{\"line_alpha\":0.1,\"line_color\":\"#1f77b4\",\"x\":{\"field\":\"x\"},\"y\":{\"field\":\"y\"}},\"id\":\"2ba24733-12a2-421b-ad23-d3eb34541832\",\"type\":\"Line\"},{\"attributes\":{},\"id\":\"2d546b8e-450c-41ad-9c20-cd8af3aed4e3\",\"type\":\"BasicTickFormatter\"},{\"attributes\":{\"data_source\":{\"id\":\"7f61d111-f70d-4085-b507-1466a8478a05\",\"type\":\"ColumnDataSource\"},\"glyph\":{\"id\":\"a40544f3-2afa-4950-a40f-0858b804629c\",\"type\":\"Line\"},\"hover_glyph\":null,\"muted_glyph\":null,\"nonselection_glyph\":{\"id\":\"2ba24733-12a2-421b-ad23-d3eb34541832\",\"type\":\"Line\"},\"selection_glyph\":null,\"view\":{\"id\":\"ff71ca1f-a535-4f90-a339-be0911225e79\",\"type\":\"CDSView\"}},\"id\":\"d389e268-eea9-4f07-a8f8-bb4b9582d886\",\"type\":\"GlyphRenderer\"},{\"attributes\":{},\"id\":\"6fbca874-5fd7-4a4b-8e8c-69905da87754\",\"type\":\"Selection\"},{\"attributes\":{\"plot\":{\"id\":\"6dead331-de50-4d7d-a625-603f1054c334\",\"subtype\":\"Figure\",\"type\":\"Plot\"},\"ticker\":{\"id\":\"978b3efd-c4f8-4489-a646-9b28cf042d8c\",\"type\":\"BasicTicker\"}},\"id\":\"148c8ec1-1c40-45e4-bf46-3ebaf75c5924\",\"type\":\"Grid\"},{\"attributes\":{},\"id\":\"f4007c2d-78cd-4d62-8fb0-fc5c5937163a\",\"type\":\"UnionRenderers\"},{\"attributes\":{\"axis_label\":\"Weights (slopes)\",\"formatter\":{\"id\":\"6fc094ab-cd4b-40be-9358-ab0cd5f9d76b\",\"type\":\"BasicTickFormatter\"},\"plot\":{\"id\":\"6dead331-de50-4d7d-a625-603f1054c334\",\"subtype\":\"Figure\",\"type\":\"Plot\"},\"ticker\":{\"id\":\"978b3efd-c4f8-4489-a646-9b28cf042d8c\",\"type\":\"BasicTicker\"}},\"id\":\"547e0808-bccf-45a8-805d-3b2d94a03501\",\"type\":\"LinearAxis\"},{\"attributes\":{},\"id\":\"978b3efd-c4f8-4489-a646-9b28cf042d8c\",\"type\":\"BasicTicker\"},{\"attributes\":{\"axis_label\":\"Loss (Cost/Error)\",\"formatter\":{\"id\":\"2d546b8e-450c-41ad-9c20-cd8af3aed4e3\",\"type\":\"BasicTickFormatter\"},\"plot\":{\"id\":\"6dead331-de50-4d7d-a625-603f1054c334\",\"subtype\":\"Figure\",\"type\":\"Plot\"},\"ticker\":{\"id\":\"a9d4d5dd-911f-4942-8ab6-13686c5a1707\",\"type\":\"BasicTicker\"}},\"id\":\"94fff9d7-df20-47e0-9bab-907329e112bd\",\"type\":\"LinearAxis\"},{\"attributes\":{},\"id\":\"a9d4d5dd-911f-4942-8ab6-13686c5a1707\",\"type\":\"BasicTicker\"},{\"attributes\":{\"dimension\":1,\"plot\":{\"id\":\"6dead331-de50-4d7d-a625-603f1054c334\",\"subtype\":\"Figure\",\"type\":\"Plot\"},\"ticker\":{\"id\":\"a9d4d5dd-911f-4942-8ab6-13686c5a1707\",\"type\":\"BasicTicker\"}},\"id\":\"cffc2ded-6f3f-4783-8237-10ae2a5a5e98\",\"type\":\"Grid\"},{\"attributes\":{\"fill_color\":{\"value\":\"red\"},\"line_color\":{\"value\":\"red\"},\"size\":{\"units\":\"screen\",\"value\":5},\"x\":{\"field\":\"x\"},\"y\":{\"field\":\"y\"}},\"id\":\"74ac0573-3cbc-4459-ab6a-e52fd6b59be0\",\"type\":\"Circle\"},{\"attributes\":{},\"id\":\"5ee0305d-87e8-47ba-9811-ec6b0be0b553\",\"type\":\"CrosshairTool\"},{\"attributes\":{\"overlay\":{\"id\":\"db284382-b4b9-4edd-9b91-953400623e01\",\"type\":\"BoxAnnotation\"}},\"id\":\"fbcbc93e-c71f-4218-869b-7c7cbeb60be5\",\"type\":\"BoxZoomTool\"},{\"attributes\":{\"callback\":null,\"overlay\":{\"id\":\"bd4f287a-35e3-4dc1-83be-34a3903a9f64\",\"type\":\"BoxAnnotation\"}},\"id\":\"389f5aab-99b2-47a6-8eb5-f5f7b83ba6c4\",\"type\":\"BoxSelectTool\"},{\"attributes\":{\"children\":[{\"id\":\"af348914-ea27-49ba-a7c8-8f5f106444b2\",\"subtype\":\"Figure\",\"type\":\"Plot\"},{\"id\":\"6dead331-de50-4d7d-a625-603f1054c334\",\"subtype\":\"Figure\",\"type\":\"Plot\"}]},\"id\":\"a72cb8b8-1177-40e7-9417-f7c6bcc0d302\",\"type\":\"Row\"},{\"attributes\":{\"callback\":null,\"overlay\":{\"id\":\"899dd933-baac-4d56-b084-8bf3a498a457\",\"type\":\"PolyAnnotation\"}},\"id\":\"382ea669-7449-43b4-9be9-a03529c8a092\",\"type\":\"LassoSelectTool\"},{\"attributes\":{},\"id\":\"de9a5472-1457-4f56-98c2-bbf3747ca884\",\"type\":\"PanTool\"}],\"root_ids\":[\"f0d38141-40d9-4387-b41d-c9b82cd330cb\"]},\"title\":\"Bokeh Application\",\"version\":\"0.12.16\"}};\n",
       "  var render_items = [{\"docid\":\"cd06a2c1-c305-4144-9901-c1eaa6ee5072\",\"elementid\":\"c99bc54b-b832-41ee-a454-f740a4a7bd77\",\"modelid\":\"f0d38141-40d9-4387-b41d-c9b82cd330cb\",\"notebook_comms_target\":\"84882be9-6ff8-4b98-a6c1-a62109cfd9f6\"}];\n",
       "  root.Bokeh.embed.embed_items_notebook(docs_json, render_items);\n",
       "\n",
       "  }\n",
       "  if (root.Bokeh !== undefined) {\n",
       "    embed_document(root);\n",
       "  } else {\n",
       "    var attempts = 0;\n",
       "    var timer = setInterval(function(root) {\n",
       "      if (root.Bokeh !== undefined) {\n",
       "        embed_document(root);\n",
       "        clearInterval(timer);\n",
       "      }\n",
       "      attempts++;\n",
       "      if (attempts > 100) {\n",
       "        console.log(\"Bokeh: ERROR: Unable to run BokehJS code because BokehJS library is missing\")\n",
       "        clearInterval(timer);\n",
       "      }\n",
       "    }, 10, root)\n",
       "  }\n",
       "})(window);"
      ],
      "application/vnd.bokehjs_exec.v0+json": ""
     },
     "metadata": {
      "application/vnd.bokehjs_exec.v0+json": {
       "id": "f0d38141-40d9-4387-b41d-c9b82cd330cb"
      }
     },
     "output_type": "display_data"
    },
    {
     "data": {
      "text/html": [
       "<p><code>&lt;Bokeh Notebook handle for <strong>In[23]</strong>&gt;</code></p>"
      ],
      "text/plain": [
       "<bokeh.io.notebook.CommsHandle at 0x7f7e9d18c048>"
      ]
     },
     "execution_count": 11,
     "metadata": {},
     "output_type": "execute_result"
    }
   ],
   "source": [
    "layout = column(row(slider_intercept, slider_slope),row(plot1, plot2))\n",
    "show(layout, notebook_handle=True)"
   ]
  }
 ],
 "metadata": {
  "anaconda-cloud": {
   "attach-environment": true,
   "environment": "root",
   "summary": "interactive notebook to understand linear regressions",
   "url": "https://anaconda.org/okenfor/towards-mediocrity"
  },
  "kernelspec": {
   "display_name": "Python [default]",
   "language": "python",
   "name": "python3"
  },
  "language_info": {
   "codemirror_mode": {
    "name": "ipython",
    "version": 3
   },
   "file_extension": ".py",
   "mimetype": "text/x-python",
   "name": "python",
   "nbconvert_exporter": "python",
   "pygments_lexer": "ipython3",
   "version": "3.6.5"
  },
  "widgets": {
   "application/vnd.jupyter.widget-state+json": {
    "state": {
     "02e618ef665a4c2c931ff2852ffaf476": {
      "model_module": "@jupyter-widgets/controls",
      "model_module_version": "1.2.0",
      "model_name": "FloatSliderModel",
      "state": {
       "description": "slope",
       "layout": "IPY_MODEL_84e252f806204de1aaa143a964a348f1",
       "max": 1.8,
       "min": -1,
       "step": 0.02828282828282828,
       "style": "IPY_MODEL_aaaa408afe074fc9979bf8c33b236d13",
       "value": 0.86667
      }
     },
     "06cbdd0ab66541ef8284a86bb9566b35": {
      "model_module": "@jupyter-widgets/base",
      "model_module_version": "1.0.0",
      "model_name": "LayoutModel",
      "state": {}
     },
     "2975a6d985d2463b880d8be04d765bb7": {
      "model_module": "@jupyter-widgets/controls",
      "model_module_version": "1.2.0",
      "model_name": "SliderStyleModel",
      "state": {
       "description_width": ""
      }
     },
     "37bdd24b2642469f8af59599f4becca8": {
      "model_module": "@jupyter-widgets/base",
      "model_module_version": "1.0.0",
      "model_name": "LayoutModel",
      "state": {}
     },
     "43b600d8ba814322af394745f521103c": {
      "model_module": "@jupyter-widgets/output",
      "model_module_version": "1.0.0",
      "model_name": "OutputModel",
      "state": {
       "layout": "IPY_MODEL_973a0c5941634ec294fd6b81dd0ff766"
      }
     },
     "4feb1e7937944310a27d3200b31b91a0": {
      "model_module": "@jupyter-widgets/controls",
      "model_module_version": "1.2.0",
      "model_name": "VBoxModel",
      "state": {
       "_dom_classes": [
        "widget-interact"
       ],
       "children": [
        "IPY_MODEL_899ecf11d0a54c729e8b936b4a708c97",
        "IPY_MODEL_66d3dd79dc8a42ebb7c14dad24564aab",
        "IPY_MODEL_43b600d8ba814322af394745f521103c"
       ],
       "layout": "IPY_MODEL_c24268952f9c4fa391ef2f85b3c5fc70"
      }
     },
     "60c3bf6bcc114424bd84a0f4ebbb54e8": {
      "model_module": "@jupyter-widgets/controls",
      "model_module_version": "1.2.0",
      "model_name": "VBoxModel",
      "state": {
       "_dom_classes": [
        "widget-interact"
       ],
       "children": [
        "IPY_MODEL_02e618ef665a4c2c931ff2852ffaf476",
        "IPY_MODEL_848a722bd5f94f44ae490bc776c6c5b7",
        "IPY_MODEL_d55972c198d34137997d00e4bdd7b6ca"
       ],
       "layout": "IPY_MODEL_b25b7d2589a2484db5a1c20f00f9b593"
      }
     },
     "66d3dd79dc8a42ebb7c14dad24564aab": {
      "model_module": "@jupyter-widgets/controls",
      "model_module_version": "1.2.0",
      "model_name": "FloatSliderModel",
      "state": {
       "description": "intercept",
       "layout": "IPY_MODEL_fd4910a58ede412ab7ff14d0e84cd4a2",
       "max": 80,
       "min": 30,
       "style": "IPY_MODEL_d72b0321891441d4b7886447e1e73b76",
       "value": 80
      }
     },
     "6c68401eed484fccb4809f192cd70b0c": {
      "model_module": "@jupyter-widgets/base",
      "model_module_version": "1.0.0",
      "model_name": "LayoutModel",
      "state": {}
     },
     "848a722bd5f94f44ae490bc776c6c5b7": {
      "model_module": "@jupyter-widgets/controls",
      "model_module_version": "1.2.0",
      "model_name": "FloatSliderModel",
      "state": {
       "description": "intercept",
       "layout": "IPY_MODEL_6c68401eed484fccb4809f192cd70b0c",
       "max": 80,
       "min": 30,
       "style": "IPY_MODEL_2975a6d985d2463b880d8be04d765bb7",
       "value": 32
      }
     },
     "84e252f806204de1aaa143a964a348f1": {
      "model_module": "@jupyter-widgets/base",
      "model_module_version": "1.0.0",
      "model_name": "LayoutModel",
      "state": {}
     },
     "899ecf11d0a54c729e8b936b4a708c97": {
      "model_module": "@jupyter-widgets/controls",
      "model_module_version": "1.2.0",
      "model_name": "FloatSliderModel",
      "state": {
       "description": "slope",
       "layout": "IPY_MODEL_37bdd24b2642469f8af59599f4becca8",
       "max": 1.8,
       "min": -1,
       "step": 0.02828282828282828,
       "style": "IPY_MODEL_e8c15b96c8884772a02ca1f1182e1fb1",
       "value": 0.10303
      }
     },
     "973a0c5941634ec294fd6b81dd0ff766": {
      "model_module": "@jupyter-widgets/base",
      "model_module_version": "1.0.0",
      "model_name": "LayoutModel",
      "state": {}
     },
     "aaaa408afe074fc9979bf8c33b236d13": {
      "model_module": "@jupyter-widgets/controls",
      "model_module_version": "1.2.0",
      "model_name": "SliderStyleModel",
      "state": {
       "description_width": ""
      }
     },
     "b25b7d2589a2484db5a1c20f00f9b593": {
      "model_module": "@jupyter-widgets/base",
      "model_module_version": "1.0.0",
      "model_name": "LayoutModel",
      "state": {}
     },
     "c24268952f9c4fa391ef2f85b3c5fc70": {
      "model_module": "@jupyter-widgets/base",
      "model_module_version": "1.0.0",
      "model_name": "LayoutModel",
      "state": {}
     },
     "d55972c198d34137997d00e4bdd7b6ca": {
      "model_module": "@jupyter-widgets/output",
      "model_module_version": "1.0.0",
      "model_name": "OutputModel",
      "state": {
       "layout": "IPY_MODEL_06cbdd0ab66541ef8284a86bb9566b35"
      }
     },
     "d72b0321891441d4b7886447e1e73b76": {
      "model_module": "@jupyter-widgets/controls",
      "model_module_version": "1.2.0",
      "model_name": "SliderStyleModel",
      "state": {
       "description_width": ""
      }
     },
     "e8c15b96c8884772a02ca1f1182e1fb1": {
      "model_module": "@jupyter-widgets/controls",
      "model_module_version": "1.2.0",
      "model_name": "SliderStyleModel",
      "state": {
       "description_width": ""
      }
     },
     "fd4910a58ede412ab7ff14d0e84cd4a2": {
      "model_module": "@jupyter-widgets/base",
      "model_module_version": "1.0.0",
      "model_name": "LayoutModel",
      "state": {}
     }
    },
    "version_major": 2,
    "version_minor": 0
   }
  }
 },
 "nbformat": 4,
 "nbformat_minor": 2
}
