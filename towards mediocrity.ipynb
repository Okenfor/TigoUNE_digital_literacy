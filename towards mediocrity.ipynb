{
 "cells": [
  {
   "cell_type": "code",
   "execution_count": 2,
   "metadata": {},
   "outputs": [
    {
     "data": {
      "text/html": [
       "\n",
       "    <div class=\"bk-root\">\n",
       "        <a href=\"https://bokeh.pydata.org\" target=\"_blank\" class=\"bk-logo bk-logo-small bk-logo-notebook\"></a>\n",
       "        <span id=\"44f742a1-d6e7-4d57-b287-d55e594327da\">Loading BokehJS ...</span>\n",
       "    </div>"
      ]
     },
     "metadata": {},
     "output_type": "display_data"
    },
    {
     "data": {
      "application/javascript": [
       "\n",
       "(function(root) {\n",
       "  function now() {\n",
       "    return new Date();\n",
       "  }\n",
       "\n",
       "  var force = true;\n",
       "\n",
       "  if (typeof (root._bokeh_onload_callbacks) === \"undefined\" || force === true) {\n",
       "    root._bokeh_onload_callbacks = [];\n",
       "    root._bokeh_is_loading = undefined;\n",
       "  }\n",
       "\n",
       "  var JS_MIME_TYPE = 'application/javascript';\n",
       "  var HTML_MIME_TYPE = 'text/html';\n",
       "  var EXEC_MIME_TYPE = 'application/vnd.bokehjs_exec.v0+json';\n",
       "  var CLASS_NAME = 'output_bokeh rendered_html';\n",
       "\n",
       "  /**\n",
       "   * Render data to the DOM node\n",
       "   */\n",
       "  function render(props, node) {\n",
       "    var script = document.createElement(\"script\");\n",
       "    node.appendChild(script);\n",
       "  }\n",
       "\n",
       "  /**\n",
       "   * Handle when an output is cleared or removed\n",
       "   */\n",
       "  function handleClearOutput(event, handle) {\n",
       "    var cell = handle.cell;\n",
       "\n",
       "    var id = cell.output_area._bokeh_element_id;\n",
       "    var server_id = cell.output_area._bokeh_server_id;\n",
       "    // Clean up Bokeh references\n",
       "    if (id !== undefined) {\n",
       "      Bokeh.index[id].model.document.clear();\n",
       "      delete Bokeh.index[id];\n",
       "    }\n",
       "\n",
       "    if (server_id !== undefined) {\n",
       "      // Clean up Bokeh references\n",
       "      var cmd = \"from bokeh.io.state import curstate; print(curstate().uuid_to_server['\" + server_id + \"'].get_sessions()[0].document.roots[0]._id)\";\n",
       "      cell.notebook.kernel.execute(cmd, {\n",
       "        iopub: {\n",
       "          output: function(msg) {\n",
       "            var element_id = msg.content.text.trim();\n",
       "            Bokeh.index[element_id].model.document.clear();\n",
       "            delete Bokeh.index[element_id];\n",
       "          }\n",
       "        }\n",
       "      });\n",
       "      // Destroy server and session\n",
       "      var cmd = \"import bokeh.io.notebook as ion; ion.destroy_server('\" + server_id + \"')\";\n",
       "      cell.notebook.kernel.execute(cmd);\n",
       "    }\n",
       "  }\n",
       "\n",
       "  /**\n",
       "   * Handle when a new output is added\n",
       "   */\n",
       "  function handleAddOutput(event, handle) {\n",
       "    var output_area = handle.output_area;\n",
       "    var output = handle.output;\n",
       "\n",
       "    // limit handleAddOutput to display_data with EXEC_MIME_TYPE content only\n",
       "    if ((output.output_type != \"display_data\") || (!output.data.hasOwnProperty(EXEC_MIME_TYPE))) {\n",
       "      return\n",
       "    }\n",
       "\n",
       "    var toinsert = output_area.element.find(\".\" + CLASS_NAME.split(' ')[0]);\n",
       "\n",
       "    if (output.metadata[EXEC_MIME_TYPE][\"id\"] !== undefined) {\n",
       "      toinsert[toinsert.length - 1].firstChild.textContent = output.data[JS_MIME_TYPE];\n",
       "      // store reference to embed id on output_area\n",
       "      output_area._bokeh_element_id = output.metadata[EXEC_MIME_TYPE][\"id\"];\n",
       "    }\n",
       "    if (output.metadata[EXEC_MIME_TYPE][\"server_id\"] !== undefined) {\n",
       "      var bk_div = document.createElement(\"div\");\n",
       "      bk_div.innerHTML = output.data[HTML_MIME_TYPE];\n",
       "      var script_attrs = bk_div.children[0].attributes;\n",
       "      for (var i = 0; i < script_attrs.length; i++) {\n",
       "        toinsert[toinsert.length - 1].firstChild.setAttribute(script_attrs[i].name, script_attrs[i].value);\n",
       "      }\n",
       "      // store reference to server id on output_area\n",
       "      output_area._bokeh_server_id = output.metadata[EXEC_MIME_TYPE][\"server_id\"];\n",
       "    }\n",
       "  }\n",
       "\n",
       "  function register_renderer(events, OutputArea) {\n",
       "\n",
       "    function append_mime(data, metadata, element) {\n",
       "      // create a DOM node to render to\n",
       "      var toinsert = this.create_output_subarea(\n",
       "        metadata,\n",
       "        CLASS_NAME,\n",
       "        EXEC_MIME_TYPE\n",
       "      );\n",
       "      this.keyboard_manager.register_events(toinsert);\n",
       "      // Render to node\n",
       "      var props = {data: data, metadata: metadata[EXEC_MIME_TYPE]};\n",
       "      render(props, toinsert[toinsert.length - 1]);\n",
       "      element.append(toinsert);\n",
       "      return toinsert\n",
       "    }\n",
       "\n",
       "    /* Handle when an output is cleared or removed */\n",
       "    events.on('clear_output.CodeCell', handleClearOutput);\n",
       "    events.on('delete.Cell', handleClearOutput);\n",
       "\n",
       "    /* Handle when a new output is added */\n",
       "    events.on('output_added.OutputArea', handleAddOutput);\n",
       "\n",
       "    /**\n",
       "     * Register the mime type and append_mime function with output_area\n",
       "     */\n",
       "    OutputArea.prototype.register_mime_type(EXEC_MIME_TYPE, append_mime, {\n",
       "      /* Is output safe? */\n",
       "      safe: true,\n",
       "      /* Index of renderer in `output_area.display_order` */\n",
       "      index: 0\n",
       "    });\n",
       "  }\n",
       "\n",
       "  // register the mime type if in Jupyter Notebook environment and previously unregistered\n",
       "  if (root.Jupyter !== undefined) {\n",
       "    var events = require('base/js/events');\n",
       "    var OutputArea = require('notebook/js/outputarea').OutputArea;\n",
       "\n",
       "    if (OutputArea.prototype.mime_types().indexOf(EXEC_MIME_TYPE) == -1) {\n",
       "      register_renderer(events, OutputArea);\n",
       "    }\n",
       "  }\n",
       "\n",
       "  \n",
       "  if (typeof (root._bokeh_timeout) === \"undefined\" || force === true) {\n",
       "    root._bokeh_timeout = Date.now() + 5000;\n",
       "    root._bokeh_failed_load = false;\n",
       "  }\n",
       "\n",
       "  var NB_LOAD_WARNING = {'data': {'text/html':\n",
       "     \"<div style='background-color: #fdd'>\\n\"+\n",
       "     \"<p>\\n\"+\n",
       "     \"BokehJS does not appear to have successfully loaded. If loading BokehJS from CDN, this \\n\"+\n",
       "     \"may be due to a slow or bad network connection. Possible fixes:\\n\"+\n",
       "     \"</p>\\n\"+\n",
       "     \"<ul>\\n\"+\n",
       "     \"<li>re-rerun `output_notebook()` to attempt to load from CDN again, or</li>\\n\"+\n",
       "     \"<li>use INLINE resources instead, as so:</li>\\n\"+\n",
       "     \"</ul>\\n\"+\n",
       "     \"<code>\\n\"+\n",
       "     \"from bokeh.resources import INLINE\\n\"+\n",
       "     \"output_notebook(resources=INLINE)\\n\"+\n",
       "     \"</code>\\n\"+\n",
       "     \"</div>\"}};\n",
       "\n",
       "  function display_loaded() {\n",
       "    var el = document.getElementById(\"44f742a1-d6e7-4d57-b287-d55e594327da\");\n",
       "    if (el != null) {\n",
       "      el.textContent = \"BokehJS is loading...\";\n",
       "    }\n",
       "    if (root.Bokeh !== undefined) {\n",
       "      if (el != null) {\n",
       "        el.textContent = \"BokehJS \" + root.Bokeh.version + \" successfully loaded.\";\n",
       "      }\n",
       "    } else if (Date.now() < root._bokeh_timeout) {\n",
       "      setTimeout(display_loaded, 100)\n",
       "    }\n",
       "  }\n",
       "\n",
       "\n",
       "  function run_callbacks() {\n",
       "    try {\n",
       "      root._bokeh_onload_callbacks.forEach(function(callback) { callback() });\n",
       "    }\n",
       "    finally {\n",
       "      delete root._bokeh_onload_callbacks\n",
       "    }\n",
       "    console.info(\"Bokeh: all callbacks have finished\");\n",
       "  }\n",
       "\n",
       "  function load_libs(js_urls, callback) {\n",
       "    root._bokeh_onload_callbacks.push(callback);\n",
       "    if (root._bokeh_is_loading > 0) {\n",
       "      console.log(\"Bokeh: BokehJS is being loaded, scheduling callback at\", now());\n",
       "      return null;\n",
       "    }\n",
       "    if (js_urls == null || js_urls.length === 0) {\n",
       "      run_callbacks();\n",
       "      return null;\n",
       "    }\n",
       "    console.log(\"Bokeh: BokehJS not loaded, scheduling load and callback at\", now());\n",
       "    root._bokeh_is_loading = js_urls.length;\n",
       "    for (var i = 0; i < js_urls.length; i++) {\n",
       "      var url = js_urls[i];\n",
       "      var s = document.createElement('script');\n",
       "      s.src = url;\n",
       "      s.async = false;\n",
       "      s.onreadystatechange = s.onload = function() {\n",
       "        root._bokeh_is_loading--;\n",
       "        if (root._bokeh_is_loading === 0) {\n",
       "          console.log(\"Bokeh: all BokehJS libraries loaded\");\n",
       "          run_callbacks()\n",
       "        }\n",
       "      };\n",
       "      s.onerror = function() {\n",
       "        console.warn(\"failed to load library \" + url);\n",
       "      };\n",
       "      console.log(\"Bokeh: injecting script tag for BokehJS library: \", url);\n",
       "      document.getElementsByTagName(\"head\")[0].appendChild(s);\n",
       "    }\n",
       "  };var element = document.getElementById(\"44f742a1-d6e7-4d57-b287-d55e594327da\");\n",
       "  if (element == null) {\n",
       "    console.log(\"Bokeh: ERROR: autoload.js configured with elementid '44f742a1-d6e7-4d57-b287-d55e594327da' but no matching script tag was found. \")\n",
       "    return false;\n",
       "  }\n",
       "\n",
       "  var js_urls = [\"https://cdn.pydata.org/bokeh/release/bokeh-0.12.16.min.js\", \"https://cdn.pydata.org/bokeh/release/bokeh-widgets-0.12.16.min.js\", \"https://cdn.pydata.org/bokeh/release/bokeh-tables-0.12.16.min.js\", \"https://cdn.pydata.org/bokeh/release/bokeh-gl-0.12.16.min.js\"];\n",
       "\n",
       "  var inline_js = [\n",
       "    function(Bokeh) {\n",
       "      Bokeh.set_log_level(\"info\");\n",
       "    },\n",
       "    \n",
       "    function(Bokeh) {\n",
       "      \n",
       "    },\n",
       "    function(Bokeh) {\n",
       "      console.log(\"Bokeh: injecting CSS: https://cdn.pydata.org/bokeh/release/bokeh-0.12.16.min.css\");\n",
       "      Bokeh.embed.inject_css(\"https://cdn.pydata.org/bokeh/release/bokeh-0.12.16.min.css\");\n",
       "      console.log(\"Bokeh: injecting CSS: https://cdn.pydata.org/bokeh/release/bokeh-widgets-0.12.16.min.css\");\n",
       "      Bokeh.embed.inject_css(\"https://cdn.pydata.org/bokeh/release/bokeh-widgets-0.12.16.min.css\");\n",
       "      console.log(\"Bokeh: injecting CSS: https://cdn.pydata.org/bokeh/release/bokeh-tables-0.12.16.min.css\");\n",
       "      Bokeh.embed.inject_css(\"https://cdn.pydata.org/bokeh/release/bokeh-tables-0.12.16.min.css\");\n",
       "    }\n",
       "  ];\n",
       "\n",
       "  function run_inline_js() {\n",
       "    \n",
       "    if ((root.Bokeh !== undefined) || (force === true)) {\n",
       "      for (var i = 0; i < inline_js.length; i++) {\n",
       "        inline_js[i].call(root, root.Bokeh);\n",
       "      }if (force === true) {\n",
       "        display_loaded();\n",
       "      }} else if (Date.now() < root._bokeh_timeout) {\n",
       "      setTimeout(run_inline_js, 100);\n",
       "    } else if (!root._bokeh_failed_load) {\n",
       "      console.log(\"Bokeh: BokehJS failed to load within specified timeout.\");\n",
       "      root._bokeh_failed_load = true;\n",
       "    } else if (force !== true) {\n",
       "      var cell = $(document.getElementById(\"44f742a1-d6e7-4d57-b287-d55e594327da\")).parents('.cell').data().cell;\n",
       "      cell.output_area.append_execute_result(NB_LOAD_WARNING)\n",
       "    }\n",
       "\n",
       "  }\n",
       "\n",
       "  if (root._bokeh_is_loading === 0) {\n",
       "    console.log(\"Bokeh: BokehJS loaded, going straight to plotting\");\n",
       "    run_inline_js();\n",
       "  } else {\n",
       "    load_libs(js_urls, function() {\n",
       "      console.log(\"Bokeh: BokehJS plotting callback run at\", now());\n",
       "      run_inline_js();\n",
       "    });\n",
       "  }\n",
       "}(window));"
      ],
      "application/vnd.bokehjs_load.v0+json": "\n(function(root) {\n  function now() {\n    return new Date();\n  }\n\n  var force = true;\n\n  if (typeof (root._bokeh_onload_callbacks) === \"undefined\" || force === true) {\n    root._bokeh_onload_callbacks = [];\n    root._bokeh_is_loading = undefined;\n  }\n\n  \n\n  \n  if (typeof (root._bokeh_timeout) === \"undefined\" || force === true) {\n    root._bokeh_timeout = Date.now() + 5000;\n    root._bokeh_failed_load = false;\n  }\n\n  var NB_LOAD_WARNING = {'data': {'text/html':\n     \"<div style='background-color: #fdd'>\\n\"+\n     \"<p>\\n\"+\n     \"BokehJS does not appear to have successfully loaded. If loading BokehJS from CDN, this \\n\"+\n     \"may be due to a slow or bad network connection. Possible fixes:\\n\"+\n     \"</p>\\n\"+\n     \"<ul>\\n\"+\n     \"<li>re-rerun `output_notebook()` to attempt to load from CDN again, or</li>\\n\"+\n     \"<li>use INLINE resources instead, as so:</li>\\n\"+\n     \"</ul>\\n\"+\n     \"<code>\\n\"+\n     \"from bokeh.resources import INLINE\\n\"+\n     \"output_notebook(resources=INLINE)\\n\"+\n     \"</code>\\n\"+\n     \"</div>\"}};\n\n  function display_loaded() {\n    var el = document.getElementById(\"44f742a1-d6e7-4d57-b287-d55e594327da\");\n    if (el != null) {\n      el.textContent = \"BokehJS is loading...\";\n    }\n    if (root.Bokeh !== undefined) {\n      if (el != null) {\n        el.textContent = \"BokehJS \" + root.Bokeh.version + \" successfully loaded.\";\n      }\n    } else if (Date.now() < root._bokeh_timeout) {\n      setTimeout(display_loaded, 100)\n    }\n  }\n\n\n  function run_callbacks() {\n    try {\n      root._bokeh_onload_callbacks.forEach(function(callback) { callback() });\n    }\n    finally {\n      delete root._bokeh_onload_callbacks\n    }\n    console.info(\"Bokeh: all callbacks have finished\");\n  }\n\n  function load_libs(js_urls, callback) {\n    root._bokeh_onload_callbacks.push(callback);\n    if (root._bokeh_is_loading > 0) {\n      console.log(\"Bokeh: BokehJS is being loaded, scheduling callback at\", now());\n      return null;\n    }\n    if (js_urls == null || js_urls.length === 0) {\n      run_callbacks();\n      return null;\n    }\n    console.log(\"Bokeh: BokehJS not loaded, scheduling load and callback at\", now());\n    root._bokeh_is_loading = js_urls.length;\n    for (var i = 0; i < js_urls.length; i++) {\n      var url = js_urls[i];\n      var s = document.createElement('script');\n      s.src = url;\n      s.async = false;\n      s.onreadystatechange = s.onload = function() {\n        root._bokeh_is_loading--;\n        if (root._bokeh_is_loading === 0) {\n          console.log(\"Bokeh: all BokehJS libraries loaded\");\n          run_callbacks()\n        }\n      };\n      s.onerror = function() {\n        console.warn(\"failed to load library \" + url);\n      };\n      console.log(\"Bokeh: injecting script tag for BokehJS library: \", url);\n      document.getElementsByTagName(\"head\")[0].appendChild(s);\n    }\n  };var element = document.getElementById(\"44f742a1-d6e7-4d57-b287-d55e594327da\");\n  if (element == null) {\n    console.log(\"Bokeh: ERROR: autoload.js configured with elementid '44f742a1-d6e7-4d57-b287-d55e594327da' but no matching script tag was found. \")\n    return false;\n  }\n\n  var js_urls = [\"https://cdn.pydata.org/bokeh/release/bokeh-0.12.16.min.js\", \"https://cdn.pydata.org/bokeh/release/bokeh-widgets-0.12.16.min.js\", \"https://cdn.pydata.org/bokeh/release/bokeh-tables-0.12.16.min.js\", \"https://cdn.pydata.org/bokeh/release/bokeh-gl-0.12.16.min.js\"];\n\n  var inline_js = [\n    function(Bokeh) {\n      Bokeh.set_log_level(\"info\");\n    },\n    \n    function(Bokeh) {\n      \n    },\n    function(Bokeh) {\n      console.log(\"Bokeh: injecting CSS: https://cdn.pydata.org/bokeh/release/bokeh-0.12.16.min.css\");\n      Bokeh.embed.inject_css(\"https://cdn.pydata.org/bokeh/release/bokeh-0.12.16.min.css\");\n      console.log(\"Bokeh: injecting CSS: https://cdn.pydata.org/bokeh/release/bokeh-widgets-0.12.16.min.css\");\n      Bokeh.embed.inject_css(\"https://cdn.pydata.org/bokeh/release/bokeh-widgets-0.12.16.min.css\");\n      console.log(\"Bokeh: injecting CSS: https://cdn.pydata.org/bokeh/release/bokeh-tables-0.12.16.min.css\");\n      Bokeh.embed.inject_css(\"https://cdn.pydata.org/bokeh/release/bokeh-tables-0.12.16.min.css\");\n    }\n  ];\n\n  function run_inline_js() {\n    \n    if ((root.Bokeh !== undefined) || (force === true)) {\n      for (var i = 0; i < inline_js.length; i++) {\n        inline_js[i].call(root, root.Bokeh);\n      }if (force === true) {\n        display_loaded();\n      }} else if (Date.now() < root._bokeh_timeout) {\n      setTimeout(run_inline_js, 100);\n    } else if (!root._bokeh_failed_load) {\n      console.log(\"Bokeh: BokehJS failed to load within specified timeout.\");\n      root._bokeh_failed_load = true;\n    } else if (force !== true) {\n      var cell = $(document.getElementById(\"44f742a1-d6e7-4d57-b287-d55e594327da\")).parents('.cell').data().cell;\n      cell.output_area.append_execute_result(NB_LOAD_WARNING)\n    }\n\n  }\n\n  if (root._bokeh_is_loading === 0) {\n    console.log(\"Bokeh: BokehJS loaded, going straight to plotting\");\n    run_inline_js();\n  } else {\n    load_libs(js_urls, function() {\n      console.log(\"Bokeh: BokehJS plotting callback run at\", now());\n      run_inline_js();\n    });\n  }\n}(window));"
     },
     "metadata": {},
     "output_type": "display_data"
    }
   ],
   "source": [
    "import pandas as pd\n",
    "import matplotlib.pyplot as plt\n",
    "from ipywidgets import interact, FloatSlider\n",
    "from bokeh.io import output_notebook, push_notebook, show, curdoc\n",
    "from bokeh.plotting import figure\n",
    "from bokeh.models import HoverTool, ColumnDataSource, CategoricalColorMapper, Slider, CustomJS\n",
    "from bokeh.layouts import widgetbox, row, column\n",
    "import numpy as np\n",
    "from sklearn.metrics import mean_squared_error\n",
    "output_notebook()"
   ]
  },
  {
   "cell_type": "code",
   "execution_count": 3,
   "metadata": {},
   "outputs": [
    {
     "data": {
      "text/plain": [
       "dict_keys(['Family', 'Father', 'Mother', 'Gender', 'Height', 'Kids', 'index'])"
      ]
     },
     "execution_count": 3,
     "metadata": {},
     "output_type": "execute_result"
    }
   ],
   "source": [
    "df_galton = pd.read_csv('Galton.txt', sep='\\t')\n",
    "source = ColumnDataSource(df_galton)\n",
    "source.data.keys()"
   ]
  },
  {
   "cell_type": "code",
   "execution_count": 4,
   "metadata": {},
   "outputs": [
    {
     "data": {
      "text/html": [
       "<div>\n",
       "<style scoped>\n",
       "    .dataframe tbody tr th:only-of-type {\n",
       "        vertical-align: middle;\n",
       "    }\n",
       "\n",
       "    .dataframe tbody tr th {\n",
       "        vertical-align: top;\n",
       "    }\n",
       "\n",
       "    .dataframe thead th {\n",
       "        text-align: right;\n",
       "    }\n",
       "</style>\n",
       "<table border=\"1\" class=\"dataframe\">\n",
       "  <thead>\n",
       "    <tr style=\"text-align: right;\">\n",
       "      <th></th>\n",
       "      <th>Family</th>\n",
       "      <th>Father</th>\n",
       "      <th>Mother</th>\n",
       "      <th>Gender</th>\n",
       "      <th>Height</th>\n",
       "      <th>Kids</th>\n",
       "    </tr>\n",
       "  </thead>\n",
       "  <tbody>\n",
       "    <tr>\n",
       "      <th>0</th>\n",
       "      <td>1</td>\n",
       "      <td>78.5</td>\n",
       "      <td>67.0</td>\n",
       "      <td>M</td>\n",
       "      <td>73.2</td>\n",
       "      <td>4</td>\n",
       "    </tr>\n",
       "    <tr>\n",
       "      <th>1</th>\n",
       "      <td>1</td>\n",
       "      <td>78.5</td>\n",
       "      <td>67.0</td>\n",
       "      <td>F</td>\n",
       "      <td>69.2</td>\n",
       "      <td>4</td>\n",
       "    </tr>\n",
       "    <tr>\n",
       "      <th>2</th>\n",
       "      <td>1</td>\n",
       "      <td>78.5</td>\n",
       "      <td>67.0</td>\n",
       "      <td>F</td>\n",
       "      <td>69.0</td>\n",
       "      <td>4</td>\n",
       "    </tr>\n",
       "    <tr>\n",
       "      <th>3</th>\n",
       "      <td>1</td>\n",
       "      <td>78.5</td>\n",
       "      <td>67.0</td>\n",
       "      <td>F</td>\n",
       "      <td>69.0</td>\n",
       "      <td>4</td>\n",
       "    </tr>\n",
       "    <tr>\n",
       "      <th>4</th>\n",
       "      <td>2</td>\n",
       "      <td>75.5</td>\n",
       "      <td>66.5</td>\n",
       "      <td>M</td>\n",
       "      <td>73.5</td>\n",
       "      <td>4</td>\n",
       "    </tr>\n",
       "  </tbody>\n",
       "</table>\n",
       "</div>"
      ],
      "text/plain": [
       "  Family  Father  Mother Gender  Height  Kids\n",
       "0      1    78.5    67.0      M    73.2     4\n",
       "1      1    78.5    67.0      F    69.2     4\n",
       "2      1    78.5    67.0      F    69.0     4\n",
       "3      1    78.5    67.0      F    69.0     4\n",
       "4      2    75.5    66.5      M    73.5     4"
      ]
     },
     "execution_count": 4,
     "metadata": {},
     "output_type": "execute_result"
    }
   ],
   "source": [
    "df_galton.head()"
   ]
  },
  {
   "cell_type": "code",
   "execution_count": 5,
   "metadata": {},
   "outputs": [],
   "source": [
    "hover = HoverTool(tooltips=[(\"(x,y)\", \"($x, $y)\")])\n",
    "mapper = CategoricalColorMapper(factors=['M', 'F'], palette=['green', 'blue'])\n",
    "plot1 = figure(x_axis_label='Father', y_axis_label='Child', plot_width=300, plot_height=300, tools=[hover, 'crosshair', 'box_select, lasso_select', 'pan,box_zoom'])\n",
    "c = plot1.circle('Father', 'Height', source=source, hover_color='red', color={'field': 'Gender', 'transform': mapper})"
   ]
  },
  {
   "cell_type": "code",
   "execution_count": 6,
   "metadata": {},
   "outputs": [],
   "source": [
    "slope, intercept = np.polyfit(df_galton['Father'], df_galton['Height'], deg=1)"
   ]
  },
  {
   "cell_type": "code",
   "execution_count": 7,
   "metadata": {},
   "outputs": [],
   "source": [
    "X = [df_galton['Father'].min(), df_galton['Father'].max()]\n",
    "y = [x * slope + intercept for x in X]\n",
    "line_source = ColumnDataSource({'x':X, 'y':y, 'i': np.repeat(intercept, len(X)), 's':np.repeat(slope, len(X))})\n",
    "l = plot1.line('x', 'y', source=line_source, line_color='orange')"
   ]
  },
  {
   "cell_type": "code",
   "execution_count": 8,
   "metadata": {},
   "outputs": [],
   "source": [
    "weights, step = np.linspace(-1,1.8,100, retstep=True)\n",
    "loss = [mean_squared_error(df_galton['Height'], df_galton['Father'] * slope + intercept) for slope in weights]\n",
    "loss_source = ColumnDataSource({'x':weights, 'y':loss})\n",
    "point_source = ColumnDataSource({'x':[weights[0]], 'y':[loss[0]]})\n",
    "\n",
    "plot2 = figure(x_axis_label='Weights (slopes)', y_axis_label='Loss (Cost/Error)', plot_width=300, plot_height=300, tools=[hover, 'crosshair', 'box_select, lasso_select', 'pan,box_zoom'])\n",
    "l2 = plot2.line('x', 'y', source=loss_source)\n",
    "c2 = plot2.circle('x', 'y', source=point_source, color='red', size=5)"
   ]
  },
  {
   "cell_type": "code",
   "execution_count": 13,
   "metadata": {},
   "outputs": [],
   "source": [
    "callback_slope = CustomJS(args=dict(line=line_source, source=source, point=point_source), code=\"\"\"\n",
    "    var line_data = line.data;\n",
    "    var source_data = source.data;\n",
    "    var point_data = point.data;\n",
    "    var new_s = cb_obj.value\n",
    "    \n",
    "    var x = line_data['x']\n",
    "    var y = line_data['y']\n",
    "    var i = line_data['i']\n",
    "    var s = line_data['s']\n",
    "    var p1 = point_data['x']\n",
    "    var p2 = point_data['y']\n",
    "    \n",
    "    for (var j = 0; j < x.length; j++) {\n",
    "        s[j] = new_s\n",
    "        y[j] = x[j] * new_s + i[j]\n",
    "    }\n",
    "    \n",
    "    father = source_data['Father'];    \n",
    "    y_pred = [];\n",
    "    for (var j = 0; j < father.length; j++) {\n",
    "        y_pred[j] = father[j] * new_s + i[0]\n",
    "    }\n",
    "    \n",
    "    var sum = 0;\n",
    "    child = source_data['Height'];\n",
    "    for (var j = 0; j < child.length; j++) {\n",
    "        sum = sum + Math.pow((child[j] - y_pred[j]), 2);\n",
    "    }\n",
    "    \n",
    "    for (var j = 0; j < p1.length; j++) {\n",
    "        p1[j] = s[0]\n",
    "        p2[j] = (sum / child.length)\n",
    "    }\n",
    "    \n",
    "    line.change.emit();\n",
    "    point.change.emit();\n",
    "\"\"\")\n",
    "\n",
    "slider_slope = Slider(start=-1, end=1.8, value=1.6, step=step, title=\"slope\")\n",
    "slider_slope.js_on_change('value', callback_slope)"
   ]
  },
  {
   "cell_type": "code",
   "execution_count": 14,
   "metadata": {},
   "outputs": [],
   "source": [
    "callback_intercept = CustomJS(args=dict(line=line_source, source=source, point=point_source), code=\"\"\"\n",
    "    var line_data = line.data;\n",
    "    var source_data = source.data;\n",
    "    var point_data = point.data;\n",
    "    var new_i = cb_obj.value\n",
    "    \n",
    "    var x = line_data['x']\n",
    "    var y = line_data['y']\n",
    "    var i = line_data['i']\n",
    "    var s = line_data['s']\n",
    "    var p1 = point_data['x']\n",
    "    var p2 = point_data['y']\n",
    "    \n",
    "    for (var j = 0; j < x.length; j++) {\n",
    "        i[j] = new_i\n",
    "        y[j] = x[j] * s[j] + new_i\n",
    "    }\n",
    "    \n",
    "    father = source_data['Father'];    \n",
    "    y_pred = [];\n",
    "    for (var j = 0; j < father.length; j++) {\n",
    "        y_pred[j] = father[j] * s[0] + new_i\n",
    "    }\n",
    "    \n",
    "    var sum = 0;\n",
    "    child = source_data['Height'];\n",
    "    for (var j = 0; j < child.length; j++) {\n",
    "        sum = sum + Math.pow((child[j] - y_pred[j]), 2);\n",
    "    }\n",
    "    \n",
    "    for (var j = 0; j < p1.length; j++) {\n",
    "        p1[j] = s[0]\n",
    "        p2[j] = (sum / child.length)\n",
    "    }\n",
    "    \n",
    "    line.change.emit();\n",
    "    point.change.emit();\n",
    "\"\"\")\n",
    "\n",
    "slider_intercept = Slider(start=0, end=100, value=66, step=1, title=\"intercept\")\n",
    "slider_intercept.js_on_change('value', callback_intercept)"
   ]
  },
  {
   "cell_type": "code",
   "execution_count": 15,
   "metadata": {},
   "outputs": [
    {
     "data": {
      "text/html": [
       "\n",
       "<div class=\"bk-root\">\n",
       "    <div class=\"bk-plotdiv\" id=\"5b32bf37-84ee-403c-afcb-5d95dffd1858\"></div>\n",
       "</div>"
      ]
     },
     "metadata": {},
     "output_type": "display_data"
    },
    {
     "data": {
      "application/javascript": [
       "(function(root) {\n",
       "  function embed_document(root) {\n",
       "    \n",
       "  var docs_json = {\"52968eaa-c2c8-424f-be96-95252e136612\":{\"roots\":{\"references\":[{\"attributes\":{\"fill_alpha\":{\"value\":0.1},\"fill_color\":{\"value\":\"#1f77b4\"},\"line_alpha\":{\"value\":0.1},\"line_color\":{\"value\":\"#1f77b4\"},\"size\":{\"units\":\"screen\",\"value\":5},\"x\":{\"field\":\"x\"},\"y\":{\"field\":\"y\"}},\"id\":\"cd34bc34-48f2-4f7d-a760-d2e52c3cb223\",\"type\":\"Circle\"},{\"attributes\":{\"plot\":null,\"text\":\"\"},\"id\":\"f048c2fd-993a-4b0d-8681-7e14edfb0b81\",\"type\":\"Title\"},{\"attributes\":{\"children\":[{\"id\":\"fca77ce8-de33-477f-8696-282b83a1898c\",\"type\":\"WidgetBox\"},{\"id\":\"15143ecd-b385-41c0-bec8-78c5bb89b434\",\"type\":\"WidgetBox\"}]},\"id\":\"615011e1-63d3-465d-ab12-f322135033ff\",\"type\":\"Row\"},{\"attributes\":{\"data_source\":{\"id\":\"f85704ca-daf4-462d-989a-62332b7fadb1\",\"type\":\"ColumnDataSource\"},\"glyph\":{\"id\":\"1e3429e6-4892-40d0-bb94-f25c5c817085\",\"type\":\"Circle\"},\"hover_glyph\":null,\"muted_glyph\":null,\"nonselection_glyph\":{\"id\":\"cd34bc34-48f2-4f7d-a760-d2e52c3cb223\",\"type\":\"Circle\"},\"selection_glyph\":null,\"view\":{\"id\":\"e5589c42-1ab5-46c0-abc0-b95c44b1500b\",\"type\":\"CDSView\"}},\"id\":\"57d9433d-4077-418b-9f08-40b7285bbb04\",\"type\":\"GlyphRenderer\"},{\"attributes\":{\"callback\":null,\"renderers\":\"auto\",\"tooltips\":[[\"(x,y)\",\"($x, $y)\"]]},\"id\":\"9cc5db51-2099-497c-bb60-605f0aaa4963\",\"type\":\"HoverTool\"},{\"attributes\":{\"source\":{\"id\":\"f85704ca-daf4-462d-989a-62332b7fadb1\",\"type\":\"ColumnDataSource\"}},\"id\":\"e5589c42-1ab5-46c0-abc0-b95c44b1500b\",\"type\":\"CDSView\"},{\"attributes\":{\"dimension\":1,\"plot\":{\"id\":\"5defae3a-4476-4ee0-a532-27f53b5a9f1f\",\"subtype\":\"Figure\",\"type\":\"Plot\"},\"ticker\":{\"id\":\"bf0a06b7-c0af-4099-b078-1f8a4208b92d\",\"type\":\"BasicTicker\"}},\"id\":\"b22200b1-cf59-4117-bf7e-2033caab1e30\",\"type\":\"Grid\"},{\"attributes\":{\"factors\":[\"M\",\"F\"],\"palette\":[\"green\",\"blue\"]},\"id\":\"48da5b9e-7596-4509-941e-e0cd9b58f55f\",\"type\":\"CategoricalColorMapper\"},{\"attributes\":{\"children\":[{\"id\":\"f816982a-2025-4ea2-bf8d-1520498e0e8c\",\"subtype\":\"Figure\",\"type\":\"Plot\"},{\"id\":\"5defae3a-4476-4ee0-a532-27f53b5a9f1f\",\"subtype\":\"Figure\",\"type\":\"Plot\"}]},\"id\":\"db3f6a28-c8b9-49a9-a23e-11927cbce110\",\"type\":\"Row\"},{\"attributes\":{\"below\":[{\"id\":\"d92cf2f6-52a2-4f36-9128-8de995c4f288\",\"type\":\"LinearAxis\"}],\"left\":[{\"id\":\"9b2194bd-15bb-439b-ac38-1bc3638f304f\",\"type\":\"LinearAxis\"}],\"plot_height\":300,\"plot_width\":300,\"renderers\":[{\"id\":\"d92cf2f6-52a2-4f36-9128-8de995c4f288\",\"type\":\"LinearAxis\"},{\"id\":\"c94cec13-949f-46ee-9ec1-3d8f657f61ac\",\"type\":\"Grid\"},{\"id\":\"9b2194bd-15bb-439b-ac38-1bc3638f304f\",\"type\":\"LinearAxis\"},{\"id\":\"11ad29e5-d4d7-4cbe-92d4-efa5a57fb70c\",\"type\":\"Grid\"},{\"id\":\"17f4e4b6-0c37-4973-a606-852b9b659db1\",\"type\":\"BoxAnnotation\"},{\"id\":\"b7939163-73a0-4c65-81ff-57a7757ba954\",\"type\":\"PolyAnnotation\"},{\"id\":\"433ec999-66d9-4d58-a871-bc7f200f3b80\",\"type\":\"BoxAnnotation\"},{\"id\":\"dbd3a6f9-39cd-4b2a-93d3-2be29f936fb6\",\"type\":\"GlyphRenderer\"},{\"id\":\"f4103d34-3c26-4f9f-bf6b-122a57667800\",\"type\":\"GlyphRenderer\"}],\"title\":{\"id\":\"8d59b889-5474-4868-a2cb-41150fd4aaa6\",\"type\":\"Title\"},\"toolbar\":{\"id\":\"5ff568d9-a258-4de6-aa12-99658e9e5287\",\"type\":\"Toolbar\"},\"x_range\":{\"id\":\"5f493db4-83cf-4f32-8bad-e396a1a82790\",\"type\":\"DataRange1d\"},\"x_scale\":{\"id\":\"dcdd82b8-eed8-46e8-a71e-02a2cbca3d7a\",\"type\":\"LinearScale\"},\"y_range\":{\"id\":\"933240de-e19a-469d-b267-ab8744b3d8ed\",\"type\":\"DataRange1d\"},\"y_scale\":{\"id\":\"a0589a20-b42a-49c2-907d-5c290b521200\",\"type\":\"LinearScale\"}},\"id\":\"f816982a-2025-4ea2-bf8d-1520498e0e8c\",\"subtype\":\"Figure\",\"type\":\"Plot\"},{\"attributes\":{\"callback\":null,\"data\":{\"Family\":[\"1\",\"1\",\"1\",\"1\",\"2\",\"2\",\"2\",\"2\",\"3\",\"3\",\"4\",\"4\",\"4\",\"4\",\"4\",\"5\",\"5\",\"5\",\"5\",\"5\",\"5\",\"6\",\"7\",\"7\",\"7\",\"7\",\"7\",\"7\",\"8\",\"8\",\"8\",\"9\",\"10\",\"11\",\"11\",\"11\",\"11\",\"11\",\"11\",\"11\",\"11\",\"12\",\"14\",\"14\",\"15\",\"15\",\"15\",\"16\",\"16\",\"16\",\"16\",\"16\",\"16\",\"16\",\"16\",\"16\",\"17\",\"17\",\"17\",\"17\",\"17\",\"17\",\"18\",\"18\",\"18\",\"19\",\"20\",\"20\",\"20\",\"20\",\"20\",\"20\",\"20\",\"20\",\"21\",\"21\",\"21\",\"22\",\"22\",\"22\",\"23\",\"23\",\"23\",\"23\",\"23\",\"23\",\"23\",\"24\",\"25\",\"25\",\"26\",\"26\",\"26\",\"26\",\"26\",\"27\",\"27\",\"27\",\"28\",\"28\",\"28\",\"28\",\"28\",\"28\",\"29\",\"29\",\"29\",\"30\",\"31\",\"31\",\"31\",\"31\",\"31\",\"31\",\"32\",\"32\",\"32\",\"32\",\"32\",\"33\",\"33\",\"33\",\"33\",\"33\",\"34\",\"35\",\"35\",\"35\",\"35\",\"35\",\"36\",\"36\",\"36\",\"36\",\"37\",\"37\",\"37\",\"37\",\"38\",\"38\",\"38\",\"38\",\"38\",\"38\",\"39\",\"39\",\"40\",\"40\",\"40\",\"40\",\"40\",\"41\",\"42\",\"42\",\"42\",\"42\",\"42\",\"42\",\"43\",\"43\",\"44\",\"44\",\"45\",\"45\",\"45\",\"46\",\"46\",\"46\",\"46\",\"46\",\"46\",\"46\",\"46\",\"47\",\"47\",\"47\",\"47\",\"48\",\"48\",\"48\",\"49\",\"49\",\"49\",\"49\",\"49\",\"49\",\"49\",\"51\",\"51\",\"52\",\"52\",\"52\",\"52\",\"52\",\"53\",\"53\",\"53\",\"53\",\"53\",\"53\",\"53\",\"53\",\"53\",\"54\",\"54\",\"54\",\"54\",\"55\",\"55\",\"55\",\"55\",\"55\",\"56\",\"56\",\"56\",\"56\",\"56\",\"57\",\"57\",\"57\",\"57\",\"57\",\"58\",\"58\",\"58\",\"58\",\"58\",\"58\",\"58\",\"59\",\"60\",\"60\",\"61\",\"61\",\"61\",\"61\",\"62\",\"62\",\"62\",\"62\",\"62\",\"62\",\"63\",\"64\",\"64\",\"64\",\"64\",\"64\",\"65\",\"66\",\"66\",\"66\",\"66\",\"66\",\"66\",\"66\",\"66\",\"66\",\"66\",\"66\",\"67\",\"67\",\"67\",\"67\",\"68\",\"68\",\"68\",\"68\",\"68\",\"69\",\"69\",\"69\",\"69\",\"69\",\"69\",\"69\",\"69\",\"70\",\"70\",\"70\",\"70\",\"70\",\"71\",\"71\",\"71\",\"71\",\"71\",\"71\",\"72\",\"72\",\"72\",\"72\",\"72\",\"72\",\"72\",\"73\",\"73\",\"73\",\"74\",\"74\",\"75\",\"75\",\"75\",\"75\",\"75\",\"75\",\"75\",\"76\",\"76\",\"76\",\"76\",\"76\",\"76\",\"76\",\"77\",\"77\",\"77\",\"77\",\"78\",\"78\",\"78\",\"78\",\"78\",\"79\",\"79\",\"79\",\"79\",\"79\",\"79\",\"79\",\"79\",\"80\",\"81\",\"81\",\"81\",\"81\",\"82\",\"82\",\"82\",\"82\",\"82\",\"82\",\"82\",\"82\",\"82\",\"83\",\"83\",\"83\",\"83\",\"83\",\"83\",\"83\",\"83\",\"85\",\"85\",\"85\",\"85\",\"85\",\"86\",\"86\",\"86\",\"86\",\"87\",\"87\",\"87\",\"87\",\"88\",\"88\",\"88\",\"88\",\"89\",\"89\",\"89\",\"89\",\"89\",\"89\",\"89\",\"89\",\"90\",\"90\",\"90\",\"90\",\"90\",\"90\",\"90\",\"91\",\"91\",\"91\",\"92\",\"92\",\"93\",\"93\",\"93\",\"93\",\"94\",\"94\",\"95\",\"95\",\"95\",\"96\",\"96\",\"96\",\"96\",\"96\",\"97\",\"97\",\"97\",\"97\",\"97\",\"97\",\"97\",\"97\",\"97\",\"97\",\"98\",\"99\",\"99\",\"99\",\"99\",\"99\",\"99\",\"99\",\"99\",\"100\",\"100\",\"100\",\"101\",\"101\",\"101\",\"101\",\"101\",\"101\",\"102\",\"102\",\"102\",\"102\",\"102\",\"102\",\"103\",\"103\",\"103\",\"103\",\"103\",\"104\",\"104\",\"104\",\"104\",\"105\",\"105\",\"105\",\"105\",\"105\",\"105\",\"106\",\"106\",\"106\",\"106\",\"106\",\"106\",\"106\",\"107\",\"107\",\"107\",\"107\",\"107\",\"107\",\"107\",\"107\",\"107\",\"108\",\"108\",\"108\",\"108\",\"108\",\"108\",\"108\",\"109\",\"109\",\"109\",\"109\",\"109\",\"109\",\"109\",\"110\",\"110\",\"110\",\"110\",\"112\",\"112\",\"112\",\"113\",\"114\",\"114\",\"114\",\"114\",\"114\",\"114\",\"115\",\"115\",\"115\",\"115\",\"115\",\"115\",\"115\",\"116\",\"116\",\"116\",\"117\",\"118\",\"118\",\"118\",\"119\",\"119\",\"119\",\"119\",\"119\",\"121\",\"121\",\"121\",\"121\",\"121\",\"121\",\"121\",\"121\",\"122\",\"122\",\"122\",\"122\",\"123\",\"123\",\"123\",\"123\",\"123\",\"124\",\"124\",\"124\",\"124\",\"124\",\"124\",\"124\",\"124\",\"124\",\"125\",\"125\",\"125\",\"126\",\"126\",\"126\",\"126\",\"127\",\"128\",\"128\",\"129\",\"129\",\"129\",\"130\",\"130\",\"130\",\"130\",\"130\",\"130\",\"130\",\"130\",\"130\",\"130\",\"131\",\"131\",\"132\",\"132\",\"133\",\"133\",\"133\",\"133\",\"133\",\"133\",\"133\",\"134\",\"134\",\"134\",\"134\",\"135\",\"135\",\"135\",\"135\",\"135\",\"135\",\"135\",\"135\",\"136\",\"136\",\"136\",\"136\",\"136\",\"136\",\"136\",\"136\",\"136\",\"136\",\"137\",\"137\",\"137\",\"137\",\"138\",\"138\",\"138\",\"138\",\"138\",\"139\",\"140\",\"140\",\"140\",\"140\",\"140\",\"140\",\"140\",\"140\",\"140\",\"140\",\"141\",\"141\",\"141\",\"141\",\"141\",\"141\",\"141\",\"141\",\"142\",\"142\",\"142\",\"142\",\"143\",\"144\",\"144\",\"144\",\"144\",\"145\",\"145\",\"145\",\"145\",\"145\",\"145\",\"145\",\"145\",\"146\",\"146\",\"146\",\"146\",\"146\",\"146\",\"147\",\"148\",\"149\",\"149\",\"149\",\"149\",\"149\",\"150\",\"151\",\"151\",\"152\",\"153\",\"153\",\"153\",\"153\",\"153\",\"154\",\"155\",\"155\",\"155\",\"155\",\"155\",\"155\",\"155\",\"156\",\"156\",\"156\",\"156\",\"157\",\"158\",\"158\",\"158\",\"158\",\"158\",\"158\",\"158\",\"158\",\"158\",\"158\",\"159\",\"159\",\"159\",\"159\",\"159\",\"160\",\"162\",\"162\",\"162\",\"162\",\"162\",\"162\",\"163\",\"163\",\"163\",\"163\",\"163\",\"164\",\"164\",\"164\",\"164\",\"165\",\"165\",\"165\",\"166\",\"166\",\"166\",\"166\",\"166\",\"166\",\"166\",\"166\",\"166\",\"166\",\"166\",\"167\",\"167\",\"167\",\"167\",\"168\",\"168\",\"168\",\"168\",\"168\",\"168\",\"168\",\"168\",\"169\",\"169\",\"169\",\"170\",\"170\",\"170\",\"170\",\"170\",\"171\",\"172\",\"172\",\"172\",\"172\",\"172\",\"172\",\"172\",\"172\",\"173\",\"173\",\"173\",\"173\",\"173\",\"173\",\"173\",\"173\",\"173\",\"174\",\"174\",\"174\",\"174\",\"174\",\"175\",\"175\",\"175\",\"175\",\"175\",\"175\",\"176\",\"176\",\"176\",\"176\",\"176\",\"176\",\"176\",\"176\",\"177\",\"177\",\"177\",\"177\",\"177\",\"178\",\"179\",\"179\",\"180\",\"180\",\"180\",\"180\",\"180\",\"180\",\"181\",\"181\",\"181\",\"181\",\"181\",\"181\",\"181\",\"182\",\"183\",\"183\",\"183\",\"183\",\"184\",\"185\",\"185\",\"185\",\"185\",\"185\",\"185\",\"185\",\"185\",\"185\",\"185\",\"185\",\"185\",\"185\",\"185\",\"185\",\"186\",\"186\",\"186\",\"186\",\"187\",\"188\",\"188\",\"188\",\"188\",\"190\",\"190\",\"190\",\"190\",\"190\",\"190\",\"190\",\"190\",\"190\",\"191\",\"191\",\"192\",\"192\",\"192\",\"192\",\"192\",\"192\",\"193\",\"193\",\"193\",\"193\",\"193\",\"193\",\"194\",\"194\",\"195\",\"195\",\"195\",\"196\",\"196\",\"196\",\"196\",\"197\",\"197\",\"197\",\"197\",\"197\",\"198\",\"198\",\"198\",\"198\",\"198\",\"198\",\"198\",\"199\",\"199\",\"199\",\"199\",\"199\",\"199\",\"199\",\"200\",\"201\",\"201\",\"203\",\"203\",\"203\",\"204\",\"204\",\"136A\",\"136A\",\"136A\",\"136A\",\"136A\",\"136A\",\"136A\",\"136A\"],\"Father\":{\"__ndarray__\":\"AAAAAACgU0AAAAAAAKBTQAAAAAAAoFNAAAAAAACgU0AAAAAAAOBSQAAAAAAA4FJAAAAAAADgUkAAAAAAAOBSQAAAAAAAwFJAAAAAAADAUkAAAAAAAMBSQAAAAAAAwFJAAAAAAADAUkAAAAAAAMBSQAAAAAAAwFJAAAAAAADAUkAAAAAAAMBSQAAAAAAAwFJAAAAAAADAUkAAAAAAAMBSQAAAAAAAwFJAAAAAAACAUkAAAAAAAIBSQAAAAAAAgFJAAAAAAACAUkAAAAAAAIBSQAAAAAAAgFJAAAAAAACAUkAAAAAAAIBSQAAAAAAAgFJAAAAAAACAUkAAAAAAAKBSQAAAAAAAgFJAAAAAAACAUkAAAAAAAIBSQAAAAAAAgFJAAAAAAACAUkAAAAAAAIBSQAAAAAAAgFJAAAAAAACAUkAAAAAAAIBSQAAAAAAAgFJAAAAAAABAUkAAAAAAAEBSQAAAAAAAQFJAAAAAAABAUkAAAAAAAEBSQAAAAAAAQFJAAAAAAABAUkAAAAAAAEBSQAAAAAAAQFJAAAAAAABAUkAAAAAAAEBSQAAAAAAAQFJAAAAAAABAUkAAAAAAAEBSQAAAAAAAQFJAAAAAAABAUkAAAAAAAEBSQAAAAAAAQFJAAAAAAABAUkAAAAAAAEBSQAAAAAAAQFJAAAAAAABAUkAAAAAAAEBSQM3MzMzMTFJAzczMzMwsUkDNzMzMzCxSQM3MzMzMLFJAzczMzMwsUkDNzMzMzCxSQM3MzMzMLFJAzczMzMwsUkDNzMzMzCxSQAAAAAAAAFJAAAAAAAAAUkAAAAAAAABSQAAAAAAAAFJAAAAAAAAAUkAAAAAAAABSQAAAAAAAAFJAAAAAAAAAUkAAAAAAAABSQAAAAAAAAFJAAAAAAAAAUkAAAAAAAABSQAAAAAAAAFJAAAAAAAAAUkAAAAAAAABSQAAAAAAAAFJAAAAAAAAAUkAAAAAAAABSQAAAAAAAAFJAAAAAAAAAUkAAAAAAAABSQAAAAAAAAFJAAAAAAAAAUkAAAAAAAABSQAAAAAAAAFJAAAAAAAAAUkAAAAAAAABSQAAAAAAAAFJAAAAAAAAAUkAAAAAAAABSQAAAAAAAIFJAAAAAAAAgUkAAAAAAACBSQAAAAAAAAFJAAAAAAAAgUkAAAAAAACBSQAAAAAAAIFJAAAAAAAAgUkAAAAAAACBSQAAAAAAAIFJAAAAAAAAAUkAAAAAAAABSQAAAAAAAAFJAAAAAAAAAUkAAAAAAAABSQAAAAAAAAFJAAAAAAAAAUkAAAAAAAABSQAAAAAAAAFJAAAAAAAAAUkAAAAAAAABSQAAAAAAAwFFAAAAAAADAUUAAAAAAAMBRQAAAAAAAwFFAAAAAAADAUUAAAAAAAMBRQAAAAAAAwFFAAAAAAADAUUAAAAAAAMBRQAAAAAAAwFFAAAAAAADAUUAAAAAAAMBRQAAAAAAAwFFAAAAAAADAUUAAAAAAAMBRQAAAAAAAwFFAAAAAAADAUUAAAAAAAMBRQAAAAAAAwFFAAAAAAADAUUAAAAAAAMBRQAAAAAAAwFFAAAAAAADAUUAAAAAAAMBRQAAAAAAAwFFAAAAAAADAUUDNzMzMzOxRQAAAAAAAwFFAAAAAAADAUUAAAAAAAMBRQAAAAAAAwFFAAAAAAADAUUAAAAAAAMBRQAAAAAAA4FFAAAAAAADgUUAAAAAAAOBRQAAAAAAA4FFAAAAAAADAUUAAAAAAAMBRQAAAAAAAwFFAAAAAAADAUUAAAAAAAMBRQAAAAAAAwFFAAAAAAADAUUAAAAAAAMBRQAAAAAAAwFFAAAAAAADAUUAAAAAAAMBRQM3MzMzM7FFAzczMzMzsUUDNzMzMzOxRQM3MzMzM7FFAAAAAAADAUUAAAAAAAMBRQAAAAAAAwFFAAAAAAADgUUAAAAAAAOBRQAAAAAAA4FFAAAAAAADgUUAAAAAAAOBRQAAAAAAA4FFAAAAAAADgUUDNzMzMzMxRQM3MzMzMzFFAAAAAAADAUUAAAAAAAMBRQAAAAAAAwFFAAAAAAADAUUAAAAAAAMBRQAAAAAAAwFFAAAAAAADAUUAAAAAAAMBRQAAAAAAAwFFAAAAAAADAUUAAAAAAAMBRQAAAAAAAwFFAAAAAAADAUUAAAAAAAMBRQAAAAAAAwFFAAAAAAADAUUAAAAAAAMBRQAAAAAAAwFFAAAAAAADAUUAAAAAAAMBRQAAAAAAAwFFAAAAAAADAUUAAAAAAAMBRQAAAAAAAwFFAAAAAAADAUUAAAAAAAMBRQAAAAAAAwFFAAAAAAADAUUAAAAAAAMBRQAAAAAAAwFFAAAAAAADAUUAAAAAAAMBRQAAAAAAAwFFAAAAAAADAUUAAAAAAAMBRQAAAAAAAwFFAAAAAAADAUUAAAAAAAMBRQAAAAAAAwFFAAAAAAADAUUAAAAAAAMBRQAAAAAAAwFFAAAAAAADAUUAAAAAAAIBRQAAAAAAAgFFAAAAAAACAUUAAAAAAAIBRQAAAAAAAgFFAAAAAAACAUUAAAAAAAIBRQAAAAAAAgFFAAAAAAACAUUAAAAAAAIBRQAAAAAAAgFFAAAAAAACAUUAAAAAAAIBRQAAAAAAAgFFAAAAAAACAUUAAAAAAAIBRQAAAAAAAgFFAAAAAAACAUUAAAAAAAIBRQAAAAAAAgFFAAAAAAACAUUAAAAAAAIBRQAAAAAAAgFFAAAAAAACAUUAAAAAAAIBRQAAAAAAAgFFAAAAAAACAUUAAAAAAAIBRQAAAAAAAoFFAAAAAAACgUUAAAAAAAKBRQAAAAAAAoFFAAAAAAACgUUAAAAAAAKBRQAAAAAAAoFFAAAAAAACgUUAAAAAAAKBRQAAAAAAAgFFAAAAAAACAUUAAAAAAAIBRQAAAAAAAgFFAAAAAAACAUUAAAAAAAIBRQAAAAAAAgFFAAAAAAACAUUAAAAAAAIBRQAAAAAAAgFFAAAAAAACAUUAAAAAAAIBRQAAAAAAAgFFAAAAAAACAUUAAAAAAAIBRQAAAAAAAgFFAAAAAAACAUUAAAAAAAIBRQAAAAAAAgFFAAAAAAACAUUAAAAAAAIBRQAAAAAAAgFFAAAAAAACAUUAAAAAAAIBRQAAAAAAAgFFAAAAAAACAUUAAAAAAAIBRQAAAAAAAgFFAAAAAAACAUUAAAAAAAIBRQAAAAAAAgFFAAAAAAACAUUAAAAAAAIBRQAAAAAAAgFFAAAAAAACAUUAAAAAAAIBRQAAAAAAAgFFAAAAAAACAUUAAAAAAAIBRQAAAAAAAgFFAAAAAAACAUUAAAAAAAIBRQAAAAAAAgFFAAAAAAACAUUAAAAAAAIBRQAAAAAAAgFFAAAAAAACAUUAAAAAAAIBRQAAAAAAAgFFAAAAAAACAUUAAAAAAAIBRQAAAAAAAgFFAAAAAAACAUUAAAAAAAIBRQAAAAAAAoFFAAAAAAACgUUAAAAAAAKBRQAAAAAAAoFFAAAAAAACgUUAAAAAAAKBRQAAAAAAAoFFAAAAAAACgUUAAAAAAAKBRQAAAAAAAgFFAAAAAAACAUUAAAAAAAIBRQAAAAAAAgFFAAAAAAACAUUAAAAAAAIBRQAAAAAAAgFFAAAAAAACAUUAAAAAAAIBRQAAAAAAAgFFAAAAAAACAUUAAAAAAAIBRQAAAAAAAgFFAAAAAAACAUUAAAAAAAIBRQAAAAAAAgFFAAAAAAACAUUAAAAAAAIBRQAAAAAAAgFFAAAAAAACAUUAAAAAAAIBRQAAAAAAAoFFAAAAAAACgUUAAAAAAAKBRQAAAAAAAoFFAAAAAAACgUUAAAAAAAIBRQAAAAAAAgFFAAAAAAACAUUAAAAAAAIBRQAAAAAAAgFFAAAAAAACAUUAAAAAAAIBRQAAAAAAAgFFAAAAAAACAUUAAAAAAAIBRQAAAAAAAgFFAAAAAAACAUUAAAAAAAKBRQAAAAAAAoFFAAAAAAACgUUAAAAAAAKBRQAAAAAAAoFFAAAAAAACgUUAAAAAAAKBRQAAAAAAAoFFAMzMzMzOTUUAzMzMzM5NRQDMzMzMzk1FAMzMzMzOTUUAzMzMzM5NRQDMzMzMzk1FAMzMzMzOTUUAAAAAAAKBRQAAAAAAAoFFAAAAAAACgUUAAAAAAAIBRQAAAAAAAgFFAAAAAAACAUUAAAAAAAIBRQAAAAAAAgFFAAAAAAACAUUAAAAAAAIBRQAAAAAAAgFFAAAAAAACAUUAAAAAAAIBRQAAAAAAAgFFAAAAAAACAUUAAAAAAAIBRQAAAAAAAgFFAAAAAAACAUUAAAAAAAIBRQAAAAAAAQFFAAAAAAABAUUAAAAAAAEBRQAAAAAAAQFFAAAAAAABAUUAAAAAAAEBRQAAAAAAAQFFAAAAAAABAUUAAAAAAAEBRQAAAAAAAQFFAAAAAAABAUUAAAAAAAEBRQAAAAAAAQFFAAAAAAABAUUAAAAAAAEBRQAAAAAAAQFFAAAAAAABAUUAAAAAAAEBRQAAAAAAAQFFAAAAAAABAUUAAAAAAAEBRQAAAAAAAQFFAAAAAAABAUUAAAAAAAEBRQAAAAAAAQFFAAAAAAABAUUAAAAAAAEBRQAAAAAAAQFFAAAAAAABAUUAAAAAAAEBRQAAAAAAAQFFAAAAAAABAUUAAAAAAAEBRQAAAAAAAQFFAAAAAAABAUUAAAAAAAEBRQAAAAAAAQFFAAAAAAABAUUAAAAAAAEBRQAAAAAAAYFFAAAAAAABgUUAAAAAAAGBRQAAAAAAAYFFAAAAAAABAUUAAAAAAAEBRQAAAAAAAQFFAAAAAAABAUUAAAAAAAEBRQAAAAAAAQFFAAAAAAABgUUAAAAAAAGBRQAAAAAAAYFFAAAAAAABgUUAAAAAAAGBRQAAAAAAAYFFAAAAAAABgUUAAAAAAAEBRQAAAAAAAQFFAAAAAAABAUUAAAAAAAEBRQAAAAAAAQFFAAAAAAABAUUAAAAAAAEBRQAAAAAAAQFFAAAAAAABAUUAAAAAAAEBRQAAAAAAAQFFAAAAAAABAUUAAAAAAAEBRQAAAAAAAQFFAAAAAAABAUUAAAAAAAEBRQAAAAAAAYFFAAAAAAABgUUAAAAAAAGBRQAAAAAAAYFFAAAAAAABgUUAAAAAAAGBRQAAAAAAAYFFAzczMzMxMUUDNzMzMzExRQM3MzMzMTFFAzczMzMxMUUAAAAAAAEBRQAAAAAAAQFFAAAAAAABAUUAAAAAAAEBRQAAAAAAAQFFAAAAAAABAUUAAAAAAAEBRQAAAAAAAQFFAAAAAAABAUUAAAAAAAEBRQAAAAAAAQFFAAAAAAABAUUAAAAAAAEBRQAAAAAAAQFFAAAAAAABAUUAAAAAAAEBRQAAAAAAAQFFAAAAAAABAUUAAAAAAAEBRQAAAAAAAQFFAzczMzMxsUUAAAAAAAGBRQAAAAAAAYFFAAAAAAABgUUAAAAAAAEBRQAAAAAAAQFFAAAAAAABAUUAAAAAAAEBRQAAAAAAAQFFAAAAAAABAUUAAAAAAAEBRQAAAAAAAQFFAAAAAAABAUUAAAAAAAEBRQAAAAAAAQFFAAAAAAABAUUAAAAAAAEBRQAAAAAAAQFFAAAAAAABAUUAAAAAAAEBRQAAAAAAAQFFAAAAAAABgUUAAAAAAAGBRQAAAAAAAYFFAAAAAAABgUUAAAAAAAGBRQAAAAAAAQFFAAAAAAABAUUAAAAAAAEBRQAAAAAAAQFFAAAAAAABAUUAAAAAAAEBRQAAAAAAAQFFAAAAAAABAUUAAAAAAAEBRQAAAAAAAQFFAAAAAAABAUUAAAAAAAEBRQAAAAAAAQFFAAAAAAABAUUAAAAAAAEBRQAAAAAAAQFFAAAAAAABAUUDNzMzMzCxRQM3MzMzMLFFAAAAAAAAgUUAAAAAAACBRQAAAAAAAIFFAAAAAAAAgUUAAAAAAACBRQAAAAAAAIFFAAAAAAAAgUUAAAAAAACBRQAAAAAAAIFFAAAAAAAAgUUAAAAAAACBRQAAAAAAAIFFAAAAAAAAgUUAAAAAAAABRQAAAAAAAAFFAAAAAAAAAUUAAAAAAAABRQAAAAAAAAFFAAAAAAAAAUUAAAAAAAABRQAAAAAAAAFFAAAAAAAAAUUAAAAAAAABRQAAAAAAAAFFAAAAAAAAAUUAAAAAAAABRQAAAAAAAAFFAAAAAAAAAUUAAAAAAACBRQAAAAAAAIFFAAAAAAAAgUUAAAAAAACBRQAAAAAAAIFFAAAAAAAAgUUAAAAAAACBRQAAAAAAAIFFAAAAAAAAAUUAAAAAAAABRQAAAAAAAAFFAAAAAAAAAUUAAAAAAAABRQAAAAAAAAFFAAAAAAAAAUUAAAAAAAABRQAAAAAAAAFFAAAAAAAAAUUAAAAAAAABRQAAAAAAAAFFAAAAAAAAAUUAAAAAAAABRQAAAAAAAAFFAAAAAAAAAUUAAAAAAAABRQAAAAAAAAFFAAAAAAAAAUUAAAAAAAABRQAAAAAAAAFFAAAAAAAAAUUAAAAAAAABRQAAAAAAAAFFAAAAAAAAAUUAAAAAAAABRQAAAAAAAAFFAAAAAAAAAUUAAAAAAAABRQAAAAAAAAFFAAAAAAAAAUUAAAAAAAABRQAAAAAAAAFFAAAAAAAAAUUAAAAAAAABRQAAAAAAAAFFAAAAAAAAAUUAAAAAAAABRQAAAAAAAIFFAAAAAAAAgUUAAAAAAACBRQAAAAAAAIFFAAAAAAAAAUUAAAAAAAABRQAAAAAAAAFFAAAAAAAAAUUAAAAAAAABRQAAAAAAAAFFAAAAAAAAAUUAAAAAAAABRQAAAAAAAAFFAAAAAAAAAUUAAAAAAAABRQAAAAAAAAFFAAAAAAAAAUUAAAAAAAABRQAAAAAAAAFFAAAAAAAAAUUAAAAAAAABRQAAAAAAAAFFAAAAAAAAAUUAAAAAAACBRQAAAAAAAAFFAzczMzMwMUUDNzMzMzAxRQM3MzMzMDFFAzczMzMwMUUDNzMzMzAxRQAAAAAAAAFFAzczMzMwsUUDNzMzMzCxRQAAAAAAAAFFAAAAAAAAAUUAAAAAAAABRQAAAAAAAAFFAAAAAAAAAUUAAAAAAAABRQAAAAAAAAFFAAAAAAAAAUUAAAAAAAABRQAAAAAAAAFFAAAAAAAAAUUAAAAAAAABRQAAAAAAAAFFAAAAAAAAAUUAAAAAAAABRQAAAAAAAAFFAAAAAAAAAUUAAAAAAAABRQAAAAAAAIFFAAAAAAAAAUUAAAAAAAABRQAAAAAAAAFFAAAAAAAAAUUAAAAAAAABRQAAAAAAAAFFAAAAAAAAAUUAAAAAAAABRQAAAAAAAAFFAAAAAAAAAUUAAAAAAAMBQQAAAAAAAwFBAAAAAAADAUEAAAAAAAMBQQAAAAAAAwFBAAAAAAADAUEAAAAAAAMBQQAAAAAAAwFBAAAAAAADAUEAAAAAAAMBQQAAAAAAAwFBAAAAAAADAUEAAAAAAAMBQQAAAAAAAwFBAAAAAAADAUEAAAAAAAMBQQAAAAAAAwFBAAAAAAADAUEAAAAAAAMBQQAAAAAAAwFBAAAAAAADAUEAAAAAAAMBQQAAAAAAAwFBAAAAAAADAUEAAAAAAAOBQQAAAAAAA4FBAAAAAAADgUEAAAAAAAOBQQAAAAAAA4FBAAAAAAADgUEAAAAAAAOBQQAAAAAAA4FBAAAAAAADgUEAAAAAAAOBQQAAAAAAA4FBAAAAAAADAUEAAAAAAAMBQQAAAAAAAwFBAAAAAAADAUEAAAAAAAMBQQAAAAAAAwFBAAAAAAADAUEAAAAAAAMBQQAAAAAAAwFBAAAAAAADAUEAAAAAAAMBQQAAAAAAAwFBAAAAAAADAUEAAAAAAAMBQQAAAAAAAwFBAAAAAAADgUEAAAAAAAOBQQAAAAAAA4FBAAAAAAADgUEAAAAAAAOBQQAAAAAAAwFBAAAAAAACAUEAAAAAAAIBQQAAAAAAAgFBAAAAAAACAUEAAAAAAAIBQQAAAAAAAgFBAAAAAAACAUEAAAAAAAIBQQAAAAAAAgFBAAAAAAACAUEAAAAAAAIBQQAAAAAAAgFBAAAAAAACAUEAAAAAAAIBQQAAAAAAAgFBAAAAAAACAUEAAAAAAAIBQQAAAAAAAgFBAAAAAAACAUEAAAAAAAIBQQAAAAAAAgFBAAAAAAACAUEAAAAAAAIBQQAAAAAAAgFBAAAAAAACAUEAAAAAAAIBQQAAAAAAAgFBAAAAAAACAUEAAAAAAAKBQQAAAAAAAoFBAAAAAAACgUEAAAAAAAKBQQAAAAAAAoFBAAAAAAACgUEAAAAAAAKBQQAAAAAAAoFBAAAAAAACAUEAAAAAAAIBQQAAAAAAAgFBAAAAAAACAUEAAAAAAAIBQQAAAAAAAgFBAAAAAAACAUEAAAAAAAIBQQAAAAAAAoFBAAAAAAACgUEAAAAAAAKBQQAAAAAAAoFBAAAAAAACgUEAAAAAAAKBQQAAAAAAAoFBAAAAAAACgUEAAAAAAAKBQQAAAAAAAoFBAAAAAAACgUEAAAAAAAKBQQAAAAAAAoFBAAAAAAACAUEAAAAAAAIBQQAAAAAAAgFBAAAAAAACAUEAAAAAAAIBQQAAAAAAAgFBAAAAAAACAUEAAAAAAAIBQQAAAAAAAgFBAAAAAAACAUEAAAAAAAIBQQAAAAAAAgFBAAAAAAACAUEAAAAAAAIBQQAAAAAAAgFBAAAAAAACAUEAAAAAAAIBQQAAAAAAAgFBAAAAAAACAUEAAAAAAAIBQQAAAAAAAgFBAAAAAAABAUEAAAAAAAEBQQAAAAAAAQFBAAAAAAABAUEAAAAAAAEBQQAAAAAAAQFBAAAAAAABAUEAAAAAAAEBQQAAAAAAAQFBAAAAAAABAUEAAAAAAAEBQQAAAAAAAQFBAAAAAAABAUEAAAAAAAEBQQAAAAAAAQFBAAAAAAABAUEAAAAAAAEBQQAAAAAAAQFBAAAAAAABAUEAAAAAAAEBQQAAAAAAAQFBAAAAAAABAUEAAAAAAAEBQQAAAAAAAQFBAAAAAAABAUEAAAAAAAEBQQAAAAAAAQFBAAAAAAABAUEAAAAAAAEBQQAAAAAAAQFBAAAAAAABAUEAAAAAAAEBQQAAAAAAAQFBAAAAAAABAUEAAAAAAAEBQQAAAAAAAQFBAAAAAAABAUEAAAAAAAGBQQAAAAAAAYFBAAAAAAABgUEAAAAAAAGBQQAAAAAAAYFBAAAAAAABgUEAAAAAAAGBQQAAAAAAAYFBAAAAAAABgUEAAAAAAAABQQAAAAAAAAFBAAAAAAAAAUEAAAAAAAABQQAAAAAAAAFBAAAAAAAAAUEAAAAAAAABQQAAAAAAAAFBAAAAAAAAAUEAAAAAAAABQQAAAAAAAAFBAAAAAAAAAUEAAAAAAAABQQAAAAAAAAFBAAAAAAAAAUEAAAAAAAABQQAAAAAAAAFBAAAAAAAAAT0AAAAAAAABPQAAAAAAAAE9AAAAAAABAT0AAAAAAAEBPQAAAAAAAIFFAAAAAAAAgUUAAAAAAACBRQAAAAAAAIFFAAAAAAAAgUUAAAAAAACBRQAAAAAAAIFFAAAAAAAAgUUA=\",\"dtype\":\"float64\",\"shape\":[898]},\"Gender\":[\"M\",\"F\",\"F\",\"F\",\"M\",\"M\",\"F\",\"F\",\"M\",\"F\",\"M\",\"M\",\"F\",\"F\",\"F\",\"M\",\"M\",\"M\",\"F\",\"F\",\"F\",\"F\",\"M\",\"M\",\"M\",\"M\",\"F\",\"F\",\"F\",\"F\",\"F\",\"F\",\"F\",\"M\",\"M\",\"F\",\"F\",\"F\",\"F\",\"F\",\"F\",\"F\",\"M\",\"M\",\"M\",\"M\",\"F\",\"M\",\"M\",\"M\",\"M\",\"M\",\"F\",\"F\",\"F\",\"F\",\"M\",\"M\",\"M\",\"M\",\"F\",\"F\",\"F\",\"F\",\"F\",\"F\",\"M\",\"M\",\"M\",\"F\",\"F\",\"F\",\"F\",\"F\",\"M\",\"F\",\"F\",\"M\",\"M\",\"F\",\"M\",\"M\",\"M\",\"F\",\"F\",\"F\",\"F\",\"F\",\"F\",\"F\",\"M\",\"M\",\"M\",\"F\",\"F\",\"M\",\"M\",\"F\",\"M\",\"M\",\"F\",\"F\",\"F\",\"F\",\"F\",\"F\",\"F\",\"F\",\"M\",\"M\",\"M\",\"F\",\"F\",\"F\",\"M\",\"M\",\"M\",\"F\",\"F\",\"M\",\"M\",\"M\",\"M\",\"F\",\"F\",\"M\",\"M\",\"M\",\"M\",\"F\",\"M\",\"M\",\"M\",\"F\",\"M\",\"F\",\"F\",\"F\",\"M\",\"M\",\"M\",\"F\",\"F\",\"F\",\"M\",\"F\",\"M\",\"M\",\"M\",\"M\",\"F\",\"M\",\"M\",\"M\",\"M\",\"M\",\"F\",\"F\",\"M\",\"F\",\"M\",\"M\",\"M\",\"M\",\"F\",\"F\",\"F\",\"F\",\"F\",\"F\",\"F\",\"F\",\"F\",\"M\",\"M\",\"M\",\"F\",\"M\",\"M\",\"M\",\"M\",\"M\",\"M\",\"F\",\"F\",\"F\",\"F\",\"F\",\"F\",\"M\",\"M\",\"F\",\"F\",\"F\",\"M\",\"M\",\"M\",\"M\",\"F\",\"F\",\"F\",\"F\",\"F\",\"M\",\"M\",\"M\",\"F\",\"M\",\"M\",\"F\",\"F\",\"F\",\"M\",\"M\",\"M\",\"F\",\"F\",\"M\",\"F\",\"F\",\"F\",\"F\",\"M\",\"M\",\"M\",\"M\",\"M\",\"F\",\"F\",\"F\",\"M\",\"M\",\"M\",\"M\",\"M\",\"F\",\"M\",\"M\",\"F\",\"F\",\"F\",\"F\",\"M\",\"M\",\"M\",\"F\",\"F\",\"F\",\"F\",\"M\",\"M\",\"M\",\"M\",\"F\",\"F\",\"F\",\"F\",\"F\",\"F\",\"F\",\"M\",\"M\",\"M\",\"M\",\"F\",\"F\",\"F\",\"F\",\"F\",\"M\",\"M\",\"M\",\"M\",\"M\",\"F\",\"F\",\"F\",\"M\",\"M\",\"F\",\"F\",\"F\",\"M\",\"M\",\"F\",\"F\",\"F\",\"F\",\"M\",\"M\",\"M\",\"F\",\"F\",\"F\",\"F\",\"M\",\"M\",\"F\",\"M\",\"M\",\"M\",\"M\",\"M\",\"F\",\"F\",\"F\",\"F\",\"M\",\"M\",\"M\",\"M\",\"M\",\"M\",\"F\",\"M\",\"M\",\"M\",\"F\",\"M\",\"M\",\"F\",\"F\",\"F\",\"M\",\"M\",\"M\",\"M\",\"M\",\"M\",\"F\",\"F\",\"F\",\"M\",\"F\",\"F\",\"F\",\"M\",\"M\",\"M\",\"M\",\"M\",\"M\",\"F\",\"F\",\"F\",\"M\",\"M\",\"M\",\"F\",\"F\",\"F\",\"F\",\"F\",\"M\",\"M\",\"M\",\"F\",\"F\",\"M\",\"M\",\"F\",\"F\",\"M\",\"M\",\"F\",\"F\",\"M\",\"M\",\"F\",\"F\",\"M\",\"M\",\"M\",\"M\",\"M\",\"F\",\"F\",\"F\",\"M\",\"M\",\"M\",\"M\",\"F\",\"F\",\"F\",\"M\",\"M\",\"F\",\"M\",\"M\",\"M\",\"M\",\"F\",\"F\",\"F\",\"F\",\"M\",\"M\",\"F\",\"M\",\"M\",\"F\",\"F\",\"F\",\"M\",\"M\",\"M\",\"F\",\"F\",\"F\",\"F\",\"F\",\"F\",\"F\",\"F\",\"M\",\"M\",\"M\",\"M\",\"F\",\"F\",\"F\",\"F\",\"M\",\"M\",\"M\",\"M\",\"M\",\"M\",\"M\",\"M\",\"M\",\"M\",\"M\",\"M\",\"F\",\"F\",\"F\",\"M\",\"M\",\"M\",\"M\",\"F\",\"M\",\"M\",\"F\",\"F\",\"M\",\"F\",\"F\",\"F\",\"F\",\"F\",\"M\",\"M\",\"M\",\"M\",\"F\",\"F\",\"F\",\"M\",\"M\",\"M\",\"M\",\"F\",\"F\",\"F\",\"F\",\"F\",\"M\",\"M\",\"M\",\"F\",\"F\",\"F\",\"F\",\"M\",\"M\",\"M\",\"F\",\"F\",\"F\",\"F\",\"M\",\"M\",\"F\",\"F\",\"M\",\"F\",\"F\",\"M\",\"M\",\"M\",\"M\",\"M\",\"F\",\"F\",\"M\",\"M\",\"M\",\"F\",\"F\",\"F\",\"F\",\"M\",\"F\",\"F\",\"F\",\"M\",\"M\",\"M\",\"M\",\"M\",\"M\",\"M\",\"F\",\"M\",\"M\",\"M\",\"M\",\"F\",\"F\",\"F\",\"F\",\"M\",\"M\",\"F\",\"F\",\"M\",\"M\",\"M\",\"F\",\"F\",\"M\",\"M\",\"M\",\"M\",\"M\",\"M\",\"F\",\"F\",\"F\",\"M\",\"F\",\"F\",\"M\",\"M\",\"F\",\"F\",\"M\",\"M\",\"F\",\"M\",\"M\",\"F\",\"M\",\"M\",\"M\",\"M\",\"M\",\"M\",\"M\",\"M\",\"M\",\"F\",\"M\",\"M\",\"M\",\"F\",\"M\",\"M\",\"M\",\"M\",\"F\",\"F\",\"F\",\"M\",\"M\",\"F\",\"F\",\"M\",\"M\",\"M\",\"M\",\"F\",\"F\",\"F\",\"F\",\"M\",\"M\",\"M\",\"M\",\"F\",\"F\",\"F\",\"F\",\"F\",\"F\",\"M\",\"M\",\"F\",\"F\",\"M\",\"M\",\"M\",\"M\",\"F\",\"F\",\"M\",\"M\",\"M\",\"F\",\"F\",\"F\",\"F\",\"F\",\"F\",\"F\",\"M\",\"M\",\"M\",\"M\",\"M\",\"F\",\"F\",\"F\",\"M\",\"M\",\"M\",\"F\",\"M\",\"M\",\"M\",\"F\",\"F\",\"M\",\"M\",\"M\",\"M\",\"M\",\"F\",\"F\",\"F\",\"M\",\"M\",\"M\",\"F\",\"F\",\"F\",\"M\",\"M\",\"M\",\"M\",\"M\",\"M\",\"F\",\"M\",\"M\",\"F\",\"M\",\"M\",\"M\",\"M\",\"F\",\"F\",\"M\",\"M\",\"F\",\"F\",\"F\",\"F\",\"F\",\"F\",\"M\",\"M\",\"M\",\"F\",\"M\",\"M\",\"M\",\"M\",\"M\",\"M\",\"M\",\"F\",\"F\",\"F\",\"F\",\"M\",\"M\",\"M\",\"F\",\"F\",\"M\",\"M\",\"M\",\"F\",\"F\",\"F\",\"F\",\"M\",\"M\",\"F\",\"F\",\"F\",\"M\",\"M\",\"F\",\"F\",\"M\",\"F\",\"F\",\"M\",\"M\",\"F\",\"F\",\"F\",\"F\",\"F\",\"F\",\"F\",\"F\",\"F\",\"M\",\"M\",\"M\",\"M\",\"M\",\"M\",\"M\",\"M\",\"M\",\"M\",\"M\",\"F\",\"M\",\"M\",\"F\",\"M\",\"M\",\"M\",\"M\",\"F\",\"M\",\"M\",\"M\",\"M\",\"M\",\"M\",\"F\",\"F\",\"F\",\"M\",\"M\",\"M\",\"F\",\"F\",\"F\",\"F\",\"F\",\"F\",\"M\",\"M\",\"F\",\"F\",\"F\",\"M\",\"M\",\"F\",\"F\",\"F\",\"F\",\"M\",\"M\",\"M\",\"M\",\"F\",\"F\",\"F\",\"F\",\"M\",\"M\",\"M\",\"F\",\"F\",\"M\",\"F\",\"F\",\"M\",\"M\",\"M\",\"F\",\"F\",\"F\",\"M\",\"M\",\"F\",\"F\",\"F\",\"F\",\"F\",\"M\",\"M\",\"M\",\"M\",\"F\",\"M\",\"M\",\"M\",\"M\",\"M\",\"M\",\"M\",\"M\",\"F\",\"F\",\"F\",\"F\",\"F\",\"F\",\"F\",\"F\",\"M\",\"M\",\"M\",\"F\",\"F\",\"M\",\"F\",\"F\",\"F\",\"M\",\"M\",\"M\",\"F\",\"F\",\"F\",\"F\",\"F\",\"F\",\"M\",\"F\",\"M\",\"M\",\"M\",\"M\",\"F\",\"F\",\"M\",\"M\",\"F\",\"F\",\"F\",\"F\",\"M\",\"F\",\"M\",\"M\",\"F\",\"M\",\"M\",\"M\",\"F\",\"M\",\"M\",\"M\",\"M\",\"F\",\"M\",\"M\",\"F\",\"F\",\"F\",\"F\",\"F\",\"M\",\"M\",\"F\",\"F\",\"F\",\"F\",\"F\",\"M\",\"M\",\"F\",\"M\",\"F\",\"F\",\"M\",\"F\",\"M\",\"M\",\"M\",\"M\",\"M\",\"F\",\"F\",\"F\"],\"Height\":{\"__ndarray__\":\"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\",\"dtype\":\"float64\",\"shape\":[898]},\"Kids\":[4,4,4,4,4,4,4,4,2,2,5,5,5,5,5,6,6,6,6,6,6,1,6,6,6,6,6,6,3,3,3,1,1,8,8,8,8,8,8,8,8,1,2,2,3,3,3,9,9,9,9,9,9,9,9,9,6,6,6,6,6,6,3,3,3,1,8,8,8,8,8,8,8,8,3,3,3,3,3,3,7,7,7,7,7,7,7,1,2,2,5,5,5,5,5,3,3,3,6,6,6,6,6,6,3,3,3,1,6,6,6,6,6,6,5,5,5,5,5,5,5,5,5,5,1,5,5,5,5,5,4,4,4,4,4,4,4,4,6,6,6,6,6,6,2,2,5,5,5,5,5,1,6,6,6,6,6,6,2,2,2,2,3,3,3,8,8,8,8,8,8,8,8,4,4,4,4,3,3,3,7,7,7,7,7,7,7,2,2,5,5,5,5,5,9,9,9,9,9,9,9,9,9,4,4,4,4,5,5,5,5,5,5,5,5,5,5,5,5,5,5,5,7,7,7,7,7,7,7,1,2,2,4,4,4,4,6,6,6,6,6,6,1,5,5,5,5,5,1,11,11,11,11,11,11,11,11,11,11,11,4,4,4,4,5,5,5,5,5,8,8,8,8,8,8,8,8,5,5,5,5,5,6,6,6,6,6,6,7,7,7,7,7,7,7,3,3,3,2,2,7,7,7,7,7,7,7,7,7,7,7,7,7,7,4,4,4,4,5,5,5,5,5,8,8,8,8,8,8,8,8,1,4,4,4,4,9,9,9,9,9,9,9,9,9,8,8,8,8,8,8,8,8,5,5,5,5,5,4,4,4,4,4,4,4,4,4,4,4,4,8,8,8,8,8,8,8,8,7,7,7,7,7,7,7,3,3,3,2,2,4,4,4,4,2,2,3,3,3,5,5,5,5,5,10,10,10,10,10,10,10,10,10,10,1,8,8,8,8,8,8,8,8,3,3,3,6,6,6,6,6,6,6,6,6,6,6,6,5,5,5,5,5,4,4,4,4,6,6,6,6,6,6,7,7,7,7,7,7,7,9,9,9,9,9,9,9,9,9,7,7,7,7,7,7,7,7,7,7,7,7,7,7,4,4,4,4,3,3,3,1,6,6,6,6,6,6,7,7,7,7,7,7,7,3,3,3,1,3,3,3,5,5,5,5,5,8,8,8,8,8,8,8,8,4,4,4,4,5,5,5,5,5,9,9,9,9,9,9,9,9,9,3,3,3,4,4,4,4,1,2,2,3,3,3,11,11,11,11,11,11,11,11,11,11,2,2,2,2,7,7,7,7,7,7,7,4,4,4,4,8,8,8,8,8,8,8,8,10,10,10,10,10,10,10,10,10,10,4,4,4,4,5,5,5,5,5,1,10,10,10,10,10,10,10,10,10,10,8,8,8,8,8,8,8,8,4,4,4,4,1,4,4,4,4,8,8,8,8,8,8,8,8,6,6,6,6,6,6,1,1,5,5,5,5,5,1,2,2,1,5,5,5,5,5,1,7,7,7,7,7,7,7,4,4,4,4,1,10,10,10,10,10,10,10,10,10,10,5,5,5,5,5,1,6,6,6,6,6,6,5,5,5,5,5,4,4,4,4,3,3,3,11,11,11,11,11,11,11,11,11,11,11,4,4,4,4,8,8,8,8,8,8,8,8,3,3,3,5,5,5,5,5,1,8,8,8,8,8,8,8,8,9,9,9,9,9,9,9,9,9,5,5,5,5,5,6,6,6,6,6,6,8,8,8,8,8,8,8,8,5,5,5,5,5,1,2,2,6,6,6,6,6,6,7,7,7,7,7,7,7,1,4,4,4,4,1,15,15,15,15,15,15,15,15,15,15,15,15,15,15,15,4,4,4,4,1,4,4,4,4,9,9,9,9,9,9,9,9,9,2,2,6,6,6,6,6,6,6,6,6,6,6,6,2,2,3,3,3,4,4,4,4,5,5,5,5,5,7,7,7,7,7,7,7,7,7,7,7,7,7,7,1,2,2,3,3,3,2,2,8,8,8,8,8,8,8,8],\"Mother\":{\"__ndarray__\":\"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\",\"dtype\":\"float64\",\"shape\":[898]},\"index\":[0,1,2,3,4,5,6,7,8,9,10,11,12,13,14,15,16,17,18,19,20,21,22,23,24,25,26,27,28,29,30,31,32,33,34,35,36,37,38,39,40,41,42,43,44,45,46,47,48,49,50,51,52,53,54,55,56,57,58,59,60,61,62,63,64,65,66,67,68,69,70,71,72,73,74,75,76,77,78,79,80,81,82,83,84,85,86,87,88,89,90,91,92,93,94,95,96,97,98,99,100,101,102,103,104,105,106,107,108,109,110,111,112,113,114,115,116,117,118,119,120,121,122,123,124,125,126,127,128,129,130,131,132,133,134,135,136,137,138,139,140,141,142,143,144,145,146,147,148,149,150,151,152,153,154,155,156,157,158,159,160,161,162,163,164,165,166,167,168,169,170,171,172,173,174,175,176,177,178,179,180,181,182,183,184,185,186,187,188,189,190,191,192,193,194,195,196,197,198,199,200,201,202,203,204,205,206,207,208,209,210,211,212,213,214,215,216,217,218,219,220,221,222,223,224,225,226,227,228,229,230,231,232,233,234,235,236,237,238,239,240,241,242,243,244,245,246,247,248,249,250,251,252,253,254,255,256,257,258,259,260,261,262,263,264,265,266,267,268,269,270,271,272,273,274,275,276,277,278,279,280,281,282,283,284,285,286,287,288,289,290,291,292,293,294,295,296,297,298,299,300,301,302,303,304,305,306,307,308,309,310,311,312,313,314,315,316,317,318,319,320,321,322,323,324,325,326,327,328,329,330,331,332,333,334,335,336,337,338,339,340,341,342,343,344,345,346,347,348,349,350,351,352,353,354,355,356,357,358,359,360,361,362,363,364,365,366,367,368,369,370,371,372,373,374,375,376,377,378,379,380,381,382,383,384,385,386,387,388,389,390,391,392,393,394,395,396,397,398,399,400,401,402,403,404,405,406,407,408,409,410,411,412,413,414,415,416,417,418,419,420,421,422,423,424,425,426,427,428,429,430,431,432,433,434,435,436,437,438,439,440,441,442,443,444,445,446,447,448,449,450,451,452,453,454,455,456,457,458,459,460,461,462,463,464,465,466,467,468,469,470,471,472,473,474,475,476,477,478,479,480,481,482,483,484,485,486,487,488,489,490,491,492,493,494,495,496,497,498,499,500,501,502,503,504,505,506,507,508,509,510,511,512,513,514,515,516,517,518,519,520,521,522,523,524,525,526,527,528,529,530,531,532,533,534,535,536,537,538,539,540,541,542,543,544,545,546,547,548,549,550,551,552,553,554,555,556,557,558,559,560,561,562,563,564,565,566,567,568,569,570,571,572,573,574,575,576,577,578,579,580,581,582,583,584,585,586,587,588,589,590,591,592,593,594,595,596,597,598,599,600,601,602,603,604,605,606,607,608,609,610,611,612,613,614,615,616,617,618,619,620,621,622,623,624,625,626,627,628,629,630,631,632,633,634,635,636,637,638,639,640,641,642,643,644,645,646,647,648,649,650,651,652,653,654,655,656,657,658,659,660,661,662,663,664,665,666,667,668,669,670,671,672,673,674,675,676,677,678,679,680,681,682,683,684,685,686,687,688,689,690,691,692,693,694,695,696,697,698,699,700,701,702,703,704,705,706,707,708,709,710,711,712,713,714,715,716,717,718,719,720,721,722,723,724,725,726,727,728,729,730,731,732,733,734,735,736,737,738,739,740,741,742,743,744,745,746,747,748,749,750,751,752,753,754,755,756,757,758,759,760,761,762,763,764,765,766,767,768,769,770,771,772,773,774,775,776,777,778,779,780,781,782,783,784,785,786,787,788,789,790,791,792,793,794,795,796,797,798,799,800,801,802,803,804,805,806,807,808,809,810,811,812,813,814,815,816,817,818,819,820,821,822,823,824,825,826,827,828,829,830,831,832,833,834,835,836,837,838,839,840,841,842,843,844,845,846,847,848,849,850,851,852,853,854,855,856,857,858,859,860,861,862,863,864,865,866,867,868,869,870,871,872,873,874,875,876,877,878,879,880,881,882,883,884,885,886,887,888,889,890,891,892,893,894,895,896,897]},\"selected\":{\"id\":\"0af422b3-dee5-4c75-b113-88e664c20a8f\",\"type\":\"Selection\"},\"selection_policy\":{\"id\":\"a92dbeea-bdfe-489e-812b-2bf938bc36b5\",\"type\":\"UnionRenderers\"}},\"id\":\"b88f498e-b2ea-45d1-85de-3f98469d1805\",\"type\":\"ColumnDataSource\"},{\"attributes\":{\"active_drag\":\"auto\",\"active_inspect\":\"auto\",\"active_scroll\":\"auto\",\"active_tap\":\"auto\",\"tools\":[{\"id\":\"9cc5db51-2099-497c-bb60-605f0aaa4963\",\"type\":\"HoverTool\"},{\"id\":\"0c364c86-1d3d-40cf-8d33-ebbb18518328\",\"type\":\"CrosshairTool\"},{\"id\":\"62876229-2910-46f9-b724-2c944535bc7c\",\"type\":\"BoxSelectTool\"},{\"id\":\"d4d985a7-73a2-4367-8fb5-91723b41b091\",\"type\":\"LassoSelectTool\"},{\"id\":\"00bf5765-e8ec-40fb-8ed7-2d25d090922b\",\"type\":\"PanTool\"},{\"id\":\"8c76795a-546b-4cc5-9148-02cda607c495\",\"type\":\"BoxZoomTool\"}]},\"id\":\"5ff568d9-a258-4de6-aa12-99658e9e5287\",\"type\":\"Toolbar\"},{\"attributes\":{\"children\":[{\"id\":\"615011e1-63d3-465d-ab12-f322135033ff\",\"type\":\"Row\"},{\"id\":\"db3f6a28-c8b9-49a9-a23e-11927cbce110\",\"type\":\"Row\"}]},\"id\":\"1d7e41d3-8f9b-4e53-8957-513ae97f7767\",\"type\":\"Column\"},{\"attributes\":{\"callback\":null},\"id\":\"5f493db4-83cf-4f32-8bad-e396a1a82790\",\"type\":\"DataRange1d\"},{\"attributes\":{\"children\":[{\"id\":\"b20dc4eb-db5c-4f30-80c4-f22f664c2ea1\",\"type\":\"Slider\"}]},\"id\":\"fca77ce8-de33-477f-8696-282b83a1898c\",\"type\":\"WidgetBox\"},{\"attributes\":{\"bottom_units\":\"screen\",\"fill_alpha\":{\"value\":0.5},\"fill_color\":{\"value\":\"lightgrey\"},\"left_units\":\"screen\",\"level\":\"overlay\",\"line_alpha\":{\"value\":1.0},\"line_color\":{\"value\":\"black\"},\"line_dash\":[4,4],\"line_width\":{\"value\":2},\"plot\":null,\"render_mode\":\"css\",\"right_units\":\"screen\",\"top_units\":\"screen\"},\"id\":\"17f4e4b6-0c37-4973-a606-852b9b659db1\",\"type\":\"BoxAnnotation\"},{\"attributes\":{\"children\":[{\"id\":\"2be36980-d229-485e-8948-9138dc50a0e4\",\"type\":\"Slider\"}]},\"id\":\"15143ecd-b385-41c0-bec8-78c5bb89b434\",\"type\":\"WidgetBox\"},{\"attributes\":{},\"id\":\"a0589a20-b42a-49c2-907d-5c290b521200\",\"type\":\"LinearScale\"},{\"attributes\":{\"callback\":null},\"id\":\"933240de-e19a-469d-b267-ab8744b3d8ed\",\"type\":\"DataRange1d\"},{\"attributes\":{},\"id\":\"dcdd82b8-eed8-46e8-a71e-02a2cbca3d7a\",\"type\":\"LinearScale\"},{\"attributes\":{\"source\":{\"id\":\"b88f498e-b2ea-45d1-85de-3f98469d1805\",\"type\":\"ColumnDataSource\"}},\"id\":\"ce077006-7f1d-43b7-8c0f-806e2fbe06c0\",\"type\":\"CDSView\"},{\"attributes\":{\"axis_label\":\"Father\",\"formatter\":{\"id\":\"30385fd8-12ea-4f13-b0ca-395c55454c71\",\"type\":\"BasicTickFormatter\"},\"plot\":{\"id\":\"f816982a-2025-4ea2-bf8d-1520498e0e8c\",\"subtype\":\"Figure\",\"type\":\"Plot\"},\"ticker\":{\"id\":\"31048e4b-4fd8-4be6-886f-19e6bff14087\",\"type\":\"BasicTicker\"}},\"id\":\"d92cf2f6-52a2-4f36-9128-8de995c4f288\",\"type\":\"LinearAxis\"},{\"attributes\":{\"callback\":null,\"data\":{\"x\":[-1.0],\"y\":[9410.13272960428]},\"selected\":{\"id\":\"78907015-1680-4f9f-a662-ae6667751c72\",\"type\":\"Selection\"},\"selection_policy\":{\"id\":\"30f186a9-1a6d-4d98-b83a-885c898dc79c\",\"type\":\"UnionRenderers\"}},\"id\":\"f85704ca-daf4-462d-989a-62332b7fadb1\",\"type\":\"ColumnDataSource\"},{\"attributes\":{\"below\":[{\"id\":\"963856f3-0d5a-4573-be16-b98ae8095c31\",\"type\":\"LinearAxis\"}],\"left\":[{\"id\":\"568c439f-4c0e-4f73-88a5-6a58426c0c61\",\"type\":\"LinearAxis\"}],\"plot_height\":300,\"plot_width\":300,\"renderers\":[{\"id\":\"963856f3-0d5a-4573-be16-b98ae8095c31\",\"type\":\"LinearAxis\"},{\"id\":\"03379363-60ce-4e73-a82c-9036d187081c\",\"type\":\"Grid\"},{\"id\":\"568c439f-4c0e-4f73-88a5-6a58426c0c61\",\"type\":\"LinearAxis\"},{\"id\":\"b22200b1-cf59-4117-bf7e-2033caab1e30\",\"type\":\"Grid\"},{\"id\":\"39796695-dbbc-46e0-a7e9-10b25e6734fa\",\"type\":\"BoxAnnotation\"},{\"id\":\"396219aa-682f-4521-837f-af7f69abab4f\",\"type\":\"PolyAnnotation\"},{\"id\":\"e2a7f7c2-cefe-48f4-a336-2276355eca05\",\"type\":\"BoxAnnotation\"},{\"id\":\"494c6699-9991-459e-8532-e2a8edf35f8c\",\"type\":\"GlyphRenderer\"},{\"id\":\"57d9433d-4077-418b-9f08-40b7285bbb04\",\"type\":\"GlyphRenderer\"}],\"title\":{\"id\":\"f048c2fd-993a-4b0d-8681-7e14edfb0b81\",\"type\":\"Title\"},\"toolbar\":{\"id\":\"ed839478-14b6-426b-aafd-d3ce1261da19\",\"type\":\"Toolbar\"},\"x_range\":{\"id\":\"1fff6fa3-88f1-40f9-8972-2106c42fd640\",\"type\":\"DataRange1d\"},\"x_scale\":{\"id\":\"afc2dbcf-b8fe-43ab-af4b-185e5af92a87\",\"type\":\"LinearScale\"},\"y_range\":{\"id\":\"19c53666-bfb0-4ceb-89cc-d9cc248a4179\",\"type\":\"DataRange1d\"},\"y_scale\":{\"id\":\"10af0893-c911-4ca1-8e0f-196ab3db9090\",\"type\":\"LinearScale\"}},\"id\":\"5defae3a-4476-4ee0-a532-27f53b5a9f1f\",\"subtype\":\"Figure\",\"type\":\"Plot\"},{\"attributes\":{},\"id\":\"31048e4b-4fd8-4be6-886f-19e6bff14087\",\"type\":\"BasicTicker\"},{\"attributes\":{\"plot\":{\"id\":\"f816982a-2025-4ea2-bf8d-1520498e0e8c\",\"subtype\":\"Figure\",\"type\":\"Plot\"},\"ticker\":{\"id\":\"31048e4b-4fd8-4be6-886f-19e6bff14087\",\"type\":\"BasicTicker\"}},\"id\":\"c94cec13-949f-46ee-9ec1-3d8f657f61ac\",\"type\":\"Grid\"},{\"attributes\":{\"callback\":null,\"data\":{\"x\":{\"__ndarray__\":\"AAAAAAAA8L9ulC+cThjvv9soXzidMO6/Sb2O1OtI7b+3Ub5wOmHsvyTm7QyJeeu/knodqdeR6r8AD01FJqrpv22jfOF0wui/2zesfcPa579IzNsZEvPmv7ZgC7ZgC+a/JPU6Uq8j5b+SiWru/Tvkv/8dmopMVOO/bbLJJpts4r/aRvnC6YThv0jbKF84neC/bN+w9g1r379GCBAvq5vdvyIxb2dIzNu//lnOn+X82b/Ygi3Ygi3Yv7SrjBAgXta/kNTrSL2O1L9q/UqBWr/Sv0Ymqrn379C/RJ4S5ClBzr/479BUZKLKv7BBj8WeA8e/aJNNNtlkw784yhdOJ4y/v6htlC+cTri/GBERERERsb8AaRvlC6ejv4C/UqDWr4S/gBLkKUGekj9gwvjRNsqnP9C9f4emIrM/YBoDpjFguj94O0Ni3s7AP8DphPGjbcQ/CJjGgGkMyD9QRggQL6vLP6D0SZ/0Sc8/dNFFF1100T+YqObev0PTP7x/h6YiE9U/4FYoboXi1j8ELsk16LHYPywFav1Kgdo/UNwKxa1Q3D90s6uMECDeP5iKTFRz798/3rD2DWvf4D9wHMdxHMfhPwSIl9XNruI/lvNnOX+W4z8oXzidMH7kP7rKCAHiZeU/TDbZZJNN5j/eoanIRDXnP3INeiz2HOg/BHlKkKcE6T+W5Br0WOzpPyhQ61cK1Oo/uru7u7u76z9OJ4wfbaPsP+CSXIMei+0/cv4s589y7j8Eav1KgVrvP8zqZlcZIfA/lCBPCfKU8D9eVje7ygjxPyaMH22jfPE/8MEHH3zw8T+69+/QVGTyP4It2IIt2PI/TGPANAZM8z8Umajm3r/zP97OkJi3M/Q/pgR5SpCn9D9wOmH8aBv1PzpwSa5Bj/U/AqYxYBoD9j/M2xkS83b2P5QRAsTL6vY/XkfqdaRe9z8ofdInfdL3P/CyutlVRvg/uuiiiy66+D+CHos9By75P0xUc+/fofk/FIpbobgV+j/ev0NTkYn6P6j1KwVq/fo/cCsUt0Jx+z86YfxoG+X7PwKX5Br0WPw/zczMzMzM/D8=\",\"dtype\":\"float64\",\"shape\":[100]},\"y\":[9410.13272960428,9034.07530368887,8665.695947089871,8304.994659807286,7951.971441841113,7606.626293191351,7268.959213858003,6938.970203841067,6616.659263140541,6302.026391756428,5995.071589688728,5695.79485693744,5404.196193502565,5120.275599384102,4844.033074582049,4575.468619096411,4314.582232927182,4061.373916074369,3815.843668537966,3577.991490317975,3347.817381414397,3125.3213418272317,2910.5033715564773,2703.3634706021367,2503.9016389642065,2312.117876642689,2128.0121836375843,1951.5845599488919,1782.8350055766102,1621.7635205207423,1468.370104781286,1322.6547583582417,1184.61748125161,1054.2582734613904,931.5771349875826,816.5740658301875,709.2490659892043,609.6021354646335,517.6332742564742,433.3424823647278,356.7297597893935,287.7951065304714,226.53852258796152,172.96000796186374,127.05956265217779,88.83718665890447,58.29287998204329,35.42664262159428,20.238474577557454,12.728375849932785,12.896346438720329,20.742386343920074,36.266495565532004,59.46867410355608,90.34892195799233,128.90723912884076,175.14362561610153,229.0580814197746,290.65060653985955,359.9212009763568,436.86986472926606,521.4965977985876,613.801400184322,713.7842718864678,821.4452129050261,936.7842232399962,1059.8013028913788,1190.4964518591742,1328.869670143381,1474.9209577440001,1628.6503146610307,1790.0577408944757,1959.1432364443301,2135.9068013105993,2320.348435493278,2512.4681389923717,2712.265911807877,2919.7417539397916,3134.895665388123,3357.7276461528613,3588.2376962340163,3826.4258156315796,4072.2920043455583,4325.83626237595,4587.058589722749,4855.958986385966,5132.537452365589,5416.793987661629,5708.728592274083,6008.341266202942,6315.63200944822,6630.600822009905,6953.247703888007,7283.572655082515,7621.575675593441,7967.25676542078,8320.615924564525,8681.653153024688,9050.368450801256,9426.761817894247]},\"selected\":{\"id\":\"353c7699-6271-491b-ab6d-a4ede46c7a7f\",\"type\":\"Selection\"},\"selection_policy\":{\"id\":\"b2d508c5-e7c6-4785-923d-122942e5b8bf\",\"type\":\"UnionRenderers\"}},\"id\":\"7d00371a-a21d-42a5-ac65-3a221ea7e3e0\",\"type\":\"ColumnDataSource\"},{\"attributes\":{\"axis_label\":\"Child\",\"formatter\":{\"id\":\"23b38dd6-8c12-47f7-9525-4603e19347c0\",\"type\":\"BasicTickFormatter\"},\"plot\":{\"id\":\"f816982a-2025-4ea2-bf8d-1520498e0e8c\",\"subtype\":\"Figure\",\"type\":\"Plot\"},\"ticker\":{\"id\":\"e2940cc7-ae9a-4601-80cc-911408a9233c\",\"type\":\"BasicTicker\"}},\"id\":\"9b2194bd-15bb-439b-ac38-1bc3638f304f\",\"type\":\"LinearAxis\"},{\"attributes\":{\"callback\":null,\"end\":1.8,\"js_property_callbacks\":{\"change:value\":[{\"id\":\"df8dc41c-7e8b-42f2-81df-d5a9e108227a\",\"type\":\"CustomJS\"}]},\"start\":-1,\"step\":0.02828282828282828,\"title\":\"slope\",\"value\":1.6},\"id\":\"b20dc4eb-db5c-4f30-80c4-f22f664c2ea1\",\"type\":\"Slider\"},{\"attributes\":{\"active_drag\":\"auto\",\"active_inspect\":\"auto\",\"active_scroll\":\"auto\",\"active_tap\":\"auto\",\"tools\":[{\"id\":\"9cc5db51-2099-497c-bb60-605f0aaa4963\",\"type\":\"HoverTool\"},{\"id\":\"47f6d1ec-d953-4ed1-8710-5ddab71157bf\",\"type\":\"CrosshairTool\"},{\"id\":\"68a4caaf-3c3d-4f1c-a26a-6eddc745999c\",\"type\":\"BoxSelectTool\"},{\"id\":\"80fa037b-5f08-4a63-9b16-b9f702f192fe\",\"type\":\"LassoSelectTool\"},{\"id\":\"f7a5945d-e9ef-4df5-ad46-c6af6894629f\",\"type\":\"PanTool\"},{\"id\":\"eb90823d-852c-4168-9952-5dcb15092853\",\"type\":\"BoxZoomTool\"}]},\"id\":\"ed839478-14b6-426b-aafd-d3ce1261da19\",\"type\":\"Toolbar\"},{\"attributes\":{\"callback\":null},\"id\":\"1fff6fa3-88f1-40f9-8972-2106c42fd640\",\"type\":\"DataRange1d\"},{\"attributes\":{},\"id\":\"e2940cc7-ae9a-4601-80cc-911408a9233c\",\"type\":\"BasicTicker\"},{\"attributes\":{\"dimension\":1,\"plot\":{\"id\":\"f816982a-2025-4ea2-bf8d-1520498e0e8c\",\"subtype\":\"Figure\",\"type\":\"Plot\"},\"ticker\":{\"id\":\"e2940cc7-ae9a-4601-80cc-911408a9233c\",\"type\":\"BasicTicker\"}},\"id\":\"11ad29e5-d4d7-4cbe-92d4-efa5a57fb70c\",\"type\":\"Grid\"},{\"attributes\":{\"callback\":null,\"overlay\":{\"id\":\"17f4e4b6-0c37-4973-a606-852b9b659db1\",\"type\":\"BoxAnnotation\"}},\"id\":\"62876229-2910-46f9-b724-2c944535bc7c\",\"type\":\"BoxSelectTool\"},{\"attributes\":{\"callback\":null,\"end\":100,\"js_property_callbacks\":{\"change:value\":[{\"id\":\"616f844d-1aba-408a-8ef6-60a789305398\",\"type\":\"CustomJS\"}]},\"start\":0,\"title\":\"intercept\",\"value\":66},\"id\":\"2be36980-d229-485e-8948-9138dc50a0e4\",\"type\":\"Slider\"},{\"attributes\":{},\"id\":\"0c364c86-1d3d-40cf-8d33-ebbb18518328\",\"type\":\"CrosshairTool\"},{\"attributes\":{\"plot\":null,\"text\":\"\"},\"id\":\"8d59b889-5474-4868-a2cb-41150fd4aaa6\",\"type\":\"Title\"},{\"attributes\":{\"args\":{\"line\":{\"id\":\"eb36853d-885b-4900-8631-5e5a094d216d\",\"type\":\"ColumnDataSource\"},\"point\":{\"id\":\"f85704ca-daf4-462d-989a-62332b7fadb1\",\"type\":\"ColumnDataSource\"},\"source\":{\"id\":\"b88f498e-b2ea-45d1-85de-3f98469d1805\",\"type\":\"ColumnDataSource\"}},\"code\":\"\\n    var line_data = line.data;\\n    var source_data = source.data;\\n    var point_data = point.data;\\n    var new_i = cb_obj.value\\n    \\n    var x = line_data['x']\\n    var y = line_data['y']\\n    var i = line_data['i']\\n    var s = line_data['s']\\n    var p1 = point_data['x']\\n    var p2 = point_data['y']\\n    \\n    for (var j = 0; j < x.length; j++) {\\n        i[j] = new_i\\n        y[j] = x[j] * s[j] + new_i\\n    }\\n    \\n    father = source_data['Father'];    \\n    y_pred = [];\\n    for (var j = 0; j < father.length; j++) {\\n        y_pred[j] = father[j] * s[0] + new_i\\n    }\\n    \\n    var sum = 0;\\n    child = source_data['Height'];\\n    for (var j = 0; j < child.length; j++) {\\n        sum = sum + Math.pow((child[j] - y_pred[j]), 2);\\n    }\\n    \\n    for (var j = 0; j < p1.length; j++) {\\n        p1[j] = s[0]\\n        p2[j] = (sum / child.length)\\n    }\\n    \\n    line.change.emit();\\n    point.change.emit();\\n\"},\"id\":\"616f844d-1aba-408a-8ef6-60a789305398\",\"type\":\"CustomJS\"},{\"attributes\":{\"fill_color\":{\"field\":\"Gender\",\"transform\":{\"id\":\"48da5b9e-7596-4509-941e-e0cd9b58f55f\",\"type\":\"CategoricalColorMapper\"}},\"line_color\":{\"field\":\"Gender\",\"transform\":{\"id\":\"48da5b9e-7596-4509-941e-e0cd9b58f55f\",\"type\":\"CategoricalColorMapper\"}},\"x\":{\"field\":\"Father\"},\"y\":{\"field\":\"Height\"}},\"id\":\"0c964267-ca81-4bee-a2f6-848897156e6c\",\"type\":\"Circle\"},{\"attributes\":{\"callback\":null,\"overlay\":{\"id\":\"b7939163-73a0-4c65-81ff-57a7757ba954\",\"type\":\"PolyAnnotation\"}},\"id\":\"d4d985a7-73a2-4367-8fb5-91723b41b091\",\"type\":\"LassoSelectTool\"},{\"attributes\":{},\"id\":\"00bf5765-e8ec-40fb-8ed7-2d25d090922b\",\"type\":\"PanTool\"},{\"attributes\":{\"overlay\":{\"id\":\"433ec999-66d9-4d58-a871-bc7f200f3b80\",\"type\":\"BoxAnnotation\"}},\"id\":\"8c76795a-546b-4cc5-9148-02cda607c495\",\"type\":\"BoxZoomTool\"},{\"attributes\":{\"fill_alpha\":{\"value\":0.1},\"fill_color\":{\"value\":\"#1f77b4\"},\"line_alpha\":{\"value\":0.1},\"line_color\":{\"value\":\"#1f77b4\"},\"x\":{\"field\":\"Father\"},\"y\":{\"field\":\"Height\"}},\"id\":\"4ce91e45-ae1c-4f54-a95c-f4e94b529591\",\"type\":\"Circle\"},{\"attributes\":{\"fill_alpha\":{\"value\":0.5},\"fill_color\":{\"value\":\"lightgrey\"},\"level\":\"overlay\",\"line_alpha\":{\"value\":1.0},\"line_color\":{\"value\":\"black\"},\"line_dash\":[4,4],\"line_width\":{\"value\":2},\"plot\":null,\"xs_units\":\"screen\",\"ys_units\":\"screen\"},\"id\":\"b7939163-73a0-4c65-81ff-57a7757ba954\",\"type\":\"PolyAnnotation\"},{\"attributes\":{\"bottom_units\":\"screen\",\"fill_alpha\":{\"value\":0.5},\"fill_color\":{\"value\":\"lightgrey\"},\"left_units\":\"screen\",\"level\":\"overlay\",\"line_alpha\":{\"value\":1.0},\"line_color\":{\"value\":\"black\"},\"line_dash\":[4,4],\"line_width\":{\"value\":2},\"plot\":null,\"render_mode\":\"css\",\"right_units\":\"screen\",\"top_units\":\"screen\"},\"id\":\"433ec999-66d9-4d58-a871-bc7f200f3b80\",\"type\":\"BoxAnnotation\"},{\"attributes\":{\"data_source\":{\"id\":\"b88f498e-b2ea-45d1-85de-3f98469d1805\",\"type\":\"ColumnDataSource\"},\"glyph\":{\"id\":\"0c964267-ca81-4bee-a2f6-848897156e6c\",\"type\":\"Circle\"},\"hover_glyph\":{\"id\":\"7e412d7f-ed8a-4f8a-9496-54b310c100ad\",\"type\":\"Circle\"},\"muted_glyph\":null,\"nonselection_glyph\":{\"id\":\"4ce91e45-ae1c-4f54-a95c-f4e94b529591\",\"type\":\"Circle\"},\"selection_glyph\":null,\"view\":{\"id\":\"ce077006-7f1d-43b7-8c0f-806e2fbe06c0\",\"type\":\"CDSView\"}},\"id\":\"dbd3a6f9-39cd-4b2a-93d3-2be29f936fb6\",\"type\":\"GlyphRenderer\"},{\"attributes\":{\"fill_color\":{\"value\":\"red\"},\"line_color\":{\"value\":\"red\"},\"x\":{\"field\":\"Father\"},\"y\":{\"field\":\"Height\"}},\"id\":\"7e412d7f-ed8a-4f8a-9496-54b310c100ad\",\"type\":\"Circle\"},{\"attributes\":{},\"id\":\"23b38dd6-8c12-47f7-9525-4603e19347c0\",\"type\":\"BasicTickFormatter\"},{\"attributes\":{},\"id\":\"5d0fb855-a823-4a73-98ed-c281e6960888\",\"type\":\"UnionRenderers\"},{\"attributes\":{\"fill_color\":{\"value\":\"red\"},\"line_color\":{\"value\":\"red\"},\"size\":{\"units\":\"screen\",\"value\":5},\"x\":{\"field\":\"x\"},\"y\":{\"field\":\"y\"}},\"id\":\"1e3429e6-4892-40d0-bb94-f25c5c817085\",\"type\":\"Circle\"},{\"attributes\":{},\"id\":\"30385fd8-12ea-4f13-b0ca-395c55454c71\",\"type\":\"BasicTickFormatter\"},{\"attributes\":{\"line_color\":\"orange\",\"x\":{\"field\":\"x\"},\"y\":{\"field\":\"y\"}},\"id\":\"fe98f394-89db-459c-8dfc-8c28422fffaf\",\"type\":\"Line\"},{\"attributes\":{\"args\":{\"line\":{\"id\":\"eb36853d-885b-4900-8631-5e5a094d216d\",\"type\":\"ColumnDataSource\"},\"point\":{\"id\":\"f85704ca-daf4-462d-989a-62332b7fadb1\",\"type\":\"ColumnDataSource\"},\"source\":{\"id\":\"b88f498e-b2ea-45d1-85de-3f98469d1805\",\"type\":\"ColumnDataSource\"}},\"code\":\"\\n    var line_data = line.data;\\n    var source_data = source.data;\\n    var point_data = point.data;\\n    var new_s = cb_obj.value\\n    \\n    var x = line_data['x']\\n    var y = line_data['y']\\n    var i = line_data['i']\\n    var s = line_data['s']\\n    var p1 = point_data['x']\\n    var p2 = point_data['y']\\n    \\n    for (var j = 0; j < x.length; j++) {\\n        s[j] = new_s\\n        y[j] = x[j] * new_s + i[j]\\n    }\\n    \\n    father = source_data['Father'];    \\n    y_pred = [];\\n    for (var j = 0; j < father.length; j++) {\\n        y_pred[j] = father[j] * new_s + i[0]\\n    }\\n    \\n    var sum = 0;\\n    child = source_data['Height'];\\n    for (var j = 0; j < child.length; j++) {\\n        sum = sum + Math.pow((child[j] - y_pred[j]), 2);\\n    }\\n    \\n    for (var j = 0; j < p1.length; j++) {\\n        p1[j] = s[0]\\n        p2[j] = (sum / child.length)\\n    }\\n    \\n    line.change.emit();\\n    point.change.emit();\\n\"},\"id\":\"df8dc41c-7e8b-42f2-81df-d5a9e108227a\",\"type\":\"CustomJS\"},{\"attributes\":{\"line_alpha\":0.1,\"line_color\":\"#1f77b4\",\"x\":{\"field\":\"x\"},\"y\":{\"field\":\"y\"}},\"id\":\"a592a71c-9fbc-44ff-99b3-4e38b57278dd\",\"type\":\"Line\"},{\"attributes\":{\"data_source\":{\"id\":\"eb36853d-885b-4900-8631-5e5a094d216d\",\"type\":\"ColumnDataSource\"},\"glyph\":{\"id\":\"fe98f394-89db-459c-8dfc-8c28422fffaf\",\"type\":\"Line\"},\"hover_glyph\":null,\"muted_glyph\":null,\"nonselection_glyph\":{\"id\":\"a592a71c-9fbc-44ff-99b3-4e38b57278dd\",\"type\":\"Line\"},\"selection_glyph\":null,\"view\":{\"id\":\"479d4af6-3567-422d-9c59-d075d594821c\",\"type\":\"CDSView\"}},\"id\":\"f4103d34-3c26-4f9f-bf6b-122a57667800\",\"type\":\"GlyphRenderer\"},{\"attributes\":{\"source\":{\"id\":\"eb36853d-885b-4900-8631-5e5a094d216d\",\"type\":\"ColumnDataSource\"}},\"id\":\"479d4af6-3567-422d-9c59-d075d594821c\",\"type\":\"CDSView\"},{\"attributes\":{\"callback\":null},\"id\":\"19c53666-bfb0-4ceb-89cc-d9cc248a4179\",\"type\":\"DataRange1d\"},{\"attributes\":{\"callback\":null,\"data\":{\"i\":{\"__ndarray__\":\"6ZLnJyGOQ0DpkucnIY5DQA==\",\"dtype\":\"float64\",\"shape\":[2]},\"s\":{\"__ndarray__\":\"tNfqcHaP2T+01+pwdo/ZPw==\",\"dtype\":\"float64\",\"shape\":[2]},\"x\":[62.0,78.5],\"y\":[63.87202532278641,70.46181621011273]},\"selected\":{\"id\":\"ae004cc4-f8ec-4e8e-8ed5-b66dbe8e0e55\",\"type\":\"Selection\"},\"selection_policy\":{\"id\":\"5d0fb855-a823-4a73-98ed-c281e6960888\",\"type\":\"UnionRenderers\"}},\"id\":\"eb36853d-885b-4900-8631-5e5a094d216d\",\"type\":\"ColumnDataSource\"},{\"attributes\":{},\"id\":\"47f6d1ec-d953-4ed1-8710-5ddab71157bf\",\"type\":\"CrosshairTool\"},{\"attributes\":{},\"id\":\"5fbc0677-6143-4d23-9a3f-165b94a46da9\",\"type\":\"BasicTickFormatter\"},{\"attributes\":{},\"id\":\"afc2dbcf-b8fe-43ab-af4b-185e5af92a87\",\"type\":\"LinearScale\"},{\"attributes\":{},\"id\":\"353c7699-6271-491b-ab6d-a4ede46c7a7f\",\"type\":\"Selection\"},{\"attributes\":{},\"id\":\"10af0893-c911-4ca1-8e0f-196ab3db9090\",\"type\":\"LinearScale\"},{\"attributes\":{},\"id\":\"a507231f-a56c-463f-9bae-b1e299d4ebdc\",\"type\":\"BasicTickFormatter\"},{\"attributes\":{},\"id\":\"a92dbeea-bdfe-489e-812b-2bf938bc36b5\",\"type\":\"UnionRenderers\"},{\"attributes\":{\"plot\":{\"id\":\"5defae3a-4476-4ee0-a532-27f53b5a9f1f\",\"subtype\":\"Figure\",\"type\":\"Plot\"},\"ticker\":{\"id\":\"c95c3bcd-a553-4e68-97c2-4325b6c6eeb4\",\"type\":\"BasicTicker\"}},\"id\":\"03379363-60ce-4e73-a82c-9036d187081c\",\"type\":\"Grid\"},{\"attributes\":{},\"id\":\"ae004cc4-f8ec-4e8e-8ed5-b66dbe8e0e55\",\"type\":\"Selection\"},{\"attributes\":{},\"id\":\"0af422b3-dee5-4c75-b113-88e664c20a8f\",\"type\":\"Selection\"},{\"attributes\":{},\"id\":\"30f186a9-1a6d-4d98-b83a-885c898dc79c\",\"type\":\"UnionRenderers\"},{\"attributes\":{\"axis_label\":\"Weights (slopes)\",\"formatter\":{\"id\":\"a507231f-a56c-463f-9bae-b1e299d4ebdc\",\"type\":\"BasicTickFormatter\"},\"plot\":{\"id\":\"5defae3a-4476-4ee0-a532-27f53b5a9f1f\",\"subtype\":\"Figure\",\"type\":\"Plot\"},\"ticker\":{\"id\":\"c95c3bcd-a553-4e68-97c2-4325b6c6eeb4\",\"type\":\"BasicTicker\"}},\"id\":\"963856f3-0d5a-4573-be16-b98ae8095c31\",\"type\":\"LinearAxis\"},{\"attributes\":{},\"id\":\"c95c3bcd-a553-4e68-97c2-4325b6c6eeb4\",\"type\":\"BasicTicker\"},{\"attributes\":{\"axis_label\":\"Loss (Cost/Error)\",\"formatter\":{\"id\":\"5fbc0677-6143-4d23-9a3f-165b94a46da9\",\"type\":\"BasicTickFormatter\"},\"plot\":{\"id\":\"5defae3a-4476-4ee0-a532-27f53b5a9f1f\",\"subtype\":\"Figure\",\"type\":\"Plot\"},\"ticker\":{\"id\":\"bf0a06b7-c0af-4099-b078-1f8a4208b92d\",\"type\":\"BasicTicker\"}},\"id\":\"568c439f-4c0e-4f73-88a5-6a58426c0c61\",\"type\":\"LinearAxis\"},{\"attributes\":{},\"id\":\"bf0a06b7-c0af-4099-b078-1f8a4208b92d\",\"type\":\"BasicTicker\"},{\"attributes\":{\"bottom_units\":\"screen\",\"fill_alpha\":{\"value\":0.5},\"fill_color\":{\"value\":\"lightgrey\"},\"left_units\":\"screen\",\"level\":\"overlay\",\"line_alpha\":{\"value\":1.0},\"line_color\":{\"value\":\"black\"},\"line_dash\":[4,4],\"line_width\":{\"value\":2},\"plot\":null,\"render_mode\":\"css\",\"right_units\":\"screen\",\"top_units\":\"screen\"},\"id\":\"39796695-dbbc-46e0-a7e9-10b25e6734fa\",\"type\":\"BoxAnnotation\"},{\"attributes\":{},\"id\":\"78907015-1680-4f9f-a662-ae6667751c72\",\"type\":\"Selection\"},{\"attributes\":{\"callback\":null,\"overlay\":{\"id\":\"39796695-dbbc-46e0-a7e9-10b25e6734fa\",\"type\":\"BoxAnnotation\"}},\"id\":\"68a4caaf-3c3d-4f1c-a26a-6eddc745999c\",\"type\":\"BoxSelectTool\"},{\"attributes\":{},\"id\":\"b2d508c5-e7c6-4785-923d-122942e5b8bf\",\"type\":\"UnionRenderers\"},{\"attributes\":{\"callback\":null,\"overlay\":{\"id\":\"396219aa-682f-4521-837f-af7f69abab4f\",\"type\":\"PolyAnnotation\"}},\"id\":\"80fa037b-5f08-4a63-9b16-b9f702f192fe\",\"type\":\"LassoSelectTool\"},{\"attributes\":{},\"id\":\"f7a5945d-e9ef-4df5-ad46-c6af6894629f\",\"type\":\"PanTool\"},{\"attributes\":{\"overlay\":{\"id\":\"e2a7f7c2-cefe-48f4-a336-2276355eca05\",\"type\":\"BoxAnnotation\"}},\"id\":\"eb90823d-852c-4168-9952-5dcb15092853\",\"type\":\"BoxZoomTool\"},{\"attributes\":{\"data_source\":{\"id\":\"7d00371a-a21d-42a5-ac65-3a221ea7e3e0\",\"type\":\"ColumnDataSource\"},\"glyph\":{\"id\":\"d9840585-51df-4964-b298-652dcb3ca590\",\"type\":\"Line\"},\"hover_glyph\":null,\"muted_glyph\":null,\"nonselection_glyph\":{\"id\":\"862a49f2-80b2-476b-bbf1-8a10c2fb1098\",\"type\":\"Line\"},\"selection_glyph\":null,\"view\":{\"id\":\"dc1006e0-ec86-48ca-a557-eb1210c49b27\",\"type\":\"CDSView\"}},\"id\":\"494c6699-9991-459e-8532-e2a8edf35f8c\",\"type\":\"GlyphRenderer\"},{\"attributes\":{\"line_color\":\"#1f77b4\",\"x\":{\"field\":\"x\"},\"y\":{\"field\":\"y\"}},\"id\":\"d9840585-51df-4964-b298-652dcb3ca590\",\"type\":\"Line\"},{\"attributes\":{\"fill_alpha\":{\"value\":0.5},\"fill_color\":{\"value\":\"lightgrey\"},\"level\":\"overlay\",\"line_alpha\":{\"value\":1.0},\"line_color\":{\"value\":\"black\"},\"line_dash\":[4,4],\"line_width\":{\"value\":2},\"plot\":null,\"xs_units\":\"screen\",\"ys_units\":\"screen\"},\"id\":\"396219aa-682f-4521-837f-af7f69abab4f\",\"type\":\"PolyAnnotation\"},{\"attributes\":{\"bottom_units\":\"screen\",\"fill_alpha\":{\"value\":0.5},\"fill_color\":{\"value\":\"lightgrey\"},\"left_units\":\"screen\",\"level\":\"overlay\",\"line_alpha\":{\"value\":1.0},\"line_color\":{\"value\":\"black\"},\"line_dash\":[4,4],\"line_width\":{\"value\":2},\"plot\":null,\"render_mode\":\"css\",\"right_units\":\"screen\",\"top_units\":\"screen\"},\"id\":\"e2a7f7c2-cefe-48f4-a336-2276355eca05\",\"type\":\"BoxAnnotation\"},{\"attributes\":{\"line_alpha\":0.1,\"line_color\":\"#1f77b4\",\"x\":{\"field\":\"x\"},\"y\":{\"field\":\"y\"}},\"id\":\"862a49f2-80b2-476b-bbf1-8a10c2fb1098\",\"type\":\"Line\"},{\"attributes\":{\"source\":{\"id\":\"7d00371a-a21d-42a5-ac65-3a221ea7e3e0\",\"type\":\"ColumnDataSource\"}},\"id\":\"dc1006e0-ec86-48ca-a557-eb1210c49b27\",\"type\":\"CDSView\"}],\"root_ids\":[\"1d7e41d3-8f9b-4e53-8957-513ae97f7767\"]},\"title\":\"Bokeh Application\",\"version\":\"0.12.16\"}};\n",
       "  var render_items = [{\"docid\":\"52968eaa-c2c8-424f-be96-95252e136612\",\"elementid\":\"5b32bf37-84ee-403c-afcb-5d95dffd1858\",\"modelid\":\"1d7e41d3-8f9b-4e53-8957-513ae97f7767\",\"notebook_comms_target\":\"b9dab8ec-5b8f-489c-99b3-2a997ac2fa0f\"}];\n",
       "  root.Bokeh.embed.embed_items_notebook(docs_json, render_items);\n",
       "\n",
       "  }\n",
       "  if (root.Bokeh !== undefined) {\n",
       "    embed_document(root);\n",
       "  } else {\n",
       "    var attempts = 0;\n",
       "    var timer = setInterval(function(root) {\n",
       "      if (root.Bokeh !== undefined) {\n",
       "        embed_document(root);\n",
       "        clearInterval(timer);\n",
       "      }\n",
       "      attempts++;\n",
       "      if (attempts > 100) {\n",
       "        console.log(\"Bokeh: ERROR: Unable to run BokehJS code because BokehJS library is missing\")\n",
       "        clearInterval(timer);\n",
       "      }\n",
       "    }, 10, root)\n",
       "  }\n",
       "})(window);"
      ],
      "application/vnd.bokehjs_exec.v0+json": ""
     },
     "metadata": {
      "application/vnd.bokehjs_exec.v0+json": {
       "id": "1d7e41d3-8f9b-4e53-8957-513ae97f7767"
      }
     },
     "output_type": "display_data"
    },
    {
     "data": {
      "text/html": [
       "<p><code>&lt;Bokeh Notebook handle for <strong>In[2]</strong>&gt;</code></p>"
      ],
      "text/plain": [
       "<bokeh.io.notebook.CommsHandle at 0x7f47bd0bad30>"
      ]
     },
     "execution_count": 15,
     "metadata": {},
     "output_type": "execute_result"
    }
   ],
   "source": [
    "layout = column(row(slider_slope, slider_intercept),row(plot1, plot2))\n",
    "show(layout, notebook_handle=True)"
   ]
  },
  {
   "cell_type": "code",
   "execution_count": 12,
   "metadata": {},
   "outputs": [
    {
     "data": {
      "text/plain": [
       "(69.232850779510017, 66.760690423162586)"
      ]
     },
     "execution_count": 12,
     "metadata": {},
     "output_type": "execute_result"
    }
   ],
   "source": [
    "source.data['Father'].mean(), source.data['Height'].mean()"
   ]
  },
  {
   "cell_type": "code",
   "execution_count": 13,
   "metadata": {},
   "outputs": [
    {
     "data": {
      "text/plain": [
       "(0.39938126589856471, 39.110386837075403)"
      ]
     },
     "execution_count": 13,
     "metadata": {},
     "output_type": "execute_result"
    }
   ],
   "source": [
    "slope,intercept"
   ]
  },
  {
   "cell_type": "code",
   "execution_count": null,
   "metadata": {},
   "outputs": [],
   "source": []
  }
 ],
 "metadata": {
  "anaconda-cloud": {
   "attach-environment": true,
   "environment": "root",
   "summary": "interactive notebook to understand linear regressions",
   "url": "https://anaconda.org/okenfor/towards-mediocrity"
  },
  "kernelspec": {
   "display_name": "Python [default]",
   "language": "python",
   "name": "python3"
  },
  "language_info": {
   "codemirror_mode": {
    "name": "ipython",
    "version": 3
   },
   "file_extension": ".py",
   "mimetype": "text/x-python",
   "name": "python",
   "nbconvert_exporter": "python",
   "pygments_lexer": "ipython3",
   "version": "3.6.5"
  },
  "widgets": {
   "application/vnd.jupyter.widget-state+json": {
    "state": {
     "02e618ef665a4c2c931ff2852ffaf476": {
      "model_module": "@jupyter-widgets/controls",
      "model_module_version": "1.2.0",
      "model_name": "FloatSliderModel",
      "state": {
       "description": "slope",
       "layout": "IPY_MODEL_84e252f806204de1aaa143a964a348f1",
       "max": 1.8,
       "min": -1,
       "step": 0.02828282828282828,
       "style": "IPY_MODEL_aaaa408afe074fc9979bf8c33b236d13",
       "value": 0.86667
      }
     },
     "06cbdd0ab66541ef8284a86bb9566b35": {
      "model_module": "@jupyter-widgets/base",
      "model_module_version": "1.0.0",
      "model_name": "LayoutModel",
      "state": {}
     },
     "2975a6d985d2463b880d8be04d765bb7": {
      "model_module": "@jupyter-widgets/controls",
      "model_module_version": "1.2.0",
      "model_name": "SliderStyleModel",
      "state": {
       "description_width": ""
      }
     },
     "37bdd24b2642469f8af59599f4becca8": {
      "model_module": "@jupyter-widgets/base",
      "model_module_version": "1.0.0",
      "model_name": "LayoutModel",
      "state": {}
     },
     "43b600d8ba814322af394745f521103c": {
      "model_module": "@jupyter-widgets/output",
      "model_module_version": "1.0.0",
      "model_name": "OutputModel",
      "state": {
       "layout": "IPY_MODEL_973a0c5941634ec294fd6b81dd0ff766"
      }
     },
     "4feb1e7937944310a27d3200b31b91a0": {
      "model_module": "@jupyter-widgets/controls",
      "model_module_version": "1.2.0",
      "model_name": "VBoxModel",
      "state": {
       "_dom_classes": [
        "widget-interact"
       ],
       "children": [
        "IPY_MODEL_899ecf11d0a54c729e8b936b4a708c97",
        "IPY_MODEL_66d3dd79dc8a42ebb7c14dad24564aab",
        "IPY_MODEL_43b600d8ba814322af394745f521103c"
       ],
       "layout": "IPY_MODEL_c24268952f9c4fa391ef2f85b3c5fc70"
      }
     },
     "60c3bf6bcc114424bd84a0f4ebbb54e8": {
      "model_module": "@jupyter-widgets/controls",
      "model_module_version": "1.2.0",
      "model_name": "VBoxModel",
      "state": {
       "_dom_classes": [
        "widget-interact"
       ],
       "children": [
        "IPY_MODEL_02e618ef665a4c2c931ff2852ffaf476",
        "IPY_MODEL_848a722bd5f94f44ae490bc776c6c5b7",
        "IPY_MODEL_d55972c198d34137997d00e4bdd7b6ca"
       ],
       "layout": "IPY_MODEL_b25b7d2589a2484db5a1c20f00f9b593"
      }
     },
     "66d3dd79dc8a42ebb7c14dad24564aab": {
      "model_module": "@jupyter-widgets/controls",
      "model_module_version": "1.2.0",
      "model_name": "FloatSliderModel",
      "state": {
       "description": "intercept",
       "layout": "IPY_MODEL_fd4910a58ede412ab7ff14d0e84cd4a2",
       "max": 80,
       "min": 30,
       "style": "IPY_MODEL_d72b0321891441d4b7886447e1e73b76",
       "value": 80
      }
     },
     "6c68401eed484fccb4809f192cd70b0c": {
      "model_module": "@jupyter-widgets/base",
      "model_module_version": "1.0.0",
      "model_name": "LayoutModel",
      "state": {}
     },
     "848a722bd5f94f44ae490bc776c6c5b7": {
      "model_module": "@jupyter-widgets/controls",
      "model_module_version": "1.2.0",
      "model_name": "FloatSliderModel",
      "state": {
       "description": "intercept",
       "layout": "IPY_MODEL_6c68401eed484fccb4809f192cd70b0c",
       "max": 80,
       "min": 30,
       "style": "IPY_MODEL_2975a6d985d2463b880d8be04d765bb7",
       "value": 32
      }
     },
     "84e252f806204de1aaa143a964a348f1": {
      "model_module": "@jupyter-widgets/base",
      "model_module_version": "1.0.0",
      "model_name": "LayoutModel",
      "state": {}
     },
     "899ecf11d0a54c729e8b936b4a708c97": {
      "model_module": "@jupyter-widgets/controls",
      "model_module_version": "1.2.0",
      "model_name": "FloatSliderModel",
      "state": {
       "description": "slope",
       "layout": "IPY_MODEL_37bdd24b2642469f8af59599f4becca8",
       "max": 1.8,
       "min": -1,
       "step": 0.02828282828282828,
       "style": "IPY_MODEL_e8c15b96c8884772a02ca1f1182e1fb1",
       "value": 0.10303
      }
     },
     "973a0c5941634ec294fd6b81dd0ff766": {
      "model_module": "@jupyter-widgets/base",
      "model_module_version": "1.0.0",
      "model_name": "LayoutModel",
      "state": {}
     },
     "aaaa408afe074fc9979bf8c33b236d13": {
      "model_module": "@jupyter-widgets/controls",
      "model_module_version": "1.2.0",
      "model_name": "SliderStyleModel",
      "state": {
       "description_width": ""
      }
     },
     "b25b7d2589a2484db5a1c20f00f9b593": {
      "model_module": "@jupyter-widgets/base",
      "model_module_version": "1.0.0",
      "model_name": "LayoutModel",
      "state": {}
     },
     "c24268952f9c4fa391ef2f85b3c5fc70": {
      "model_module": "@jupyter-widgets/base",
      "model_module_version": "1.0.0",
      "model_name": "LayoutModel",
      "state": {}
     },
     "d55972c198d34137997d00e4bdd7b6ca": {
      "model_module": "@jupyter-widgets/output",
      "model_module_version": "1.0.0",
      "model_name": "OutputModel",
      "state": {
       "layout": "IPY_MODEL_06cbdd0ab66541ef8284a86bb9566b35"
      }
     },
     "d72b0321891441d4b7886447e1e73b76": {
      "model_module": "@jupyter-widgets/controls",
      "model_module_version": "1.2.0",
      "model_name": "SliderStyleModel",
      "state": {
       "description_width": ""
      }
     },
     "e8c15b96c8884772a02ca1f1182e1fb1": {
      "model_module": "@jupyter-widgets/controls",
      "model_module_version": "1.2.0",
      "model_name": "SliderStyleModel",
      "state": {
       "description_width": ""
      }
     },
     "fd4910a58ede412ab7ff14d0e84cd4a2": {
      "model_module": "@jupyter-widgets/base",
      "model_module_version": "1.0.0",
      "model_name": "LayoutModel",
      "state": {}
     }
    },
    "version_major": 2,
    "version_minor": 0
   }
  }
 },
 "nbformat": 4,
 "nbformat_minor": 2
}
