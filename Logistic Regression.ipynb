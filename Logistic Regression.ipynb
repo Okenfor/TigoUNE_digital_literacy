{
 "cells": [
  {
   "cell_type": "markdown",
   "metadata": {},
   "source": [
    "# Welcome to Jupyter!"
   ]
  },
  {
   "cell_type": "markdown",
   "metadata": {},
   "source": [
    "This repo contains an introduction to [Jupyter](https://jupyter.org) and [IPython](https://ipython.org).\n",
    "\n",
    "Outline of some basics:\n",
    "\n",
    "* [Notebook Basics](../examples/Notebook/Notebook Basics.ipynb)\n",
    "* [IPython - beyond plain python](../examples/IPython Kernel/Beyond Plain Python.ipynb)\n",
    "* [Markdown Cells](../examples/Notebook/Working With Markdown Cells.ipynb)\n",
    "* [Rich Display System](../examples/IPython Kernel/Rich Output.ipynb)\n",
    "* [Custom Display logic](../examples/IPython%20Kernel/Custom%20Display%20Logic.ipynb)\n",
    "* [Running a Secure Public Notebook Server](../examples/Notebook/Running%20the%20Notebook%20Server.ipynb#Securing-the-notebook-server)\n",
    "* [How Jupyter works](../examples/Notebook/Multiple%20Languages%2C%20Frontends.ipynb) to run code in different languages."
   ]
  },
  {
   "cell_type": "code",
   "execution_count": 3,
   "metadata": {},
   "outputs": [
    {
     "name": "stdout",
     "output_type": "stream",
     "text": [
      "Requirement already satisfied: numpy in /home/p.perez/anaconda3/lib/python3.6/site-packages (1.14.3)\n",
      "Requirement already satisfied: sklearn in /home/p.perez/anaconda3/lib/python3.6/site-packages (0.0)\n",
      "Requirement already satisfied: seaborn in /home/p.perez/anaconda3/lib/python3.6/site-packages (0.8.1)\n",
      "Requirement already satisfied: scikit-learn in /home/p.perez/anaconda3/lib/python3.6/site-packages (from sklearn) (0.19.0)\n",
      "Requirement already satisfied: scipy in /home/p.perez/anaconda3/lib/python3.6/site-packages (from seaborn) (1.1.0)\n",
      "Requirement already satisfied: matplotlib in /home/p.perez/anaconda3/lib/python3.6/site-packages (from seaborn) (2.2.2)\n",
      "Requirement already satisfied: pandas in /home/p.perez/anaconda3/lib/python3.6/site-packages (from seaborn) (0.23.0)\n",
      "Requirement already satisfied: cycler>=0.10 in /home/p.perez/anaconda3/lib/python3.6/site-packages (from matplotlib->seaborn) (0.10.0)\n",
      "Requirement already satisfied: pyparsing!=2.0.4,!=2.1.2,!=2.1.6,>=2.0.1 in /home/p.perez/anaconda3/lib/python3.6/site-packages (from matplotlib->seaborn) (2.2.0)\n",
      "Requirement already satisfied: python-dateutil>=2.1 in /home/p.perez/anaconda3/lib/python3.6/site-packages (from matplotlib->seaborn) (2.7.3)\n",
      "Requirement already satisfied: pytz in /home/p.perez/anaconda3/lib/python3.6/site-packages (from matplotlib->seaborn) (2018.4)\n",
      "Requirement already satisfied: six>=1.10 in /home/p.perez/anaconda3/lib/python3.6/site-packages (from matplotlib->seaborn) (1.11.0)\n",
      "Requirement already satisfied: kiwisolver>=1.0.1 in /home/p.perez/anaconda3/lib/python3.6/site-packages (from matplotlib->seaborn) (1.0.1)\n",
      "Requirement already satisfied: setuptools in /home/p.perez/anaconda3/lib/python3.6/site-packages (from kiwisolver>=1.0.1->matplotlib->seaborn) (39.1.0)\n",
      "\u001b[31mtensorboard 1.8.0 has requirement bleach==1.5.0, but you'll have bleach 2.1.3 which is incompatible.\u001b[0m\n",
      "\u001b[31mbleach 2.1.3 has requirement html5lib!=1.0b1,!=1.0b2,!=1.0b3,!=1.0b4,!=1.0b5,!=1.0b6,!=1.0b7,!=1.0b8,>=0.99999999pre, but you'll have html5lib 0.9999999 which is incompatible.\u001b[0m\n"
     ]
    }
   ],
   "source": [
    "!pip install numpy sklearn seaborn"
   ]
  },
  {
   "cell_type": "code",
   "execution_count": 4,
   "metadata": {},
   "outputs": [],
   "source": [
    "from sklearn.linear_model import LogisticRegression\n",
    "from sklearn.datasets import make_classification\n",
    "import numpy as np\n",
    "import matplotlib.pyplot as plt\n",
    "import seaborn as sns\n",
    "sns.set(style=\"white\")"
   ]
  },
  {
   "cell_type": "code",
   "execution_count": 5,
   "metadata": {},
   "outputs": [],
   "source": [
    "X, y = make_classification(200, 2, 2, 0, weights=[.5, .5], random_state=15)\n",
    "xx, yy = np.mgrid[-5:5:.01, -5:5:.01]\n",
    "grid = np.c_[xx.ravel(), yy.ravel()]"
   ]
  },
  {
   "cell_type": "code",
   "execution_count": 6,
   "metadata": {},
   "outputs": [],
   "source": [
    "def sigmoid(z):\n",
    "    return 1/(1 + np.exp(-z))\n",
    "\n",
    "# calculate the cross-entropy error\n",
    "def cross_entropy(T, Y):\n",
    "    E = 0\n",
    "    for i in range(len(T)):\n",
    "        if T[i] == 1:\n",
    "            E -= np.log(Y[i])\n",
    "        else:\n",
    "            E -= np.log(1 - Y[i])\n",
    "    return E"
   ]
  },
  {
   "cell_type": "code",
   "execution_count": 7,
   "metadata": {},
   "outputs": [],
   "source": [
    "def plot_boundary(probs):\n",
    "    f, ax = plt.subplots(figsize=(8, 6))\n",
    "    contour = ax.contourf(xx, yy, probs, 25, cmap=\"RdBu\",\n",
    "                          vmin=0, vmax=1)\n",
    "    ax_c = f.colorbar(contour)\n",
    "    ax_c.set_label(\"$P(y = 1)$\")\n",
    "    ax_c.set_ticks([0, .25, .5, .75, 1])\n",
    "\n",
    "    ax.scatter(X[:,0], X[:, 1], c=y[:], s=50,\n",
    "               cmap=\"RdBu\", vmin=-.2, vmax=1.2,\n",
    "               edgecolor=\"white\", linewidth=1)\n",
    "\n",
    "    ax.set(aspect=\"equal\",\n",
    "           xlim=(-5, 5), ylim=(-5, 5),\n",
    "           xlabel=\"$X_1$\", ylabel=\"$X_2$\")\n",
    "    plt.show()"
   ]
  },
  {
   "cell_type": "code",
   "execution_count": 8,
   "metadata": {},
   "outputs": [
    {
     "name": "stdout",
     "output_type": "stream",
     "text": [
      "200 2\n"
     ]
    }
   ],
   "source": [
    "N = X.shape[0]\n",
    "D = X.shape[1]\n",
    "print(N, D)"
   ]
  },
  {
   "cell_type": "code",
   "execution_count": 9,
   "metadata": {},
   "outputs": [],
   "source": [
    "# add a column of ones\n",
    "ones = np.ones((N, 1))\n",
    "Xb = np.concatenate((ones, X[:]), axis=1)"
   ]
  },
  {
   "cell_type": "code",
   "execution_count": 10,
   "metadata": {},
   "outputs": [
    {
     "data": {
      "text/plain": [
       "array([[ 1.        ,  0.82944377,  0.87469415],\n",
       "       [ 1.        , -1.35989641, -0.60275371],\n",
       "       [ 1.        ,  0.35466551, -0.50966937],\n",
       "       [ 1.        , -1.71088888,  1.38437071],\n",
       "       [ 1.        , -1.07617622, -1.00007067],\n",
       "       [ 1.        ,  0.47945457, -0.24220938],\n",
       "       [ 1.        , -0.42490458,  2.08261939],\n",
       "       [ 1.        ,  0.41906228, -0.2525939 ],\n",
       "       [ 1.        , -0.38432027, -0.13768226],\n",
       "       [ 1.        ,  1.31672259,  1.29342882]])"
      ]
     },
     "execution_count": 10,
     "metadata": {},
     "output_type": "execute_result"
    }
   ],
   "source": [
    "Xb[:10]"
   ]
  },
  {
   "cell_type": "code",
   "execution_count": 11,
   "metadata": {},
   "outputs": [],
   "source": [
    "# randomly initialize the weights\n",
    "w = np.random.randn(D + 1)"
   ]
  },
  {
   "cell_type": "code",
   "execution_count": 12,
   "metadata": {},
   "outputs": [],
   "source": [
    "# calculate the model output\n",
    "z = Xb.dot(w)"
   ]
  },
  {
   "cell_type": "code",
   "execution_count": 13,
   "metadata": {},
   "outputs": [],
   "source": [
    "Y = sigmoid(z)"
   ]
  },
  {
   "cell_type": "code",
   "execution_count": 14,
   "metadata": {},
   "outputs": [
    {
     "name": "stdout",
     "output_type": "stream",
     "text": [
      "146.624345799\n",
      "52.1243738128\n",
      "50.265834121\n",
      "49.7925606511\n",
      "49.6170310112\n",
      "49.5408309424\n",
      "49.5043051216\n",
      "49.4854263614\n",
      "49.4750514682\n",
      "49.4690560247\n",
      "49.4654490413\n",
      "49.463210251\n",
      "49.4617878207\n",
      "49.4608685692\n",
      "49.4602672688\n",
      "49.4598706051\n",
      "49.4596074021\n",
      "49.4594320558\n",
      "49.4593149214\n",
      "49.459236529\n"
     ]
    }
   ],
   "source": [
    "# let's do gradient descent 100 times\n",
    "learning_rate = 0.01\n",
    "losses = []\n",
    "weights = []\n",
    "for i in range(200):\n",
    "    loss = cross_entropy(y, Y)\n",
    "    if i % 10 == 0:\n",
    "        print(loss)\n",
    "    \n",
    "    losses.append(loss)\n",
    "    weights.append(w)\n",
    "    # gradient descent weight udpate with regularization\n",
    "    # w += learning_rate * ( np.dot((T - Y).T, Xb) - 0.1*w ) # old\n",
    "    w += learning_rate * (Xb.T.dot(y - Y) - 0.1 * w)\n",
    "\n",
    "    # recalculate Y\n",
    "    Y = sigmoid(Xb.dot(w))"
   ]
  },
  {
   "cell_type": "code",
   "execution_count": 15,
   "metadata": {},
   "outputs": [
    {
     "name": "stdout",
     "output_type": "stream",
     "text": [
      "Final w: [-0.09115112 -1.04325947  3.14134503]\n"
     ]
    }
   ],
   "source": [
    "print(\"Final w:\", w)"
   ]
  },
  {
   "cell_type": "code",
   "execution_count": 16,
   "metadata": {},
   "outputs": [],
   "source": [
    "# add a column of ones\n",
    "ones = np.ones((len(grid)))\n",
    "grid_b = np.c_[ones.ravel(), xx.ravel(), yy.ravel()]"
   ]
  },
  {
   "cell_type": "code",
   "execution_count": 17,
   "metadata": {},
   "outputs": [
    {
     "name": "stdout",
     "output_type": "stream",
     "text": [
      "(1000000, 3)\n"
     ]
    },
    {
     "data": {
      "text/plain": [
       "(1000, 1000)"
      ]
     },
     "execution_count": 17,
     "metadata": {},
     "output_type": "execute_result"
    }
   ],
   "source": [
    "print(grid_b.shape)\n",
    "z = grid_b.dot(w)\n",
    "probs = sigmoid(z).reshape(xx.shape)\n",
    "probs.shape"
   ]
  },
  {
   "cell_type": "code",
   "execution_count": 18,
   "metadata": {},
   "outputs": [
    {
     "data": {
      "image/png": "[encoded data removed]",
      "text/plain": [
       "<Figure size 576x432 with 2 Axes>"
      ]
     },
     "metadata": {},
     "output_type": "display_data"
    }
   ],
   "source": [
    "plot_boundary(probs)"
   ]
  },
  {
   "cell_type": "code",
   "execution_count": 21,
   "metadata": {},
   "outputs": [
    {
     "data": {
      "text/plain": [
       "Text(0.5,0,'hypothesis h(x)')"
      ]
     },
     "execution_count": 21,
     "metadata": {},
     "output_type": "execute_result"
    },
    {
     "data": {
      "image/png": "[encoded data removed]",
      "text/plain": [
       "<Figure size 432x288 with 1 Axes>"
      ]
     },
     "metadata": {},
     "output_type": "display_data"
    }
   ],
   "source": [
    "z = Xb.dot(w)\n",
    "H = sigmoid(z)\n",
    "losses = -np.log(H)\n",
    "loss = cross_entropy(y, H)\n",
    "\n",
    "plt.plot(H, losses, marker='.', linestyle='none')\n",
    "plt.ylabel('loss')\n",
    "plt.xlabel('hypothesis h(x)')"
   ]
  },
  {
   "cell_type": "markdown",
   "metadata": {},
   "source": [
    "plotting line"
   ]
  },
  {
   "cell_type": "code",
   "execution_count": 24,
   "metadata": {},
   "outputs": [
    {
     "data": {
      "text/plain": [
       "49.459187003394135"
      ]
     },
     "execution_count": 24,
     "metadata": {},
     "output_type": "execute_result"
    }
   ],
   "source": [
    "loss"
   ]
  }
 ],
 "metadata": {
  "kernelspec": {
   "display_name": "Python [default]",
   "language": "python",
   "name": "python3"
  },
  "language_info": {
   "codemirror_mode": {
    "name": "ipython",
    "version": 3
   },
   "file_extension": ".py",
   "mimetype": "text/x-python",
   "name": "python",
   "nbconvert_exporter": "python",
   "pygments_lexer": "ipython3",
   "version": "3.6.5"
  }
 },
 "nbformat": 4,
 "nbformat_minor": 2
}
